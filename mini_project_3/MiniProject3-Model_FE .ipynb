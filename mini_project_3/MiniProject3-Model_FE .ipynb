{
 "cells": [
  {
   "cell_type": "markdown",
   "metadata": {},
   "source": [
    "# "
   ]
  },
  {
   "cell_type": "markdown",
   "metadata": {
    "colab_type": "text",
    "id": "Nji1a9ULLtCA"
   },
   "source": [
    "# Mini Project III - Twitter US Airline Sentiment Analysis"
   ]
  },
  {
   "cell_type": "markdown",
   "metadata": {
    "colab_type": "text",
    "id": "fnsX1AWKLtCE"
   },
   "source": [
    "## With Combined TF-IDF Vectors as features and Text/NLP"
   ]
  },
  {
   "cell_type": "markdown",
   "metadata": {
    "colab_type": "text",
    "id": "6pm8PttyLtCI"
   },
   "source": [
    "### Import libraries"
   ]
  },
  {
   "cell_type": "code",
   "execution_count": 1,
   "metadata": {
    "ExecuteTime": {
     "end_time": "2019-06-17T01:38:33.182995Z",
     "start_time": "2019-06-17T01:38:30.045388Z"
    },
    "colab": {},
    "colab_type": "code",
    "id": "EUANiH6zLtCK"
   },
   "outputs": [],
   "source": [
    "## Import Libraries\n",
    "import numpy as np\n",
    "import pandas as pd\n",
    "\n",
    "import matplotlib.pyplot as plt\n",
    "import seaborn as sns\n",
    "\n",
    "import string\n",
    "import spacy\n",
    "import regex as re\n",
    "from wordcloud import WordCloud, STOPWORDS\n",
    "\n",
    "from collections import Counter\n",
    "\n",
    "from sklearn.decomposition import LatentDirichletAllocation\n",
    "from sklearn.ensemble import GradientBoostingClassifier\n",
    "from sklearn.ensemble import RandomForestClassifier\n",
    "from sklearn.feature_extraction.text import CountVectorizer\n",
    "from sklearn.feature_extraction.text import TfidfVectorizer\n",
    "from sklearn.linear_model import LogisticRegression\n",
    "from sklearn.metrics import accuracy_score\n",
    "from sklearn.model_selection import train_test_split\n",
    "from sklearn.naive_bayes import MultinomialNB\n",
    "from sklearn.svm import LinearSVC\n",
    "\n",
    "\n",
    "from sklearn.preprocessing import StandardScaler\n",
    "from sklearn.model_selection import GridSearchCV\n",
    "from sklearn.model_selection import RandomizedSearchCV\n",
    "from sklearn.feature_selection import RFECV\n",
    "from sklearn import model_selection\n",
    "from sklearn.model_selection import cross_val_score\n",
    "\n",
    "from sklearn import metrics\n",
    "from sklearn.metrics import classification_report, confusion_matrix\n",
    "# import warnings\n",
    "# warnings.filterwarnings('ignore')\n",
    "\n",
    "%matplotlib inline"
   ]
  },
  {
   "cell_type": "markdown",
   "metadata": {
    "colab_type": "text",
    "id": "58bUNQA0LtCV"
   },
   "source": [
    "#### Load data"
   ]
  },
  {
   "cell_type": "code",
   "execution_count": 2,
   "metadata": {
    "ExecuteTime": {
     "end_time": "2019-06-17T01:38:42.024845Z",
     "start_time": "2019-06-17T01:38:41.896098Z"
    },
    "colab": {},
    "colab_type": "code",
    "id": "rwWFJprZLtCZ"
   },
   "outputs": [
    {
     "data": {
      "text/html": [
       "<div>\n",
       "<style scoped>\n",
       "    .dataframe tbody tr th:only-of-type {\n",
       "        vertical-align: middle;\n",
       "    }\n",
       "\n",
       "    .dataframe tbody tr th {\n",
       "        vertical-align: top;\n",
       "    }\n",
       "\n",
       "    .dataframe thead th {\n",
       "        text-align: right;\n",
       "    }\n",
       "</style>\n",
       "<table border=\"1\" class=\"dataframe\">\n",
       "  <thead>\n",
       "    <tr style=\"text-align: right;\">\n",
       "      <th></th>\n",
       "      <th>tweet_id</th>\n",
       "      <th>airline_sentiment</th>\n",
       "      <th>airline_sentiment_confidence</th>\n",
       "      <th>negativereason</th>\n",
       "      <th>negativereason_confidence</th>\n",
       "      <th>airline</th>\n",
       "      <th>airline_sentiment_gold</th>\n",
       "      <th>name</th>\n",
       "      <th>negativereason_gold</th>\n",
       "      <th>retweet_count</th>\n",
       "      <th>text</th>\n",
       "      <th>tweet_coord</th>\n",
       "      <th>tweet_created</th>\n",
       "      <th>tweet_location</th>\n",
       "      <th>user_timezone</th>\n",
       "    </tr>\n",
       "  </thead>\n",
       "  <tbody>\n",
       "    <tr>\n",
       "      <th>0</th>\n",
       "      <td>570306133677760513</td>\n",
       "      <td>neutral</td>\n",
       "      <td>1.0000</td>\n",
       "      <td>NaN</td>\n",
       "      <td>NaN</td>\n",
       "      <td>Virgin America</td>\n",
       "      <td>NaN</td>\n",
       "      <td>cairdin</td>\n",
       "      <td>NaN</td>\n",
       "      <td>0</td>\n",
       "      <td>@VirginAmerica What @dhepburn said.</td>\n",
       "      <td>NaN</td>\n",
       "      <td>2015-02-24 11:35:52 -0800</td>\n",
       "      <td>NaN</td>\n",
       "      <td>Eastern Time (US &amp; Canada)</td>\n",
       "    </tr>\n",
       "    <tr>\n",
       "      <th>1</th>\n",
       "      <td>570301130888122368</td>\n",
       "      <td>positive</td>\n",
       "      <td>0.3486</td>\n",
       "      <td>NaN</td>\n",
       "      <td>0.0000</td>\n",
       "      <td>Virgin America</td>\n",
       "      <td>NaN</td>\n",
       "      <td>jnardino</td>\n",
       "      <td>NaN</td>\n",
       "      <td>0</td>\n",
       "      <td>@VirginAmerica plus you've added commercials t...</td>\n",
       "      <td>NaN</td>\n",
       "      <td>2015-02-24 11:15:59 -0800</td>\n",
       "      <td>NaN</td>\n",
       "      <td>Pacific Time (US &amp; Canada)</td>\n",
       "    </tr>\n",
       "    <tr>\n",
       "      <th>2</th>\n",
       "      <td>570301083672813571</td>\n",
       "      <td>neutral</td>\n",
       "      <td>0.6837</td>\n",
       "      <td>NaN</td>\n",
       "      <td>NaN</td>\n",
       "      <td>Virgin America</td>\n",
       "      <td>NaN</td>\n",
       "      <td>yvonnalynn</td>\n",
       "      <td>NaN</td>\n",
       "      <td>0</td>\n",
       "      <td>@VirginAmerica I didn't today... Must mean I n...</td>\n",
       "      <td>NaN</td>\n",
       "      <td>2015-02-24 11:15:48 -0800</td>\n",
       "      <td>Lets Play</td>\n",
       "      <td>Central Time (US &amp; Canada)</td>\n",
       "    </tr>\n",
       "    <tr>\n",
       "      <th>3</th>\n",
       "      <td>570301031407624196</td>\n",
       "      <td>negative</td>\n",
       "      <td>1.0000</td>\n",
       "      <td>Bad Flight</td>\n",
       "      <td>0.7033</td>\n",
       "      <td>Virgin America</td>\n",
       "      <td>NaN</td>\n",
       "      <td>jnardino</td>\n",
       "      <td>NaN</td>\n",
       "      <td>0</td>\n",
       "      <td>@VirginAmerica it's really aggressive to blast...</td>\n",
       "      <td>NaN</td>\n",
       "      <td>2015-02-24 11:15:36 -0800</td>\n",
       "      <td>NaN</td>\n",
       "      <td>Pacific Time (US &amp; Canada)</td>\n",
       "    </tr>\n",
       "    <tr>\n",
       "      <th>4</th>\n",
       "      <td>570300817074462722</td>\n",
       "      <td>negative</td>\n",
       "      <td>1.0000</td>\n",
       "      <td>Can't Tell</td>\n",
       "      <td>1.0000</td>\n",
       "      <td>Virgin America</td>\n",
       "      <td>NaN</td>\n",
       "      <td>jnardino</td>\n",
       "      <td>NaN</td>\n",
       "      <td>0</td>\n",
       "      <td>@VirginAmerica and it's a really big bad thing...</td>\n",
       "      <td>NaN</td>\n",
       "      <td>2015-02-24 11:14:45 -0800</td>\n",
       "      <td>NaN</td>\n",
       "      <td>Pacific Time (US &amp; Canada)</td>\n",
       "    </tr>\n",
       "  </tbody>\n",
       "</table>\n",
       "</div>"
      ],
      "text/plain": [
       "             tweet_id airline_sentiment  airline_sentiment_confidence  \\\n",
       "0  570306133677760513           neutral                        1.0000   \n",
       "1  570301130888122368          positive                        0.3486   \n",
       "2  570301083672813571           neutral                        0.6837   \n",
       "3  570301031407624196          negative                        1.0000   \n",
       "4  570300817074462722          negative                        1.0000   \n",
       "\n",
       "  negativereason  negativereason_confidence         airline  \\\n",
       "0            NaN                        NaN  Virgin America   \n",
       "1            NaN                     0.0000  Virgin America   \n",
       "2            NaN                        NaN  Virgin America   \n",
       "3     Bad Flight                     0.7033  Virgin America   \n",
       "4     Can't Tell                     1.0000  Virgin America   \n",
       "\n",
       "  airline_sentiment_gold        name negativereason_gold  retweet_count  \\\n",
       "0                    NaN     cairdin                 NaN              0   \n",
       "1                    NaN    jnardino                 NaN              0   \n",
       "2                    NaN  yvonnalynn                 NaN              0   \n",
       "3                    NaN    jnardino                 NaN              0   \n",
       "4                    NaN    jnardino                 NaN              0   \n",
       "\n",
       "                                                text tweet_coord  \\\n",
       "0                @VirginAmerica What @dhepburn said.         NaN   \n",
       "1  @VirginAmerica plus you've added commercials t...         NaN   \n",
       "2  @VirginAmerica I didn't today... Must mean I n...         NaN   \n",
       "3  @VirginAmerica it's really aggressive to blast...         NaN   \n",
       "4  @VirginAmerica and it's a really big bad thing...         NaN   \n",
       "\n",
       "               tweet_created tweet_location               user_timezone  \n",
       "0  2015-02-24 11:35:52 -0800            NaN  Eastern Time (US & Canada)  \n",
       "1  2015-02-24 11:15:59 -0800            NaN  Pacific Time (US & Canada)  \n",
       "2  2015-02-24 11:15:48 -0800      Lets Play  Central Time (US & Canada)  \n",
       "3  2015-02-24 11:15:36 -0800            NaN  Pacific Time (US & Canada)  \n",
       "4  2015-02-24 11:14:45 -0800            NaN  Pacific Time (US & Canada)  "
      ]
     },
     "execution_count": 2,
     "metadata": {},
     "output_type": "execute_result"
    }
   ],
   "source": [
    "## Loading the data\n",
    "df = pd.read_csv('./Data/Tweets.csv')\n",
    "df.head()\n"
   ]
  },
  {
   "cell_type": "markdown",
   "metadata": {
    "colab_type": "text",
    "id": "mILVIHomLtCf"
   },
   "source": [
    "## EDA\n",
    "\n",
    "#### Inspect the data\n",
    "\n",
    "- Check for\n",
    "    - **Number of features**\n",
    "    - **Data types**\n",
    "    - **Domains, Intervals**\n",
    "    - **Outliers** (are they valid or expurious data [read or measure errors])\n",
    "  \n",
    "    - **Missing Values** (coded [as zero of empty strings] or values not present)\n",
    "    - **Coded content** (classes identified by numbers or codes to represent absence of data)\n"
   ]
  },
  {
   "cell_type": "code",
   "execution_count": 3,
   "metadata": {},
   "outputs": [
    {
     "data": {
      "text/plain": [
       "(14640, 15)"
      ]
     },
     "execution_count": 3,
     "metadata": {},
     "output_type": "execute_result"
    }
   ],
   "source": [
    "df.shape"
   ]
  },
  {
   "cell_type": "code",
   "execution_count": 4,
   "metadata": {},
   "outputs": [
    {
     "name": "stdout",
     "output_type": "stream",
     "text": [
      "<class 'pandas.core.frame.DataFrame'>\n",
      "RangeIndex: 14640 entries, 0 to 14639\n",
      "Data columns (total 15 columns):\n",
      " #   Column                        Non-Null Count  Dtype  \n",
      "---  ------                        --------------  -----  \n",
      " 0   tweet_id                      14640 non-null  int64  \n",
      " 1   airline_sentiment             14640 non-null  object \n",
      " 2   airline_sentiment_confidence  14640 non-null  float64\n",
      " 3   negativereason                9178 non-null   object \n",
      " 4   negativereason_confidence     10522 non-null  float64\n",
      " 5   airline                       14640 non-null  object \n",
      " 6   airline_sentiment_gold        40 non-null     object \n",
      " 7   name                          14640 non-null  object \n",
      " 8   negativereason_gold           32 non-null     object \n",
      " 9   retweet_count                 14640 non-null  int64  \n",
      " 10  text                          14640 non-null  object \n",
      " 11  tweet_coord                   1019 non-null   object \n",
      " 12  tweet_created                 14640 non-null  object \n",
      " 13  tweet_location                9907 non-null   object \n",
      " 14  user_timezone                 9820 non-null   object \n",
      "dtypes: float64(2), int64(2), object(11)\n",
      "memory usage: 1.7+ MB\n"
     ]
    }
   ],
   "source": [
    "df.info()"
   ]
  },
  {
   "cell_type": "markdown",
   "metadata": {},
   "source": [
    "###### Check for **Null** values "
   ]
  },
  {
   "cell_type": "code",
   "execution_count": 5,
   "metadata": {},
   "outputs": [
    {
     "data": {
      "text/plain": [
       "tweet_id                            0\n",
       "airline_sentiment                   0\n",
       "airline_sentiment_confidence        0\n",
       "negativereason                   5462\n",
       "negativereason_confidence        4118\n",
       "airline                             0\n",
       "airline_sentiment_gold          14600\n",
       "name                                0\n",
       "negativereason_gold             14608\n",
       "retweet_count                       0\n",
       "text                                0\n",
       "tweet_coord                     13621\n",
       "tweet_created                       0\n",
       "tweet_location                   4733\n",
       "user_timezone                    4820\n",
       "dtype: int64"
      ]
     },
     "execution_count": 5,
     "metadata": {},
     "output_type": "execute_result"
    }
   ],
   "source": [
    "df.isnull().sum()"
   ]
  },
  {
   "cell_type": "markdown",
   "metadata": {},
   "source": [
    "###### Drop Columns with more than 50% null values and unrelateed features for sentiment analysis"
   ]
  },
  {
   "cell_type": "code",
   "execution_count": 6,
   "metadata": {},
   "outputs": [],
   "source": [
    "df_tweet=df.drop(['tweet_id' ,'airline_sentiment_confidence','negativereason_confidence','name','airline_sentiment_gold', 'negativereason_gold','retweet_count','tweet_coord','tweet_created','tweet_location','user_timezone'], axis = 1)"
   ]
  },
  {
   "cell_type": "code",
   "execution_count": 7,
   "metadata": {},
   "outputs": [
    {
     "data": {
      "text/html": [
       "<div>\n",
       "<style scoped>\n",
       "    .dataframe tbody tr th:only-of-type {\n",
       "        vertical-align: middle;\n",
       "    }\n",
       "\n",
       "    .dataframe tbody tr th {\n",
       "        vertical-align: top;\n",
       "    }\n",
       "\n",
       "    .dataframe thead th {\n",
       "        text-align: right;\n",
       "    }\n",
       "</style>\n",
       "<table border=\"1\" class=\"dataframe\">\n",
       "  <thead>\n",
       "    <tr style=\"text-align: right;\">\n",
       "      <th></th>\n",
       "      <th>airline_sentiment</th>\n",
       "      <th>negativereason</th>\n",
       "      <th>airline</th>\n",
       "      <th>text</th>\n",
       "    </tr>\n",
       "  </thead>\n",
       "  <tbody>\n",
       "    <tr>\n",
       "      <th>0</th>\n",
       "      <td>neutral</td>\n",
       "      <td>NaN</td>\n",
       "      <td>Virgin America</td>\n",
       "      <td>@VirginAmerica What @dhepburn said.</td>\n",
       "    </tr>\n",
       "    <tr>\n",
       "      <th>1</th>\n",
       "      <td>positive</td>\n",
       "      <td>NaN</td>\n",
       "      <td>Virgin America</td>\n",
       "      <td>@VirginAmerica plus you've added commercials t...</td>\n",
       "    </tr>\n",
       "    <tr>\n",
       "      <th>2</th>\n",
       "      <td>neutral</td>\n",
       "      <td>NaN</td>\n",
       "      <td>Virgin America</td>\n",
       "      <td>@VirginAmerica I didn't today... Must mean I n...</td>\n",
       "    </tr>\n",
       "    <tr>\n",
       "      <th>3</th>\n",
       "      <td>negative</td>\n",
       "      <td>Bad Flight</td>\n",
       "      <td>Virgin America</td>\n",
       "      <td>@VirginAmerica it's really aggressive to blast...</td>\n",
       "    </tr>\n",
       "    <tr>\n",
       "      <th>4</th>\n",
       "      <td>negative</td>\n",
       "      <td>Can't Tell</td>\n",
       "      <td>Virgin America</td>\n",
       "      <td>@VirginAmerica and it's a really big bad thing...</td>\n",
       "    </tr>\n",
       "  </tbody>\n",
       "</table>\n",
       "</div>"
      ],
      "text/plain": [
       "  airline_sentiment negativereason         airline  \\\n",
       "0           neutral            NaN  Virgin America   \n",
       "1          positive            NaN  Virgin America   \n",
       "2           neutral            NaN  Virgin America   \n",
       "3          negative     Bad Flight  Virgin America   \n",
       "4          negative     Can't Tell  Virgin America   \n",
       "\n",
       "                                                text  \n",
       "0                @VirginAmerica What @dhepburn said.  \n",
       "1  @VirginAmerica plus you've added commercials t...  \n",
       "2  @VirginAmerica I didn't today... Must mean I n...  \n",
       "3  @VirginAmerica it's really aggressive to blast...  \n",
       "4  @VirginAmerica and it's a really big bad thing...  "
      ]
     },
     "execution_count": 7,
     "metadata": {},
     "output_type": "execute_result"
    }
   ],
   "source": [
    "df_tweet.head()"
   ]
  },
  {
   "cell_type": "code",
   "execution_count": 8,
   "metadata": {},
   "outputs": [],
   "source": [
    "# # Drop Null values in Negative reason\n",
    "# df_tweet= df_tweet.dropna(axis=0, subset=['negativereason'])"
   ]
  },
  {
   "cell_type": "code",
   "execution_count": 9,
   "metadata": {},
   "outputs": [
    {
     "data": {
      "text/plain": [
       "airline_sentiment       0\n",
       "negativereason       5462\n",
       "airline                 0\n",
       "text                    0\n",
       "dtype: int64"
      ]
     },
     "execution_count": 9,
     "metadata": {},
     "output_type": "execute_result"
    }
   ],
   "source": [
    "df_tweet.isnull().sum()"
   ]
  },
  {
   "cell_type": "markdown",
   "metadata": {},
   "source": [
    "###### Check for **Zero** values "
   ]
  },
  {
   "cell_type": "code",
   "execution_count": 10,
   "metadata": {},
   "outputs": [
    {
     "data": {
      "text/plain": [
       "airline_sentiment    0\n",
       "negativereason       0\n",
       "airline              0\n",
       "text                 0\n",
       "dtype: int64"
      ]
     },
     "execution_count": 10,
     "metadata": {},
     "output_type": "execute_result"
    }
   ],
   "source": [
    "df_tweet.isin([0]).sum()"
   ]
  },
  {
   "cell_type": "markdown",
   "metadata": {},
   "source": [
    "###### check for value counts in each column"
   ]
  },
  {
   "cell_type": "code",
   "execution_count": 11,
   "metadata": {},
   "outputs": [
    {
     "data": {
      "text/plain": [
       "negative    9178\n",
       "neutral     3099\n",
       "positive    2363\n",
       "Name: airline_sentiment, dtype: int64"
      ]
     },
     "execution_count": 11,
     "metadata": {},
     "output_type": "execute_result"
    }
   ],
   "source": [
    "df_tweet['airline_sentiment'].value_counts()"
   ]
  },
  {
   "cell_type": "code",
   "execution_count": 12,
   "metadata": {},
   "outputs": [
    {
     "data": {
      "text/plain": [
       "Customer Service Issue         2910\n",
       "Late Flight                    1665\n",
       "Can't Tell                     1190\n",
       "Cancelled Flight                847\n",
       "Lost Luggage                    724\n",
       "Bad Flight                      580\n",
       "Flight Booking Problems         529\n",
       "Flight Attendant Complaints     481\n",
       "longlines                       178\n",
       "Damaged Luggage                  74\n",
       "Name: negativereason, dtype: int64"
      ]
     },
     "execution_count": 12,
     "metadata": {},
     "output_type": "execute_result"
    }
   ],
   "source": [
    "df_tweet['negativereason'].value_counts()"
   ]
  },
  {
   "cell_type": "code",
   "execution_count": 13,
   "metadata": {},
   "outputs": [
    {
     "data": {
      "text/plain": [
       "United            3822\n",
       "US Airways        2913\n",
       "American          2759\n",
       "Southwest         2420\n",
       "Delta             2222\n",
       "Virgin America     504\n",
       "Name: airline, dtype: int64"
      ]
     },
     "execution_count": 13,
     "metadata": {},
     "output_type": "execute_result"
    }
   ],
   "source": [
    "df_tweet['airline'].value_counts()"
   ]
  },
  {
   "cell_type": "code",
   "execution_count": 14,
   "metadata": {},
   "outputs": [],
   "source": [
    "# Select Data for Sentiment Analysis\n",
    "df_tweet['airline_sentiment'] = df_tweet['airline_sentiment'].replace(['negative','neutral','positive'],[-1,0,1])                "
   ]
  },
  {
   "cell_type": "code",
   "execution_count": 15,
   "metadata": {},
   "outputs": [],
   "source": [
    "df_tw=df_tweet.drop(['airline','negativereason'], axis = 1)"
   ]
  },
  {
   "cell_type": "code",
   "execution_count": 16,
   "metadata": {
    "ExecuteTime": {
     "end_time": "2019-06-17T01:39:24.213192Z",
     "start_time": "2019-06-17T01:39:24.209202Z"
    },
    "colab": {},
    "colab_type": "code",
    "id": "G9_8RbOeLtCh"
   },
   "outputs": [
    {
     "data": {
      "text/html": [
       "<div>\n",
       "<style scoped>\n",
       "    .dataframe tbody tr th:only-of-type {\n",
       "        vertical-align: middle;\n",
       "    }\n",
       "\n",
       "    .dataframe tbody tr th {\n",
       "        vertical-align: top;\n",
       "    }\n",
       "\n",
       "    .dataframe thead th {\n",
       "        text-align: right;\n",
       "    }\n",
       "</style>\n",
       "<table border=\"1\" class=\"dataframe\">\n",
       "  <thead>\n",
       "    <tr style=\"text-align: right;\">\n",
       "      <th></th>\n",
       "      <th>airline_sentiment</th>\n",
       "      <th>text</th>\n",
       "    </tr>\n",
       "  </thead>\n",
       "  <tbody>\n",
       "    <tr>\n",
       "      <th>0</th>\n",
       "      <td>0</td>\n",
       "      <td>@VirginAmerica What @dhepburn said.</td>\n",
       "    </tr>\n",
       "    <tr>\n",
       "      <th>1</th>\n",
       "      <td>1</td>\n",
       "      <td>@VirginAmerica plus you've added commercials t...</td>\n",
       "    </tr>\n",
       "    <tr>\n",
       "      <th>2</th>\n",
       "      <td>0</td>\n",
       "      <td>@VirginAmerica I didn't today... Must mean I n...</td>\n",
       "    </tr>\n",
       "    <tr>\n",
       "      <th>3</th>\n",
       "      <td>-1</td>\n",
       "      <td>@VirginAmerica it's really aggressive to blast...</td>\n",
       "    </tr>\n",
       "    <tr>\n",
       "      <th>4</th>\n",
       "      <td>-1</td>\n",
       "      <td>@VirginAmerica and it's a really big bad thing...</td>\n",
       "    </tr>\n",
       "  </tbody>\n",
       "</table>\n",
       "</div>"
      ],
      "text/plain": [
       "   airline_sentiment                                               text\n",
       "0                  0                @VirginAmerica What @dhepburn said.\n",
       "1                  1  @VirginAmerica plus you've added commercials t...\n",
       "2                  0  @VirginAmerica I didn't today... Must mean I n...\n",
       "3                 -1  @VirginAmerica it's really aggressive to blast...\n",
       "4                 -1  @VirginAmerica and it's a really big bad thing..."
      ]
     },
     "execution_count": 16,
     "metadata": {},
     "output_type": "execute_result"
    }
   ],
   "source": [
    "# ANSWER\n",
    "df_tw.head()"
   ]
  },
  {
   "cell_type": "code",
   "execution_count": 17,
   "metadata": {},
   "outputs": [
    {
     "data": {
      "text/html": [
       "<div>\n",
       "<style scoped>\n",
       "    .dataframe tbody tr th:only-of-type {\n",
       "        vertical-align: middle;\n",
       "    }\n",
       "\n",
       "    .dataframe tbody tr th {\n",
       "        vertical-align: top;\n",
       "    }\n",
       "\n",
       "    .dataframe thead th {\n",
       "        text-align: right;\n",
       "    }\n",
       "</style>\n",
       "<table border=\"1\" class=\"dataframe\">\n",
       "  <thead>\n",
       "    <tr style=\"text-align: right;\">\n",
       "      <th></th>\n",
       "      <th>airline_sentiment</th>\n",
       "      <th>text</th>\n",
       "    </tr>\n",
       "  </thead>\n",
       "  <tbody>\n",
       "    <tr>\n",
       "      <th>14635</th>\n",
       "      <td>1</td>\n",
       "      <td>@AmericanAir thank you we got on a different f...</td>\n",
       "    </tr>\n",
       "    <tr>\n",
       "      <th>14636</th>\n",
       "      <td>-1</td>\n",
       "      <td>@AmericanAir leaving over 20 minutes Late Flig...</td>\n",
       "    </tr>\n",
       "    <tr>\n",
       "      <th>14637</th>\n",
       "      <td>0</td>\n",
       "      <td>@AmericanAir Please bring American Airlines to...</td>\n",
       "    </tr>\n",
       "    <tr>\n",
       "      <th>14638</th>\n",
       "      <td>-1</td>\n",
       "      <td>@AmericanAir you have my money, you change my ...</td>\n",
       "    </tr>\n",
       "    <tr>\n",
       "      <th>14639</th>\n",
       "      <td>0</td>\n",
       "      <td>@AmericanAir we have 8 ppl so we need 2 know h...</td>\n",
       "    </tr>\n",
       "  </tbody>\n",
       "</table>\n",
       "</div>"
      ],
      "text/plain": [
       "       airline_sentiment                                               text\n",
       "14635                  1  @AmericanAir thank you we got on a different f...\n",
       "14636                 -1  @AmericanAir leaving over 20 minutes Late Flig...\n",
       "14637                  0  @AmericanAir Please bring American Airlines to...\n",
       "14638                 -1  @AmericanAir you have my money, you change my ...\n",
       "14639                  0  @AmericanAir we have 8 ppl so we need 2 know h..."
      ]
     },
     "execution_count": 17,
     "metadata": {},
     "output_type": "execute_result"
    }
   ],
   "source": [
    "df_tw.tail()"
   ]
  },
  {
   "cell_type": "code",
   "execution_count": 18,
   "metadata": {},
   "outputs": [
    {
     "data": {
      "text/plain": [
       "airline_sentiment    0\n",
       "text                 0\n",
       "dtype: int64"
      ]
     },
     "execution_count": 18,
     "metadata": {},
     "output_type": "execute_result"
    }
   ],
   "source": [
    "df_tw.isnull().sum()"
   ]
  },
  {
   "cell_type": "code",
   "execution_count": 19,
   "metadata": {},
   "outputs": [
    {
     "data": {
      "text/plain": [
       "(14640, 2)"
      ]
     },
     "execution_count": 19,
     "metadata": {},
     "output_type": "execute_result"
    }
   ],
   "source": [
    "df_tw.shape"
   ]
  },
  {
   "cell_type": "markdown",
   "metadata": {},
   "source": [
    "###### Data Cleaning for Analysis"
   ]
  },
  {
   "cell_type": "markdown",
   "metadata": {},
   "source": [
    "###### Step 1 - Clean text"
   ]
  },
  {
   "cell_type": "code",
   "execution_count": 20,
   "metadata": {},
   "outputs": [],
   "source": [
    "def clean_text(text):\n",
    "\n",
    "    # remove double quotes\n",
    "    text = re.sub(r'\"', '', text)\n",
    "    # remove @username \n",
    "    text = re.sub(r'@[\\w]*','',text)\n",
    "    # remove special characters, numbers, punctuations\n",
    "    text = re.sub(r'[^a-zA-Z#]', ' ', text)\n",
    "    # remove single characters\n",
    "    text = re.sub(r'\\s+[a-zA-Z]\\s+', ' ' , text)\n",
    "    # reduce multiple spaces and newlines to only one\n",
    "    text = re.sub(r'(\\s\\s+|\\n\\n+)', r'\\1', text)\n",
    "\n",
    "    return text"
   ]
  },
  {
   "cell_type": "code",
   "execution_count": 21,
   "metadata": {},
   "outputs": [],
   "source": [
    "# Clean Data\n",
    "df_tw['text'] = df_tw['text'].apply(clean_text)"
   ]
  },
  {
   "cell_type": "code",
   "execution_count": 22,
   "metadata": {},
   "outputs": [
    {
     "data": {
      "text/plain": [
       "0                                          What  said \n",
       "1     plus you ve added commercials to the experien...\n",
       "2     didn today    Must mean need to take another ...\n",
       "3     it really aggressive to blast obnoxious enter...\n",
       "4               and it a really big bad thing about it\n",
       "5     seriously would pay flight for seats that did...\n",
       "6     yes  nearly every time fly VX this  ear worm ...\n",
       "7     Really missed prime opportunity for Men Witho...\n",
       "8                            Well didn but NOW DO    D\n",
       "9     it was amazing  and arrived an hour early  Yo...\n",
       "Name: text, dtype: object"
      ]
     },
     "execution_count": 22,
     "metadata": {},
     "output_type": "execute_result"
    }
   ],
   "source": [
    "df_tw['text'].head(10)"
   ]
  },
  {
   "cell_type": "markdown",
   "metadata": {},
   "source": [
    "###### Step 2 - Remove stop words, puctuations and  perform lemmatization"
   ]
  },
  {
   "cell_type": "code",
   "execution_count": 23,
   "metadata": {},
   "outputs": [],
   "source": [
    "nlp = spacy.load('en_core_web_sm')"
   ]
  },
  {
   "cell_type": "code",
   "execution_count": 24,
   "metadata": {},
   "outputs": [],
   "source": [
    "# remove stop words, puctuations and  perform lemmatization\n",
    "def convert_text(text):\n",
    "    '''\n",
    "    Use techniques learned in previous labs. Remove StopWords, Punctuation, Lemmatize etc.\n",
    "    '''\n",
    "    doc = nlp(text)\n",
    "    t = [w for w in doc if not (w.is_stop | w.is_punct)]\n",
    "    x = [w.lemma_.lower() for w in t]\n",
    "\n",
    "    s= \" \".join(x)\n",
    "\n",
    "    return s"
   ]
  },
  {
   "cell_type": "code",
   "execution_count": 25,
   "metadata": {},
   "outputs": [
    {
     "name": "stdout",
     "output_type": "stream",
     "text": [
      "Wall time: 1min 16s\n"
     ]
    }
   ],
   "source": [
    "%%time\n",
    "df_tw['text'] = df_tw['text'].apply(convert_text)"
   ]
  },
  {
   "cell_type": "code",
   "execution_count": 26,
   "metadata": {},
   "outputs": [
    {
     "data": {
      "text/plain": [
       "0                                                  say\n",
       "1          plus ve add commercial experience     tacky\n",
       "2                        didn today     mean need trip\n",
       "3      aggressive blast obnoxious entertainment gue...\n",
       "4                                        big bad thing\n",
       "5      seriously pay flight seat didn play   bad th...\n",
       "6      yes   nearly time fly vx   ear worm   win aw...\n",
       "7      miss prime opportunity man hats parody     h...\n",
       "8                                           didn     d\n",
       "9                   amazing   arrive hour early   good\n",
       "Name: text, dtype: object"
      ]
     },
     "execution_count": 26,
     "metadata": {},
     "output_type": "execute_result"
    }
   ],
   "source": [
    "df_tw['text'].head(10)"
   ]
  },
  {
   "cell_type": "markdown",
   "metadata": {
    "colab_type": "text",
    "id": "6nUp6oDOLtC1"
   },
   "source": [
    "## Feature Engineering"
   ]
  },
  {
   "cell_type": "markdown",
   "metadata": {},
   "source": [
    "### Text / NLP based features\n",
    "\n",
    "Create some other features.\n",
    "\n",
    "Char_Count = Number of Characters in Text\n",
    "\n",
    "Word Count = Number of Words in Text\n",
    "\n",
    "Word Density = Average Number of Char in Words\n",
    "\n",
    "Punctuation Count = Number of Punctuation in Text\n",
    "\n",
    "Title Word Count = Number of Words in Title\n",
    "\n",
    "Uppercase Word Count = Number of Upperwords in Text"
   ]
  },
  {
   "cell_type": "code",
   "execution_count": 27,
   "metadata": {},
   "outputs": [],
   "source": [
    "def count_num(text):\n",
    "    \n",
    "    doc = nlp(text)\n",
    "    count = 0\n",
    "    for w in doc:\n",
    "        if w.pos_ == \"NOUN\":\n",
    "            count+=1\n",
    "            \n",
    "    return count\n",
    "\n",
    "def adj_count(text):\n",
    "    \n",
    "    doc = nlp(text)\n",
    "    count = 0\n",
    "    for w in doc:\n",
    "        if w.pos_ == \"ADJ\":\n",
    "            count+=1\n",
    "            \n",
    "    return count\n",
    "\n",
    "def adv_count(text):\n",
    "    \n",
    "    doc = nlp(text)\n",
    "    count = 0\n",
    "    for w in doc:\n",
    "        if w.pos_ == \"ADV\":\n",
    "            count+=1\n",
    "            \n",
    "    return count\n",
    "\n",
    "def propn_count(text):\n",
    "    \n",
    "    doc = nlp(text)\n",
    "    count = 0\n",
    "    for w in doc:\n",
    "        if w.pos_ == \"PRON\":\n",
    "            count+=1\n",
    "            \n",
    "    return count\n",
    "\n",
    "def num_count(text):\n",
    "    \n",
    "    doc = nlp(text)\n",
    "    count = 0\n",
    "    for w in doc:\n",
    "        if w.pos_ == \"NUM\":\n",
    "            count+=1\n",
    "            \n",
    "    return count\n",
    "\n",
    "def pron_count(text):\n",
    "    \n",
    "    doc = nlp(text)\n",
    "    count = 0\n",
    "    for w in doc:\n",
    "        if w.pos_ == \"PROPN\":\n",
    "            count+=1\n",
    "            \n",
    "    return count\n",
    "\n",
    "def verb_count(text):\n",
    "    \n",
    "    doc = nlp(text)\n",
    "    count = 0\n",
    "    for w in doc:\n",
    "        if w.pos_ == \"VERB\":\n",
    "            count+=1\n",
    "            \n",
    "    return count\n",
    "\n",
    "def sym_count(text):\n",
    "    \n",
    "    doc = nlp(text)\n",
    "    count = 0\n",
    "    for w in doc:\n",
    "        if w.pos_ == \"SYM\":\n",
    "            count+=1\n",
    "            \n",
    "    return count"
   ]
  },
  {
   "cell_type": "code",
   "execution_count": 28,
   "metadata": {},
   "outputs": [
    {
     "name": "stdout",
     "output_type": "stream",
     "text": [
      "Wall time: 116 ms\n"
     ]
    }
   ],
   "source": [
    "%%time\n",
    "# New Features\n",
    "\n",
    "df_tw['char_count'] = df_tw['text'].apply(len)\n",
    "df_tw['word_count'] = df_tw['text'].apply(lambda x: len(x.split()))\n",
    "df_tw['word_density'] = df_tw['char_count'] / (df_tw['word_count']+1)\n",
    "df_tw['punctuation_count'] = df_tw['text'].apply(lambda x: len(\"\".join(_ for _ in x if _ in string.punctuation))) \n",
    "# df_tw['title_word_count'] = df_tw['text'].apply(lambda x: len([wrd for wrd in x.split() if wrd.istitle()]))"
   ]
  },
  {
   "cell_type": "code",
   "execution_count": 29,
   "metadata": {},
   "outputs": [],
   "source": [
    "# Adding new features (pos)\n",
    "df_tw['noun_count'] = df_tw['text'].apply(count_num)\n",
    "df_tw['adj_count'] = df_tw['text'].apply(adj_count)\n",
    "df_tw['adv_count'] = df_tw['text'].apply(adv_count)\n",
    "df_tw['num_count'] = df_tw['text'].apply(num_count)\n",
    "df_tw['pron_count'] = df_tw['text'].apply(pron_count)\n",
    "df_tw['propn_count'] = df_tw['text'].apply(propn_count)\n",
    "df_tw['verb_count'] = df_tw['text'].apply(verb_count)\n",
    "df_tw['sym_count'] = df_tw['text'].apply(sym_count)"
   ]
  },
  {
   "cell_type": "code",
   "execution_count": 30,
   "metadata": {},
   "outputs": [
    {
     "data": {
      "text/html": [
       "<div>\n",
       "<style scoped>\n",
       "    .dataframe tbody tr th:only-of-type {\n",
       "        vertical-align: middle;\n",
       "    }\n",
       "\n",
       "    .dataframe tbody tr th {\n",
       "        vertical-align: top;\n",
       "    }\n",
       "\n",
       "    .dataframe thead th {\n",
       "        text-align: right;\n",
       "    }\n",
       "</style>\n",
       "<table border=\"1\" class=\"dataframe\">\n",
       "  <thead>\n",
       "    <tr style=\"text-align: right;\">\n",
       "      <th></th>\n",
       "      <th>airline_sentiment</th>\n",
       "      <th>text</th>\n",
       "      <th>char_count</th>\n",
       "      <th>word_count</th>\n",
       "      <th>word_density</th>\n",
       "      <th>punctuation_count</th>\n",
       "      <th>noun_count</th>\n",
       "      <th>adj_count</th>\n",
       "      <th>adv_count</th>\n",
       "      <th>num_count</th>\n",
       "      <th>pron_count</th>\n",
       "      <th>propn_count</th>\n",
       "      <th>verb_count</th>\n",
       "      <th>sym_count</th>\n",
       "    </tr>\n",
       "  </thead>\n",
       "  <tbody>\n",
       "    <tr>\n",
       "      <th>0</th>\n",
       "      <td>0</td>\n",
       "      <td>say</td>\n",
       "      <td>7</td>\n",
       "      <td>1</td>\n",
       "      <td>3.500000</td>\n",
       "      <td>0</td>\n",
       "      <td>0</td>\n",
       "      <td>0</td>\n",
       "      <td>0</td>\n",
       "      <td>0</td>\n",
       "      <td>0</td>\n",
       "      <td>0</td>\n",
       "      <td>1</td>\n",
       "      <td>0</td>\n",
       "    </tr>\n",
       "    <tr>\n",
       "      <th>1</th>\n",
       "      <td>1</td>\n",
       "      <td>plus ve add commercial experience     tacky</td>\n",
       "      <td>45</td>\n",
       "      <td>6</td>\n",
       "      <td>6.428571</td>\n",
       "      <td>0</td>\n",
       "      <td>1</td>\n",
       "      <td>1</td>\n",
       "      <td>1</td>\n",
       "      <td>0</td>\n",
       "      <td>0</td>\n",
       "      <td>0</td>\n",
       "      <td>1</td>\n",
       "      <td>0</td>\n",
       "    </tr>\n",
       "    <tr>\n",
       "      <th>2</th>\n",
       "      <td>0</td>\n",
       "      <td>didn today     mean need trip</td>\n",
       "      <td>31</td>\n",
       "      <td>5</td>\n",
       "      <td>5.166667</td>\n",
       "      <td>0</td>\n",
       "      <td>2</td>\n",
       "      <td>0</td>\n",
       "      <td>0</td>\n",
       "      <td>0</td>\n",
       "      <td>1</td>\n",
       "      <td>0</td>\n",
       "      <td>2</td>\n",
       "      <td>0</td>\n",
       "    </tr>\n",
       "    <tr>\n",
       "      <th>3</th>\n",
       "      <td>-1</td>\n",
       "      <td>aggressive blast obnoxious entertainment gue...</td>\n",
       "      <td>79</td>\n",
       "      <td>9</td>\n",
       "      <td>7.900000</td>\n",
       "      <td>0</td>\n",
       "      <td>4</td>\n",
       "      <td>3</td>\n",
       "      <td>0</td>\n",
       "      <td>0</td>\n",
       "      <td>1</td>\n",
       "      <td>0</td>\n",
       "      <td>1</td>\n",
       "      <td>0</td>\n",
       "    </tr>\n",
       "    <tr>\n",
       "      <th>4</th>\n",
       "      <td>-1</td>\n",
       "      <td>big bad thing</td>\n",
       "      <td>15</td>\n",
       "      <td>3</td>\n",
       "      <td>3.750000</td>\n",
       "      <td>0</td>\n",
       "      <td>1</td>\n",
       "      <td>2</td>\n",
       "      <td>0</td>\n",
       "      <td>0</td>\n",
       "      <td>0</td>\n",
       "      <td>0</td>\n",
       "      <td>0</td>\n",
       "      <td>0</td>\n",
       "    </tr>\n",
       "  </tbody>\n",
       "</table>\n",
       "</div>"
      ],
      "text/plain": [
       "   airline_sentiment                                               text  \\\n",
       "0                  0                                                say   \n",
       "1                  1        plus ve add commercial experience     tacky   \n",
       "2                  0                      didn today     mean need trip   \n",
       "3                 -1    aggressive blast obnoxious entertainment gue...   \n",
       "4                 -1                                      big bad thing   \n",
       "\n",
       "   char_count  word_count  word_density  punctuation_count  noun_count  \\\n",
       "0           7           1      3.500000                  0           0   \n",
       "1          45           6      6.428571                  0           1   \n",
       "2          31           5      5.166667                  0           2   \n",
       "3          79           9      7.900000                  0           4   \n",
       "4          15           3      3.750000                  0           1   \n",
       "\n",
       "   adj_count  adv_count  num_count  pron_count  propn_count  verb_count  \\\n",
       "0          0          0          0           0            0           1   \n",
       "1          1          1          0           0            0           1   \n",
       "2          0          0          0           1            0           2   \n",
       "3          3          0          0           1            0           1   \n",
       "4          2          0          0           0            0           0   \n",
       "\n",
       "   sym_count  \n",
       "0          0  \n",
       "1          0  \n",
       "2          0  \n",
       "3          0  \n",
       "4          0  "
      ]
     },
     "execution_count": 30,
     "metadata": {},
     "output_type": "execute_result"
    }
   ],
   "source": [
    "df_tw.head()"
   ]
  },
  {
   "cell_type": "code",
   "execution_count": 31,
   "metadata": {},
   "outputs": [],
   "source": [
    "features = ['char_count','word_count','word_density','punctuation_count','noun_count','adj_count','adv_count','num_count','pron_count','propn_count','verb_count','sym_count']"
   ]
  },
  {
   "cell_type": "markdown",
   "metadata": {},
   "source": [
    "### TF-IDF Vectors as features"
   ]
  },
  {
   "cell_type": "code",
   "execution_count": 32,
   "metadata": {},
   "outputs": [
    {
     "name": "stdout",
     "output_type": "stream",
     "text": [
      "Wall time: 183 ms\n"
     ]
    }
   ],
   "source": [
    "%%time\n",
    "# word level tf-idf\n",
    "tfidf_vect = TfidfVectorizer(analyzer = 'word',\n",
    "                             token_pattern = r'\\w{1,}',\n",
    "                             max_features = 5000)\n",
    "tfidf=tfidf_vect.fit_transform(df_tw['text']).toarray()\n",
    "text_vect = pd.DataFrame(tfidf)"
   ]
  },
  {
   "cell_type": "markdown",
   "metadata": {},
   "source": [
    "## Split the data into train and test"
   ]
  },
  {
   "cell_type": "code",
   "execution_count": 33,
   "metadata": {},
   "outputs": [],
   "source": [
    "# Features and Labels\n",
    "# merge all created features\n",
    "X = pd.merge(text_vect,df_tw[features],left_index=True, right_index=True)\n",
    "y = df_tw['airline_sentiment']\n",
    "# split the dataset\n",
    "X_train, X_test, y_train, y_test = train_test_split(X, y, test_size = 0.2, random_state = 42)"
   ]
  },
  {
   "cell_type": "code",
   "execution_count": 34,
   "metadata": {},
   "outputs": [
    {
     "data": {
      "text/plain": [
       "(11712, 5012)"
      ]
     },
     "execution_count": 34,
     "metadata": {},
     "output_type": "execute_result"
    }
   ],
   "source": [
    "X_train.shape"
   ]
  },
  {
   "cell_type": "code",
   "execution_count": 35,
   "metadata": {},
   "outputs": [
    {
     "data": {
      "text/plain": [
       "(11712,)"
      ]
     },
     "execution_count": 35,
     "metadata": {},
     "output_type": "execute_result"
    }
   ],
   "source": [
    "y_train.shape"
   ]
  },
  {
   "cell_type": "code",
   "execution_count": 36,
   "metadata": {},
   "outputs": [
    {
     "data": {
      "text/plain": [
       "(2928,)"
      ]
     },
     "execution_count": 36,
     "metadata": {},
     "output_type": "execute_result"
    }
   ],
   "source": [
    "y_test.shape"
   ]
  },
  {
   "cell_type": "code",
   "execution_count": 37,
   "metadata": {},
   "outputs": [
    {
     "data": {
      "text/plain": [
       "(2928, 5012)"
      ]
     },
     "execution_count": 37,
     "metadata": {},
     "output_type": "execute_result"
    }
   ],
   "source": [
    "X_test.shape"
   ]
  },
  {
   "cell_type": "markdown",
   "metadata": {
    "colab_type": "text",
    "id": "TtfnK1jeLtDl"
   },
   "source": [
    "## Modelling"
   ]
  },
  {
   "cell_type": "code",
   "execution_count": 38,
   "metadata": {},
   "outputs": [],
   "source": [
    "# Model evaluation function\n",
    "def evaluate_model(classifier, feature_vector_train, label_train, feature_vector_test,label_test):\n",
    "    # fit the training dataset on the classifier\n",
    "    classifier.fit(feature_vector_train, label_train)\n",
    "\n",
    "    # predict the labels on validation dataset\n",
    "    predictions = classifier.predict(feature_vector_test)\n",
    "    \n",
    "    # predict accuracy\n",
    "    print(f\" Accuracy Score for train data = {classifier.score(feature_vector_train, label_train)}\")\n",
    "    print(f\" Accuracy Score for test data = {classifier.score(feature_vector_test, label_test)}\")\n",
    "    \n",
    "    \n",
    "    # confusion matrix\n",
    "    log_cm = metrics.confusion_matrix(label_test, predictions,[-1,0,1])\n",
    "    sns.heatmap(log_cm, annot=True, fmt='.2f',xticklabels = [\"Negative\",\"Neutral\", \"Positive\"] , yticklabels = [\"Negative\",\"Neutral\", \"Positive\"],cmap='Blues' )\n",
    "    plt.title('Confusion Matrics')\n",
    "    plt.savefig('cm')\n",
    "    \n",
    "   \n",
    "    # Classification Report for test data\n",
    "    print(\"Classification Report for test data\")\n",
    "    print(classification_report(label_test, predictions))\n",
    "    \n",
    "    return classifier.score(feature_vector_test, label_test)"
   ]
  },
  {
   "cell_type": "code",
   "execution_count": 39,
   "metadata": {
    "ExecuteTime": {
     "end_time": "2019-06-17T02:34:14.900001Z",
     "start_time": "2019-06-17T02:34:14.894016Z"
    },
    "colab": {},
    "colab_type": "code",
    "id": "f_onpqUkLtDo"
   },
   "outputs": [],
   "source": [
    "# Keep the results in a dataframe\n",
    "results = pd.DataFrame(columns = ['WordLevel TF-IDF'])"
   ]
  },
  {
   "cell_type": "markdown",
   "metadata": {
    "colab_type": "text",
    "id": "OXwLriDpLtDq"
   },
   "source": [
    "### Naive Bayes Classifier"
   ]
  },
  {
   "cell_type": "code",
   "execution_count": 40,
   "metadata": {},
   "outputs": [
    {
     "name": "stdout",
     "output_type": "stream",
     "text": [
      " Accuracy Score for train data = 0.7318135245901639\n",
      " Accuracy Score for test data = 0.7151639344262295\n",
      "Wall time: 879 ms\n"
     ]
    }
   ],
   "source": [
    "%%time\n",
    "mnb_model = MultinomialNB()\n",
    "mnb_model.fit( X_train, y_train)\n",
    "# Score\n",
    "\n",
    "print(f\" Accuracy Score for train data = {mnb_model.score(X_train, y_train)}\")\n",
    "print(f\" Accuracy Score for test data = {mnb_model.score(X_test , y_test)}\")"
   ]
  },
  {
   "cell_type": "markdown",
   "metadata": {},
   "source": [
    "#### Naive Bayes Classifier Hyperparameter tuning on count vectors"
   ]
  },
  {
   "cell_type": "code",
   "execution_count": 41,
   "metadata": {},
   "outputs": [
    {
     "data": {
      "text/html": [
       "<div>\n",
       "<style scoped>\n",
       "    .dataframe tbody tr th:only-of-type {\n",
       "        vertical-align: middle;\n",
       "    }\n",
       "\n",
       "    .dataframe tbody tr th {\n",
       "        vertical-align: top;\n",
       "    }\n",
       "\n",
       "    .dataframe thead th {\n",
       "        text-align: right;\n",
       "    }\n",
       "</style>\n",
       "<table border=\"1\" class=\"dataframe\">\n",
       "  <thead>\n",
       "    <tr style=\"text-align: right;\">\n",
       "      <th></th>\n",
       "      <th>0</th>\n",
       "      <th>1</th>\n",
       "      <th>2</th>\n",
       "      <th>3</th>\n",
       "      <th>4</th>\n",
       "      <th>5</th>\n",
       "      <th>6</th>\n",
       "      <th>7</th>\n",
       "      <th>8</th>\n",
       "      <th>9</th>\n",
       "    </tr>\n",
       "  </thead>\n",
       "  <tbody>\n",
       "    <tr>\n",
       "      <th>mean_fit_time</th>\n",
       "      <td>0.387522</td>\n",
       "      <td>0.402862</td>\n",
       "      <td>0.401958</td>\n",
       "      <td>0.393953</td>\n",
       "      <td>0.387191</td>\n",
       "      <td>0.398728</td>\n",
       "      <td>0.390982</td>\n",
       "      <td>0.394249</td>\n",
       "      <td>0.414637</td>\n",
       "      <td>0.401284</td>\n",
       "    </tr>\n",
       "    <tr>\n",
       "      <th>std_fit_time</th>\n",
       "      <td>0.015638</td>\n",
       "      <td>0.010437</td>\n",
       "      <td>0.013363</td>\n",
       "      <td>0.011302</td>\n",
       "      <td>0.026011</td>\n",
       "      <td>0.006419</td>\n",
       "      <td>0.004724</td>\n",
       "      <td>0.011615</td>\n",
       "      <td>0.010687</td>\n",
       "      <td>0.014178</td>\n",
       "    </tr>\n",
       "    <tr>\n",
       "      <th>mean_score_time</th>\n",
       "      <td>0.105621</td>\n",
       "      <td>0.101622</td>\n",
       "      <td>0.09042</td>\n",
       "      <td>0.091817</td>\n",
       "      <td>0.101219</td>\n",
       "      <td>0.090722</td>\n",
       "      <td>0.095822</td>\n",
       "      <td>0.101054</td>\n",
       "      <td>0.104495</td>\n",
       "      <td>0.11176</td>\n",
       "    </tr>\n",
       "    <tr>\n",
       "      <th>std_score_time</th>\n",
       "      <td>0.014417</td>\n",
       "      <td>0.009137</td>\n",
       "      <td>0.008595</td>\n",
       "      <td>0.008082</td>\n",
       "      <td>0.010851</td>\n",
       "      <td>0.009779</td>\n",
       "      <td>0.013307</td>\n",
       "      <td>0.007734</td>\n",
       "      <td>0.014031</td>\n",
       "      <td>0.003466</td>\n",
       "    </tr>\n",
       "    <tr>\n",
       "      <th>param_alpha</th>\n",
       "      <td>0.01</td>\n",
       "      <td>0.01</td>\n",
       "      <td>0.1</td>\n",
       "      <td>0.1</td>\n",
       "      <td>0.5</td>\n",
       "      <td>0.5</td>\n",
       "      <td>1.0</td>\n",
       "      <td>1.0</td>\n",
       "      <td>10.0</td>\n",
       "      <td>10.0</td>\n",
       "    </tr>\n",
       "    <tr>\n",
       "      <th>param_fit_prior</th>\n",
       "      <td>True</td>\n",
       "      <td>False</td>\n",
       "      <td>True</td>\n",
       "      <td>False</td>\n",
       "      <td>True</td>\n",
       "      <td>False</td>\n",
       "      <td>True</td>\n",
       "      <td>False</td>\n",
       "      <td>True</td>\n",
       "      <td>False</td>\n",
       "    </tr>\n",
       "    <tr>\n",
       "      <th>params</th>\n",
       "      <td>{'alpha': 0.01, 'fit_prior': True}</td>\n",
       "      <td>{'alpha': 0.01, 'fit_prior': False}</td>\n",
       "      <td>{'alpha': 0.1, 'fit_prior': True}</td>\n",
       "      <td>{'alpha': 0.1, 'fit_prior': False}</td>\n",
       "      <td>{'alpha': 0.5, 'fit_prior': True}</td>\n",
       "      <td>{'alpha': 0.5, 'fit_prior': False}</td>\n",
       "      <td>{'alpha': 1.0, 'fit_prior': True}</td>\n",
       "      <td>{'alpha': 1.0, 'fit_prior': False}</td>\n",
       "      <td>{'alpha': 10.0, 'fit_prior': True}</td>\n",
       "      <td>{'alpha': 10.0, 'fit_prior': False}</td>\n",
       "    </tr>\n",
       "    <tr>\n",
       "      <th>split0_test_score</th>\n",
       "      <td>0.7277</td>\n",
       "      <td>0.701238</td>\n",
       "      <td>0.737089</td>\n",
       "      <td>0.705079</td>\n",
       "      <td>0.721724</td>\n",
       "      <td>0.719163</td>\n",
       "      <td>0.695689</td>\n",
       "      <td>0.724712</td>\n",
       "      <td>0.622279</td>\n",
       "      <td>0.622279</td>\n",
       "    </tr>\n",
       "    <tr>\n",
       "      <th>split1_test_score</th>\n",
       "      <td>0.727273</td>\n",
       "      <td>0.708067</td>\n",
       "      <td>0.735382</td>\n",
       "      <td>0.711908</td>\n",
       "      <td>0.722578</td>\n",
       "      <td>0.735809</td>\n",
       "      <td>0.697823</td>\n",
       "      <td>0.7277</td>\n",
       "      <td>0.622279</td>\n",
       "      <td>0.622279</td>\n",
       "    </tr>\n",
       "    <tr>\n",
       "      <th>split2_test_score</th>\n",
       "      <td>0.728864</td>\n",
       "      <td>0.706234</td>\n",
       "      <td>0.740393</td>\n",
       "      <td>0.70538</td>\n",
       "      <td>0.719471</td>\n",
       "      <td>0.715628</td>\n",
       "      <td>0.69257</td>\n",
       "      <td>0.712212</td>\n",
       "      <td>0.622545</td>\n",
       "      <td>0.622545</td>\n",
       "    </tr>\n",
       "    <tr>\n",
       "      <th>split3_test_score</th>\n",
       "      <td>0.733134</td>\n",
       "      <td>0.716482</td>\n",
       "      <td>0.733561</td>\n",
       "      <td>0.724167</td>\n",
       "      <td>0.72801</td>\n",
       "      <td>0.735269</td>\n",
       "      <td>0.699402</td>\n",
       "      <td>0.735269</td>\n",
       "      <td>0.622545</td>\n",
       "      <td>0.622545</td>\n",
       "    </tr>\n",
       "    <tr>\n",
       "      <th>split4_test_score</th>\n",
       "      <td>0.728437</td>\n",
       "      <td>0.695559</td>\n",
       "      <td>0.737404</td>\n",
       "      <td>0.699829</td>\n",
       "      <td>0.715628</td>\n",
       "      <td>0.717763</td>\n",
       "      <td>0.691716</td>\n",
       "      <td>0.720751</td>\n",
       "      <td>0.622118</td>\n",
       "      <td>0.622545</td>\n",
       "    </tr>\n",
       "    <tr>\n",
       "      <th>mean_test_score</th>\n",
       "      <td>0.729082</td>\n",
       "      <td>0.705516</td>\n",
       "      <td>0.736766</td>\n",
       "      <td>0.709273</td>\n",
       "      <td>0.721482</td>\n",
       "      <td>0.724726</td>\n",
       "      <td>0.69544</td>\n",
       "      <td>0.724129</td>\n",
       "      <td>0.622353</td>\n",
       "      <td>0.622439</td>\n",
       "    </tr>\n",
       "    <tr>\n",
       "      <th>std_test_score</th>\n",
       "      <td>0.002101</td>\n",
       "      <td>0.006996</td>\n",
       "      <td>0.002274</td>\n",
       "      <td>0.008375</td>\n",
       "      <td>0.004055</td>\n",
       "      <td>0.008902</td>\n",
       "      <td>0.002951</td>\n",
       "      <td>0.007624</td>\n",
       "      <td>0.000167</td>\n",
       "      <td>0.00013</td>\n",
       "    </tr>\n",
       "    <tr>\n",
       "      <th>rank_test_score</th>\n",
       "      <td>2</td>\n",
       "      <td>7</td>\n",
       "      <td>1</td>\n",
       "      <td>6</td>\n",
       "      <td>5</td>\n",
       "      <td>3</td>\n",
       "      <td>8</td>\n",
       "      <td>4</td>\n",
       "      <td>10</td>\n",
       "      <td>9</td>\n",
       "    </tr>\n",
       "  </tbody>\n",
       "</table>\n",
       "</div>"
      ],
      "text/plain": [
       "                                                    0  \\\n",
       "mean_fit_time                                0.387522   \n",
       "std_fit_time                                 0.015638   \n",
       "mean_score_time                              0.105621   \n",
       "std_score_time                               0.014417   \n",
       "param_alpha                                      0.01   \n",
       "param_fit_prior                                  True   \n",
       "params             {'alpha': 0.01, 'fit_prior': True}   \n",
       "split0_test_score                              0.7277   \n",
       "split1_test_score                            0.727273   \n",
       "split2_test_score                            0.728864   \n",
       "split3_test_score                            0.733134   \n",
       "split4_test_score                            0.728437   \n",
       "mean_test_score                              0.729082   \n",
       "std_test_score                               0.002101   \n",
       "rank_test_score                                     2   \n",
       "\n",
       "                                                     1  \\\n",
       "mean_fit_time                                 0.402862   \n",
       "std_fit_time                                  0.010437   \n",
       "mean_score_time                               0.101622   \n",
       "std_score_time                                0.009137   \n",
       "param_alpha                                       0.01   \n",
       "param_fit_prior                                  False   \n",
       "params             {'alpha': 0.01, 'fit_prior': False}   \n",
       "split0_test_score                             0.701238   \n",
       "split1_test_score                             0.708067   \n",
       "split2_test_score                             0.706234   \n",
       "split3_test_score                             0.716482   \n",
       "split4_test_score                             0.695559   \n",
       "mean_test_score                               0.705516   \n",
       "std_test_score                                0.006996   \n",
       "rank_test_score                                      7   \n",
       "\n",
       "                                                   2  \\\n",
       "mean_fit_time                               0.401958   \n",
       "std_fit_time                                0.013363   \n",
       "mean_score_time                              0.09042   \n",
       "std_score_time                              0.008595   \n",
       "param_alpha                                      0.1   \n",
       "param_fit_prior                                 True   \n",
       "params             {'alpha': 0.1, 'fit_prior': True}   \n",
       "split0_test_score                           0.737089   \n",
       "split1_test_score                           0.735382   \n",
       "split2_test_score                           0.740393   \n",
       "split3_test_score                           0.733561   \n",
       "split4_test_score                           0.737404   \n",
       "mean_test_score                             0.736766   \n",
       "std_test_score                              0.002274   \n",
       "rank_test_score                                    1   \n",
       "\n",
       "                                                    3  \\\n",
       "mean_fit_time                                0.393953   \n",
       "std_fit_time                                 0.011302   \n",
       "mean_score_time                              0.091817   \n",
       "std_score_time                               0.008082   \n",
       "param_alpha                                       0.1   \n",
       "param_fit_prior                                 False   \n",
       "params             {'alpha': 0.1, 'fit_prior': False}   \n",
       "split0_test_score                            0.705079   \n",
       "split1_test_score                            0.711908   \n",
       "split2_test_score                             0.70538   \n",
       "split3_test_score                            0.724167   \n",
       "split4_test_score                            0.699829   \n",
       "mean_test_score                              0.709273   \n",
       "std_test_score                               0.008375   \n",
       "rank_test_score                                     6   \n",
       "\n",
       "                                                   4  \\\n",
       "mean_fit_time                               0.387191   \n",
       "std_fit_time                                0.026011   \n",
       "mean_score_time                             0.101219   \n",
       "std_score_time                              0.010851   \n",
       "param_alpha                                      0.5   \n",
       "param_fit_prior                                 True   \n",
       "params             {'alpha': 0.5, 'fit_prior': True}   \n",
       "split0_test_score                           0.721724   \n",
       "split1_test_score                           0.722578   \n",
       "split2_test_score                           0.719471   \n",
       "split3_test_score                            0.72801   \n",
       "split4_test_score                           0.715628   \n",
       "mean_test_score                             0.721482   \n",
       "std_test_score                              0.004055   \n",
       "rank_test_score                                    5   \n",
       "\n",
       "                                                    5  \\\n",
       "mean_fit_time                                0.398728   \n",
       "std_fit_time                                 0.006419   \n",
       "mean_score_time                              0.090722   \n",
       "std_score_time                               0.009779   \n",
       "param_alpha                                       0.5   \n",
       "param_fit_prior                                 False   \n",
       "params             {'alpha': 0.5, 'fit_prior': False}   \n",
       "split0_test_score                            0.719163   \n",
       "split1_test_score                            0.735809   \n",
       "split2_test_score                            0.715628   \n",
       "split3_test_score                            0.735269   \n",
       "split4_test_score                            0.717763   \n",
       "mean_test_score                              0.724726   \n",
       "std_test_score                               0.008902   \n",
       "rank_test_score                                     3   \n",
       "\n",
       "                                                   6  \\\n",
       "mean_fit_time                               0.390982   \n",
       "std_fit_time                                0.004724   \n",
       "mean_score_time                             0.095822   \n",
       "std_score_time                              0.013307   \n",
       "param_alpha                                      1.0   \n",
       "param_fit_prior                                 True   \n",
       "params             {'alpha': 1.0, 'fit_prior': True}   \n",
       "split0_test_score                           0.695689   \n",
       "split1_test_score                           0.697823   \n",
       "split2_test_score                            0.69257   \n",
       "split3_test_score                           0.699402   \n",
       "split4_test_score                           0.691716   \n",
       "mean_test_score                              0.69544   \n",
       "std_test_score                              0.002951   \n",
       "rank_test_score                                    8   \n",
       "\n",
       "                                                    7  \\\n",
       "mean_fit_time                                0.394249   \n",
       "std_fit_time                                 0.011615   \n",
       "mean_score_time                              0.101054   \n",
       "std_score_time                               0.007734   \n",
       "param_alpha                                       1.0   \n",
       "param_fit_prior                                 False   \n",
       "params             {'alpha': 1.0, 'fit_prior': False}   \n",
       "split0_test_score                            0.724712   \n",
       "split1_test_score                              0.7277   \n",
       "split2_test_score                            0.712212   \n",
       "split3_test_score                            0.735269   \n",
       "split4_test_score                            0.720751   \n",
       "mean_test_score                              0.724129   \n",
       "std_test_score                               0.007624   \n",
       "rank_test_score                                     4   \n",
       "\n",
       "                                                    8  \\\n",
       "mean_fit_time                                0.414637   \n",
       "std_fit_time                                 0.010687   \n",
       "mean_score_time                              0.104495   \n",
       "std_score_time                               0.014031   \n",
       "param_alpha                                      10.0   \n",
       "param_fit_prior                                  True   \n",
       "params             {'alpha': 10.0, 'fit_prior': True}   \n",
       "split0_test_score                            0.622279   \n",
       "split1_test_score                            0.622279   \n",
       "split2_test_score                            0.622545   \n",
       "split3_test_score                            0.622545   \n",
       "split4_test_score                            0.622118   \n",
       "mean_test_score                              0.622353   \n",
       "std_test_score                               0.000167   \n",
       "rank_test_score                                    10   \n",
       "\n",
       "                                                     9  \n",
       "mean_fit_time                                 0.401284  \n",
       "std_fit_time                                  0.014178  \n",
       "mean_score_time                                0.11176  \n",
       "std_score_time                                0.003466  \n",
       "param_alpha                                       10.0  \n",
       "param_fit_prior                                  False  \n",
       "params             {'alpha': 10.0, 'fit_prior': False}  \n",
       "split0_test_score                             0.622279  \n",
       "split1_test_score                             0.622279  \n",
       "split2_test_score                             0.622545  \n",
       "split3_test_score                             0.622545  \n",
       "split4_test_score                             0.622545  \n",
       "mean_test_score                               0.622439  \n",
       "std_test_score                                 0.00013  \n",
       "rank_test_score                                      9  "
      ]
     },
     "execution_count": 41,
     "metadata": {},
     "output_type": "execute_result"
    }
   ],
   "source": [
    "nvb_params = {\n",
    "    'fit_prior': [True, False],\n",
    "    'alpha': [0.01, 0.1, 0.5, 1.0, 10.0]\n",
    "}\n",
    "nvb=MultinomialNB()\n",
    "nvb_cv=GridSearchCV(nvb,nvb_params, cv=5, verbose=0)\n",
    "best_model = nvb_cv.fit(X_train,y_train)\n",
    "result = best_model.cv_results_\n",
    "pd.DataFrame.from_dict(result).T\n"
   ]
  },
  {
   "cell_type": "code",
   "execution_count": 42,
   "metadata": {},
   "outputs": [
    {
     "name": "stdout",
     "output_type": "stream",
     "text": [
      " Accuracy Score for train data = 0.823941256830601\n",
      " Accuracy Score for test data = 0.755464480874317\n"
     ]
    },
    {
     "name": "stderr",
     "output_type": "stream",
     "text": [
      "C:\\Users\\SULAKKHANA\\anaconda3\\lib\\site-packages\\sklearn\\utils\\validation.py:70: FutureWarning: Pass labels=[-1, 0, 1] as keyword args. From version 1.0 (renaming of 0.25) passing these as positional arguments will result in an error\n",
      "  warnings.warn(f\"Pass {args_msg} as keyword args. From version \"\n"
     ]
    },
    {
     "name": "stdout",
     "output_type": "stream",
     "text": [
      "Classification Report for test data\n",
      "              precision    recall  f1-score   support\n",
      "\n",
      "          -1       0.79      0.92      0.85      1889\n",
      "           0       0.57      0.39      0.46       580\n",
      "           1       0.76      0.54      0.63       459\n",
      "\n",
      "    accuracy                           0.76      2928\n",
      "   macro avg       0.71      0.62      0.65      2928\n",
      "weighted avg       0.74      0.76      0.74      2928\n",
      "\n",
      "Wall time: 1.32 s\n"
     ]
    },
    {
     "data": {
      "image/png": "[encoded data removed]",
      "text/plain": [
       "<Figure size 432x288 with 2 Axes>"
      ]
     },
     "metadata": {
      "needs_background": "light"
     },
     "output_type": "display_data"
    }
   ],
   "source": [
    "%%time\n",
    "accuracy1 = evaluate_model(MultinomialNB(alpha = 0.1, fit_prior= True), X_train, y_train,X_test , y_test)"
   ]
  },
  {
   "cell_type": "code",
   "execution_count": 43,
   "metadata": {
    "ExecuteTime": {
     "end_time": "2019-06-17T02:34:46.265712Z",
     "start_time": "2019-06-17T02:34:46.258734Z"
    },
    "colab": {},
    "colab_type": "code",
    "id": "kkrodUzCLtD3"
   },
   "outputs": [],
   "source": [
    "results.loc['Naïve Bayes'] = {\n",
    "    'WordLevel TF-IDF': accuracy1}"
   ]
  },
  {
   "cell_type": "markdown",
   "metadata": {
    "colab_type": "text",
    "id": "-2oNfajULtD4"
   },
   "source": [
    "### Linear Classifier"
   ]
  },
  {
   "cell_type": "code",
   "execution_count": 44,
   "metadata": {},
   "outputs": [
    {
     "name": "stdout",
     "output_type": "stream",
     "text": [
      " Accuracy Score for train data = 0.8288080601092896\n",
      " Accuracy Score for test data = 0.7814207650273224\n"
     ]
    }
   ],
   "source": [
    "model = LogisticRegression(solver='liblinear')\n",
    "# Fit Model\n",
    "model.fit(X_train,y_train)\n",
    "# Score\n",
    "\n",
    "print(f\" Accuracy Score for train data = {model.score(X_train, y_train)}\")\n",
    "print(f\" Accuracy Score for test data = {model.score(X_test , y_test)}\")"
   ]
  },
  {
   "cell_type": "markdown",
   "metadata": {},
   "source": [
    "#### Linear Classifier Hyperparameter tuning "
   ]
  },
  {
   "cell_type": "code",
   "execution_count": 45,
   "metadata": {},
   "outputs": [],
   "source": [
    "# use GridSearchCV to find best hyper parameters"
   ]
  },
  {
   "cell_type": "code",
   "execution_count": 46,
   "metadata": {},
   "outputs": [
    {
     "data": {
      "text/html": [
       "<div>\n",
       "<style scoped>\n",
       "    .dataframe tbody tr th:only-of-type {\n",
       "        vertical-align: middle;\n",
       "    }\n",
       "\n",
       "    .dataframe tbody tr th {\n",
       "        vertical-align: top;\n",
       "    }\n",
       "\n",
       "    .dataframe thead th {\n",
       "        text-align: right;\n",
       "    }\n",
       "</style>\n",
       "<table border=\"1\" class=\"dataframe\">\n",
       "  <thead>\n",
       "    <tr style=\"text-align: right;\">\n",
       "      <th></th>\n",
       "      <th>0</th>\n",
       "      <th>1</th>\n",
       "      <th>2</th>\n",
       "      <th>3</th>\n",
       "      <th>4</th>\n",
       "      <th>5</th>\n",
       "      <th>6</th>\n",
       "      <th>7</th>\n",
       "      <th>8</th>\n",
       "      <th>9</th>\n",
       "    </tr>\n",
       "  </thead>\n",
       "  <tbody>\n",
       "    <tr>\n",
       "      <th>mean_fit_time</th>\n",
       "      <td>0.95557</td>\n",
       "      <td>0.916413</td>\n",
       "      <td>1.123416</td>\n",
       "      <td>1.014406</td>\n",
       "      <td>1.807942</td>\n",
       "      <td>1.088622</td>\n",
       "      <td>2.590995</td>\n",
       "      <td>1.134482</td>\n",
       "      <td>2.106167</td>\n",
       "      <td>1.304383</td>\n",
       "    </tr>\n",
       "    <tr>\n",
       "      <th>std_fit_time</th>\n",
       "      <td>0.047932</td>\n",
       "      <td>0.014685</td>\n",
       "      <td>0.011958</td>\n",
       "      <td>0.012213</td>\n",
       "      <td>0.088589</td>\n",
       "      <td>0.037321</td>\n",
       "      <td>0.456728</td>\n",
       "      <td>0.035471</td>\n",
       "      <td>0.184497</td>\n",
       "      <td>0.031635</td>\n",
       "    </tr>\n",
       "    <tr>\n",
       "      <th>mean_score_time</th>\n",
       "      <td>0.087337</td>\n",
       "      <td>0.08285</td>\n",
       "      <td>0.075514</td>\n",
       "      <td>0.073855</td>\n",
       "      <td>0.07001</td>\n",
       "      <td>0.079166</td>\n",
       "      <td>0.07401</td>\n",
       "      <td>0.078512</td>\n",
       "      <td>0.073623</td>\n",
       "      <td>0.069712</td>\n",
       "    </tr>\n",
       "    <tr>\n",
       "      <th>std_score_time</th>\n",
       "      <td>0.005844</td>\n",
       "      <td>0.003454</td>\n",
       "      <td>0.002653</td>\n",
       "      <td>0.002323</td>\n",
       "      <td>0.001096</td>\n",
       "      <td>0.009006</td>\n",
       "      <td>0.003748</td>\n",
       "      <td>0.008706</td>\n",
       "      <td>0.003768</td>\n",
       "      <td>0.000866</td>\n",
       "    </tr>\n",
       "    <tr>\n",
       "      <th>param_C</th>\n",
       "      <td>0.001</td>\n",
       "      <td>0.001</td>\n",
       "      <td>0.1</td>\n",
       "      <td>0.1</td>\n",
       "      <td>1</td>\n",
       "      <td>1</td>\n",
       "      <td>10</td>\n",
       "      <td>10</td>\n",
       "      <td>100</td>\n",
       "      <td>100</td>\n",
       "    </tr>\n",
       "    <tr>\n",
       "      <th>param_penalty</th>\n",
       "      <td>l1</td>\n",
       "      <td>l2</td>\n",
       "      <td>l1</td>\n",
       "      <td>l2</td>\n",
       "      <td>l1</td>\n",
       "      <td>l2</td>\n",
       "      <td>l1</td>\n",
       "      <td>l2</td>\n",
       "      <td>l1</td>\n",
       "      <td>l2</td>\n",
       "    </tr>\n",
       "    <tr>\n",
       "      <th>params</th>\n",
       "      <td>{'C': 0.001, 'penalty': 'l1'}</td>\n",
       "      <td>{'C': 0.001, 'penalty': 'l2'}</td>\n",
       "      <td>{'C': 0.1, 'penalty': 'l1'}</td>\n",
       "      <td>{'C': 0.1, 'penalty': 'l2'}</td>\n",
       "      <td>{'C': 1, 'penalty': 'l1'}</td>\n",
       "      <td>{'C': 1, 'penalty': 'l2'}</td>\n",
       "      <td>{'C': 10, 'penalty': 'l1'}</td>\n",
       "      <td>{'C': 10, 'penalty': 'l2'}</td>\n",
       "      <td>{'C': 100, 'penalty': 'l1'}</td>\n",
       "      <td>{'C': 100, 'penalty': 'l2'}</td>\n",
       "    </tr>\n",
       "    <tr>\n",
       "      <th>split0_test_score</th>\n",
       "      <td>0.622279</td>\n",
       "      <td>0.626974</td>\n",
       "      <td>0.703372</td>\n",
       "      <td>0.703372</td>\n",
       "      <td>0.769526</td>\n",
       "      <td>0.769953</td>\n",
       "      <td>0.753735</td>\n",
       "      <td>0.769526</td>\n",
       "      <td>0.697823</td>\n",
       "      <td>0.741784</td>\n",
       "    </tr>\n",
       "    <tr>\n",
       "      <th>split1_test_score</th>\n",
       "      <td>0.622279</td>\n",
       "      <td>0.644046</td>\n",
       "      <td>0.714042</td>\n",
       "      <td>0.719163</td>\n",
       "      <td>0.769953</td>\n",
       "      <td>0.779343</td>\n",
       "      <td>0.73837</td>\n",
       "      <td>0.771233</td>\n",
       "      <td>0.691848</td>\n",
       "      <td>0.734102</td>\n",
       "    </tr>\n",
       "    <tr>\n",
       "      <th>split2_test_score</th>\n",
       "      <td>0.622545</td>\n",
       "      <td>0.636635</td>\n",
       "      <td>0.705807</td>\n",
       "      <td>0.707088</td>\n",
       "      <td>0.757472</td>\n",
       "      <td>0.762169</td>\n",
       "      <td>0.743809</td>\n",
       "      <td>0.765158</td>\n",
       "      <td>0.700256</td>\n",
       "      <td>0.734415</td>\n",
       "    </tr>\n",
       "    <tr>\n",
       "      <th>split3_test_score</th>\n",
       "      <td>0.622545</td>\n",
       "      <td>0.633219</td>\n",
       "      <td>0.692997</td>\n",
       "      <td>0.704526</td>\n",
       "      <td>0.769001</td>\n",
       "      <td>0.767293</td>\n",
       "      <td>0.758326</td>\n",
       "      <td>0.774125</td>\n",
       "      <td>0.702818</td>\n",
       "      <td>0.749787</td>\n",
       "    </tr>\n",
       "    <tr>\n",
       "      <th>split4_test_score</th>\n",
       "      <td>0.622118</td>\n",
       "      <td>0.639624</td>\n",
       "      <td>0.694278</td>\n",
       "      <td>0.696413</td>\n",
       "      <td>0.754483</td>\n",
       "      <td>0.760034</td>\n",
       "      <td>0.743382</td>\n",
       "      <td>0.765158</td>\n",
       "      <td>0.693851</td>\n",
       "      <td>0.734415</td>\n",
       "    </tr>\n",
       "    <tr>\n",
       "      <th>mean_test_score</th>\n",
       "      <td>0.622353</td>\n",
       "      <td>0.6361</td>\n",
       "      <td>0.702099</td>\n",
       "      <td>0.706113</td>\n",
       "      <td>0.764087</td>\n",
       "      <td>0.767758</td>\n",
       "      <td>0.747524</td>\n",
       "      <td>0.76904</td>\n",
       "      <td>0.697319</td>\n",
       "      <td>0.7389</td>\n",
       "    </tr>\n",
       "    <tr>\n",
       "      <th>std_test_score</th>\n",
       "      <td>0.000167</td>\n",
       "      <td>0.005787</td>\n",
       "      <td>0.007772</td>\n",
       "      <td>0.007421</td>\n",
       "      <td>0.006695</td>\n",
       "      <td>0.006784</td>\n",
       "      <td>0.007349</td>\n",
       "      <td>0.003494</td>\n",
       "      <td>0.004027</td>\n",
       "      <td>0.006166</td>\n",
       "    </tr>\n",
       "    <tr>\n",
       "      <th>rank_test_score</th>\n",
       "      <td>10</td>\n",
       "      <td>9</td>\n",
       "      <td>7</td>\n",
       "      <td>6</td>\n",
       "      <td>3</td>\n",
       "      <td>2</td>\n",
       "      <td>4</td>\n",
       "      <td>1</td>\n",
       "      <td>8</td>\n",
       "      <td>5</td>\n",
       "    </tr>\n",
       "  </tbody>\n",
       "</table>\n",
       "</div>"
      ],
      "text/plain": [
       "                                               0  \\\n",
       "mean_fit_time                            0.95557   \n",
       "std_fit_time                            0.047932   \n",
       "mean_score_time                         0.087337   \n",
       "std_score_time                          0.005844   \n",
       "param_C                                    0.001   \n",
       "param_penalty                                 l1   \n",
       "params             {'C': 0.001, 'penalty': 'l1'}   \n",
       "split0_test_score                       0.622279   \n",
       "split1_test_score                       0.622279   \n",
       "split2_test_score                       0.622545   \n",
       "split3_test_score                       0.622545   \n",
       "split4_test_score                       0.622118   \n",
       "mean_test_score                         0.622353   \n",
       "std_test_score                          0.000167   \n",
       "rank_test_score                               10   \n",
       "\n",
       "                                               1                            2  \\\n",
       "mean_fit_time                           0.916413                     1.123416   \n",
       "std_fit_time                            0.014685                     0.011958   \n",
       "mean_score_time                          0.08285                     0.075514   \n",
       "std_score_time                          0.003454                     0.002653   \n",
       "param_C                                    0.001                          0.1   \n",
       "param_penalty                                 l2                           l1   \n",
       "params             {'C': 0.001, 'penalty': 'l2'}  {'C': 0.1, 'penalty': 'l1'}   \n",
       "split0_test_score                       0.626974                     0.703372   \n",
       "split1_test_score                       0.644046                     0.714042   \n",
       "split2_test_score                       0.636635                     0.705807   \n",
       "split3_test_score                       0.633219                     0.692997   \n",
       "split4_test_score                       0.639624                     0.694278   \n",
       "mean_test_score                           0.6361                     0.702099   \n",
       "std_test_score                          0.005787                     0.007772   \n",
       "rank_test_score                                9                            7   \n",
       "\n",
       "                                             3                          4  \\\n",
       "mean_fit_time                         1.014406                   1.807942   \n",
       "std_fit_time                          0.012213                   0.088589   \n",
       "mean_score_time                       0.073855                    0.07001   \n",
       "std_score_time                        0.002323                   0.001096   \n",
       "param_C                                    0.1                          1   \n",
       "param_penalty                               l2                         l1   \n",
       "params             {'C': 0.1, 'penalty': 'l2'}  {'C': 1, 'penalty': 'l1'}   \n",
       "split0_test_score                     0.703372                   0.769526   \n",
       "split1_test_score                     0.719163                   0.769953   \n",
       "split2_test_score                     0.707088                   0.757472   \n",
       "split3_test_score                     0.704526                   0.769001   \n",
       "split4_test_score                     0.696413                   0.754483   \n",
       "mean_test_score                       0.706113                   0.764087   \n",
       "std_test_score                        0.007421                   0.006695   \n",
       "rank_test_score                              6                          3   \n",
       "\n",
       "                                           5                           6  \\\n",
       "mean_fit_time                       1.088622                    2.590995   \n",
       "std_fit_time                        0.037321                    0.456728   \n",
       "mean_score_time                     0.079166                     0.07401   \n",
       "std_score_time                      0.009006                    0.003748   \n",
       "param_C                                    1                          10   \n",
       "param_penalty                             l2                          l1   \n",
       "params             {'C': 1, 'penalty': 'l2'}  {'C': 10, 'penalty': 'l1'}   \n",
       "split0_test_score                   0.769953                    0.753735   \n",
       "split1_test_score                   0.779343                     0.73837   \n",
       "split2_test_score                   0.762169                    0.743809   \n",
       "split3_test_score                   0.767293                    0.758326   \n",
       "split4_test_score                   0.760034                    0.743382   \n",
       "mean_test_score                     0.767758                    0.747524   \n",
       "std_test_score                      0.006784                    0.007349   \n",
       "rank_test_score                            2                           4   \n",
       "\n",
       "                                            7                            8  \\\n",
       "mean_fit_time                        1.134482                     2.106167   \n",
       "std_fit_time                         0.035471                     0.184497   \n",
       "mean_score_time                      0.078512                     0.073623   \n",
       "std_score_time                       0.008706                     0.003768   \n",
       "param_C                                    10                          100   \n",
       "param_penalty                              l2                           l1   \n",
       "params             {'C': 10, 'penalty': 'l2'}  {'C': 100, 'penalty': 'l1'}   \n",
       "split0_test_score                    0.769526                     0.697823   \n",
       "split1_test_score                    0.771233                     0.691848   \n",
       "split2_test_score                    0.765158                     0.700256   \n",
       "split3_test_score                    0.774125                     0.702818   \n",
       "split4_test_score                    0.765158                     0.693851   \n",
       "mean_test_score                       0.76904                     0.697319   \n",
       "std_test_score                       0.003494                     0.004027   \n",
       "rank_test_score                             1                            8   \n",
       "\n",
       "                                             9  \n",
       "mean_fit_time                         1.304383  \n",
       "std_fit_time                          0.031635  \n",
       "mean_score_time                       0.069712  \n",
       "std_score_time                        0.000866  \n",
       "param_C                                    100  \n",
       "param_penalty                               l2  \n",
       "params             {'C': 100, 'penalty': 'l2'}  \n",
       "split0_test_score                     0.741784  \n",
       "split1_test_score                     0.734102  \n",
       "split2_test_score                     0.734415  \n",
       "split3_test_score                     0.749787  \n",
       "split4_test_score                     0.734415  \n",
       "mean_test_score                         0.7389  \n",
       "std_test_score                        0.006166  \n",
       "rank_test_score                              5  "
      ]
     },
     "execution_count": 46,
     "metadata": {},
     "output_type": "execute_result"
    }
   ],
   "source": [
    "lr_params = {'penalty': ['l1','l2'],'C': [0.001,0.1,1, 10, 100]}\n",
    "\n",
    "logreg=LogisticRegression(max_iter=10000,solver='liblinear')\n",
    "logreg_cv=GridSearchCV(logreg,lr_params, cv=5, verbose=0)\n",
    "best_model = logreg_cv.fit(X_train,y_train)\n",
    "result = best_model.cv_results_\n",
    "pd.DataFrame.from_dict(result).T"
   ]
  },
  {
   "cell_type": "code",
   "execution_count": 61,
   "metadata": {},
   "outputs": [
    {
     "name": "stdout",
     "output_type": "stream",
     "text": [
      " Accuracy Score for train data = 0.9055669398907104\n",
      " Accuracy Score for test data = 0.79474043715847\n"
     ]
    },
    {
     "name": "stderr",
     "output_type": "stream",
     "text": [
      "C:\\Users\\SULAKKHANA\\anaconda3\\lib\\site-packages\\sklearn\\utils\\validation.py:70: FutureWarning: Pass labels=[-1, 0, 1] as keyword args. From version 1.0 (renaming of 0.25) passing these as positional arguments will result in an error\n",
      "  warnings.warn(f\"Pass {args_msg} as keyword args. From version \"\n"
     ]
    },
    {
     "name": "stdout",
     "output_type": "stream",
     "text": [
      "Classification Report for test data\n",
      "              precision    recall  f1-score   support\n",
      "\n",
      "          -1       0.84      0.91      0.87      1889\n",
      "           0       0.62      0.52      0.57       580\n",
      "           1       0.77      0.66      0.71       459\n",
      "\n",
      "    accuracy                           0.79      2928\n",
      "   macro avg       0.74      0.70      0.72      2928\n",
      "weighted avg       0.79      0.79      0.79      2928\n",
      "\n",
      "Wall time: 1.96 s\n"
     ]
    },
    {
     "data": {
      "image/png": "[encoded data removed]",
      "text/plain": [
       "<Figure size 432x288 with 2 Axes>"
      ]
     },
     "metadata": {
      "needs_background": "light"
     },
     "output_type": "display_data"
    }
   ],
   "source": [
    "%%time\n",
    "accuracy1 = evaluate_model(LogisticRegression(C=10, penalty='l2',solver='liblinear'), X_train, y_train,X_test , y_test)"
   ]
  },
  {
   "cell_type": "code",
   "execution_count": 48,
   "metadata": {},
   "outputs": [],
   "source": [
    "results.loc['Logistic Regression'] ={\n",
    "    'WordLevel TF-IDF': accuracy1}"
   ]
  },
  {
   "cell_type": "markdown",
   "metadata": {
    "colab_type": "text",
    "id": "q1wYto68LtEE"
   },
   "source": [
    "### Support Vector Machine"
   ]
  },
  {
   "cell_type": "code",
   "execution_count": 49,
   "metadata": {
    "ExecuteTime": {
     "end_time": "2019-06-17T02:34:54.743263Z",
     "start_time": "2019-06-17T02:34:54.606629Z"
    },
    "colab": {},
    "colab_type": "code",
    "id": "wMt26K0cLtEG",
    "outputId": "406cf62d-c09d-4f9b-c298-eabce0b69238"
   },
   "outputs": [
    {
     "name": "stderr",
     "output_type": "stream",
     "text": [
      "C:\\Users\\SULAKKHANA\\anaconda3\\lib\\site-packages\\sklearn\\svm\\_base.py:985: ConvergenceWarning: Liblinear failed to converge, increase the number of iterations.\n",
      "  warnings.warn(\"Liblinear failed to converge, increase \"\n"
     ]
    },
    {
     "name": "stdout",
     "output_type": "stream",
     "text": [
      " Accuracy Score for train data = 0.8090846994535519\n",
      " Accuracy Score for test data = 0.7537568306010929\n"
     ]
    },
    {
     "name": "stderr",
     "output_type": "stream",
     "text": [
      "C:\\Users\\SULAKKHANA\\anaconda3\\lib\\site-packages\\sklearn\\utils\\validation.py:70: FutureWarning: Pass labels=[-1, 0, 1] as keyword args. From version 1.0 (renaming of 0.25) passing these as positional arguments will result in an error\n",
      "  warnings.warn(f\"Pass {args_msg} as keyword args. From version \"\n"
     ]
    },
    {
     "name": "stdout",
     "output_type": "stream",
     "text": [
      "Classification Report for test data\n",
      "              precision    recall  f1-score   support\n",
      "\n",
      "          -1       0.77      0.95      0.85      1889\n",
      "           0       0.59      0.40      0.48       580\n",
      "           1       0.89      0.40      0.55       459\n",
      "\n",
      "    accuracy                           0.75      2928\n",
      "   macro avg       0.75      0.58      0.63      2928\n",
      "weighted avg       0.75      0.75      0.73      2928\n",
      "\n",
      "Wall time: 3.55 s\n"
     ]
    },
    {
     "data": {
      "image/png": "[encoded data removed]",
      "text/plain": [
       "<Figure size 432x288 with 2 Axes>"
      ]
     },
     "metadata": {
      "needs_background": "light"
     },
     "output_type": "display_data"
    }
   ],
   "source": [
    "%%time\n",
    "accuracy1 = evaluate_model(LinearSVC(), X_train, y_train,X_test , y_test)"
   ]
  },
  {
   "cell_type": "code",
   "execution_count": 50,
   "metadata": {
    "ExecuteTime": {
     "end_time": "2019-06-17T02:34:56.501558Z",
     "start_time": "2019-06-17T02:34:56.492592Z"
    },
    "colab": {},
    "colab_type": "code",
    "id": "go0bcKeILtEN"
   },
   "outputs": [],
   "source": [
    "results.loc['Support Vector Machine'] = {\n",
    "    'WordLevel TF-IDF': accuracy1,}"
   ]
  },
  {
   "cell_type": "markdown",
   "metadata": {
    "colab_type": "text",
    "id": "gLGxWK0yLtEO"
   },
   "source": [
    "### Bagging Models"
   ]
  },
  {
   "cell_type": "code",
   "execution_count": 51,
   "metadata": {},
   "outputs": [
    {
     "name": "stdout",
     "output_type": "stream",
     "text": [
      " Accuracy Score for train data = 0.9948770491803278\n",
      " Accuracy Score for test data = 0.7517076502732241\n",
      "Wall time: 31.5 s\n"
     ]
    }
   ],
   "source": [
    "%%time\n",
    "modelrwf = RandomForestClassifier(n_estimators = 100)\n",
    "modelrwf.fit( X_train,y_train)\n",
    "\n",
    "print(f\" Accuracy Score for train data = {modelrwf.score( X_train , y_train)}\")\n",
    "print(f\" Accuracy Score for test data = {modelrwf.score(X_test, y_test)}\")"
   ]
  },
  {
   "cell_type": "markdown",
   "metadata": {},
   "source": [
    "##### Hyperparameter tuning On Word Level TF IDF Vectors"
   ]
  },
  {
   "cell_type": "code",
   "execution_count": 52,
   "metadata": {},
   "outputs": [
    {
     "name": "stdout",
     "output_type": "stream",
     "text": [
      "Fitting 5 folds for each of 10 candidates, totalling 50 fits\n"
     ]
    },
    {
     "data": {
      "text/plain": [
       "{'n_estimators': 100,\n",
       " 'min_samples_split': 3,\n",
       " 'min_samples_leaf': 1,\n",
       " 'max_depth': 100}"
      ]
     },
     "execution_count": 52,
     "metadata": {},
     "output_type": "execute_result"
    }
   ],
   "source": [
    "param_grid = {\n",
    "    'max_depth': [70,80,100],\n",
    "    'min_samples_leaf': [1,3, 4],\n",
    "    'min_samples_split': [2,3,8],\n",
    "    'n_estimators': [10,50, 100,150,200]\n",
    "}\n",
    "# Create a based model\n",
    "rf = RandomForestClassifier()\n",
    "# Instantiate the random search model\n",
    "grid_search = RandomizedSearchCV(estimator = rf, param_distributions = param_grid, \n",
    "                          cv = 5, n_jobs = -1, verbose = 2)\n",
    "best_model = grid_search.fit(X_train,y_train)\n",
    "grid_search.best_params_"
   ]
  },
  {
   "cell_type": "code",
   "execution_count": 53,
   "metadata": {},
   "outputs": [
    {
     "name": "stdout",
     "output_type": "stream",
     "text": [
      " Accuracy Score for train data = 0.9947916666666666\n",
      " Accuracy Score for test data = 0.7527322404371585\n",
      "Classification Report for test data\n",
      "              precision    recall  f1-score   support\n",
      "\n",
      "          -1       0.77      0.93      0.85      1889\n",
      "           0       0.61      0.35      0.45       580\n",
      "           1       0.76      0.51      0.61       459\n",
      "\n",
      "    accuracy                           0.75      2928\n",
      "   macro avg       0.71      0.60      0.63      2928\n",
      "weighted avg       0.74      0.75      0.73      2928\n",
      "\n"
     ]
    },
    {
     "name": "stderr",
     "output_type": "stream",
     "text": [
      "C:\\Users\\SULAKKHANA\\anaconda3\\lib\\site-packages\\sklearn\\utils\\validation.py:70: FutureWarning: Pass labels=[-1, 0, 1] as keyword args. From version 1.0 (renaming of 0.25) passing these as positional arguments will result in an error\n",
      "  warnings.warn(f\"Pass {args_msg} as keyword args. From version \"\n"
     ]
    },
    {
     "name": "stdout",
     "output_type": "stream",
     "text": [
      "Wall time: 1min 1s\n"
     ]
    },
    {
     "data": {
      "image/png": "[encoded data removed]",
      "text/plain": [
       "<Figure size 432x288 with 2 Axes>"
      ]
     },
     "metadata": {
      "needs_background": "light"
     },
     "output_type": "display_data"
    }
   ],
   "source": [
    "%%time\n",
    "accuracy1 = evaluate_model(RandomForestClassifier( min_samples_leaf=1,min_samples_split=3, n_estimators=200), X_train, y_train,X_test , y_test)"
   ]
  },
  {
   "cell_type": "code",
   "execution_count": 54,
   "metadata": {
    "ExecuteTime": {
     "end_time": "2019-06-17T02:36:08.104108Z",
     "start_time": "2019-06-17T02:36:08.097127Z"
    },
    "colab": {},
    "colab_type": "code",
    "id": "fVKeCH_VLtEZ"
   },
   "outputs": [],
   "source": [
    "results.loc['Random Forest'] = {\n",
    "    'WordLevel TF-IDF': accuracy1}"
   ]
  },
  {
   "cell_type": "markdown",
   "metadata": {
    "colab_type": "text",
    "id": "oyVz4Q6ILtEa"
   },
   "source": [
    "### Boosting Models"
   ]
  },
  {
   "cell_type": "code",
   "execution_count": 55,
   "metadata": {
    "ExecuteTime": {
     "end_time": "2019-06-17T02:36:52.852454Z",
     "start_time": "2019-06-17T02:36:37.714920Z"
    },
    "colab": {},
    "colab_type": "code",
    "id": "HJNwQf57LtEd",
    "outputId": "686abbc5-8745-4dca-c2e2-b665b9d19901"
   },
   "outputs": [
    {
     "name": "stdout",
     "output_type": "stream",
     "text": [
      " Accuracy Score for train data = 0.7627219945355191\n",
      " Accuracy Score for test data = 0.7472677595628415\n",
      "Wall time: 2min 48s\n"
     ]
    }
   ],
   "source": [
    "%%time\n",
    "modelgf = GradientBoostingClassifier()\n",
    "modelgf.fit( X_train,y_train)\n",
    "\n",
    "print(f\" Accuracy Score for train data = {modelgf.score( X_train , y_train)}\")\n",
    "print(f\" Accuracy Score for test data = {modelgf.score(X_test, y_test)}\")"
   ]
  },
  {
   "cell_type": "code",
   "execution_count": 57,
   "metadata": {},
   "outputs": [],
   "source": [
    "# parameters = {\n",
    "#     \"n_estimators\":[5,50,250,500],\n",
    "#     \"max_depth\":[1,3,5,7,9],\n",
    "#     \"learning_rate\":[0.01,0.1,1,10,100]\n",
    "# }\n",
    "\n",
    "# # Create a based model\n",
    "# rf = RandomForestClassifier()\n",
    "# # Instantiate the Random search model\n",
    "# grid_search = RandomizedSearchCV(estimator = rf, param_distributions = param_grid, \n",
    "#                           cv = 5, n_jobs = -1, verbose = 2)\n",
    "# best_model = grid_search.fit(X_train,y_train)\n",
    "# grid_search.best_params_"
   ]
  },
  {
   "cell_type": "code",
   "execution_count": 58,
   "metadata": {},
   "outputs": [
    {
     "name": "stdout",
     "output_type": "stream",
     "text": [
      " Accuracy Score for train data = 0.764771174863388\n",
      " Accuracy Score for test data = 0.7503415300546448\n"
     ]
    },
    {
     "name": "stderr",
     "output_type": "stream",
     "text": [
      "C:\\Users\\SULAKKHANA\\anaconda3\\lib\\site-packages\\sklearn\\utils\\validation.py:70: FutureWarning: Pass labels=[-1, 0, 1] as keyword args. From version 1.0 (renaming of 0.25) passing these as positional arguments will result in an error\n",
      "  warnings.warn(f\"Pass {args_msg} as keyword args. From version \"\n"
     ]
    },
    {
     "name": "stdout",
     "output_type": "stream",
     "text": [
      "Classification Report for test data\n",
      "              precision    recall  f1-score   support\n",
      "\n",
      "          -1       0.78      0.92      0.84      1889\n",
      "           0       0.59      0.34      0.43       580\n",
      "           1       0.72      0.57      0.64       459\n",
      "\n",
      "    accuracy                           0.75      2928\n",
      "   macro avg       0.70      0.61      0.64      2928\n",
      "weighted avg       0.73      0.75      0.73      2928\n",
      "\n",
      "Wall time: 2min 48s\n"
     ]
    },
    {
     "data": {
      "image/png": "[encoded data removed]",
      "text/plain": [
       "<Figure size 432x288 with 2 Axes>"
      ]
     },
     "metadata": {
      "needs_background": "light"
     },
     "output_type": "display_data"
    }
   ],
   "source": [
    "%%time\n",
    "accuracy1 = evaluate_model(GradientBoostingClassifier(), X_train, y_train,X_test , y_test)"
   ]
  },
  {
   "cell_type": "code",
   "execution_count": 59,
   "metadata": {
    "ExecuteTime": {
     "end_time": "2019-06-17T02:39:14.683222Z",
     "start_time": "2019-06-17T02:39:14.675213Z"
    },
    "colab": {},
    "colab_type": "code",
    "id": "AC0hWO59LtEj",
    "scrolled": true
   },
   "outputs": [],
   "source": [
    "results.loc['Gradient Boosting'] = {\n",
    "    'WordLevel TF-IDF': accuracy1}"
   ]
  },
  {
   "cell_type": "code",
   "execution_count": 60,
   "metadata": {
    "ExecuteTime": {
     "end_time": "2019-06-17T02:39:15.024279Z",
     "start_time": "2019-06-17T02:39:15.010319Z"
    },
    "colab": {},
    "colab_type": "code",
    "id": "b9fY4J7XLtEk",
    "outputId": "ea4a8ddf-5b37-4cb9-da79-1920e1967b03"
   },
   "outputs": [
    {
     "data": {
      "text/html": [
       "<div>\n",
       "<style scoped>\n",
       "    .dataframe tbody tr th:only-of-type {\n",
       "        vertical-align: middle;\n",
       "    }\n",
       "\n",
       "    .dataframe tbody tr th {\n",
       "        vertical-align: top;\n",
       "    }\n",
       "\n",
       "    .dataframe thead th {\n",
       "        text-align: right;\n",
       "    }\n",
       "</style>\n",
       "<table border=\"1\" class=\"dataframe\">\n",
       "  <thead>\n",
       "    <tr style=\"text-align: right;\">\n",
       "      <th></th>\n",
       "      <th>WordLevel TF-IDF</th>\n",
       "    </tr>\n",
       "  </thead>\n",
       "  <tbody>\n",
       "    <tr>\n",
       "      <th>Naïve Bayes</th>\n",
       "      <td>0.755464</td>\n",
       "    </tr>\n",
       "    <tr>\n",
       "      <th>Logistic Regression</th>\n",
       "      <td>0.723019</td>\n",
       "    </tr>\n",
       "    <tr>\n",
       "      <th>Support Vector Machine</th>\n",
       "      <td>0.753757</td>\n",
       "    </tr>\n",
       "    <tr>\n",
       "      <th>Random Forest</th>\n",
       "      <td>0.752732</td>\n",
       "    </tr>\n",
       "    <tr>\n",
       "      <th>Gradient Boosting</th>\n",
       "      <td>0.750342</td>\n",
       "    </tr>\n",
       "  </tbody>\n",
       "</table>\n",
       "</div>"
      ],
      "text/plain": [
       "                        WordLevel TF-IDF\n",
       "Naïve Bayes                     0.755464\n",
       "Logistic Regression             0.723019\n",
       "Support Vector Machine          0.753757\n",
       "Random Forest                   0.752732\n",
       "Gradient Boosting               0.750342"
      ]
     },
     "execution_count": 60,
     "metadata": {},
     "output_type": "execute_result"
    }
   ],
   "source": [
    "results"
   ]
  },
  {
   "cell_type": "code",
   "execution_count": null,
   "metadata": {},
   "outputs": [],
   "source": [
    "# Sentiment can predit with 76% accuracy with svm algorithem  with TF-IDF and Text/NLP"
   ]
  },
  {
   "cell_type": "markdown",
   "metadata": {},
   "source": [
    "#### Summary"
   ]
  },
  {
   "cell_type": "markdown",
   "metadata": {},
   "source": [
    "- Sentiment Analysis can be predicted with 76 % accuracy with SVM.\n",
    "- Virgin America has the highest percentage(30%) of positive sentiment as well as lowest negative sentiment percentage(36%). Based on public opinion Virgin America perform the best out of all US  airlines followed by Delta airline.\n",
    "- US Airline has the highest percentage(78%) of Negative sentiment followed by American airline. Both airlines can categories as high risk of having customer churn over  based on tweets.\n",
    "- Customer service issues are the most common negative reason among all airlines.\n",
    "- US airlines and United airlines have relatively high negative sentiment due to late flights.\n",
    "- United has the highest negative sentiment due to lost luggage.\n",
    "- Based on public sentiment, Virgin America perform the best out of all US  airlines followed by Delta airline.\n"
   ]
  },
  {
   "cell_type": "code",
   "execution_count": null,
   "metadata": {},
   "outputs": [],
   "source": []
  }
 ],
 "metadata": {
  "colab": {
   "collapsed_sections": [
    "_Pck1cuvLtDH",
    "mQCAUFWYLtDb",
    "OXwLriDpLtDq",
    "-2oNfajULtD4",
    "q1wYto68LtEE",
    "gLGxWK0yLtEO"
   ],
   "name": "IOD_Lab-9_7.ipynb",
   "provenance": []
  },
  "kernelspec": {
   "display_name": "Python 3",
   "language": "python",
   "name": "python3"
  },
  "language_info": {
   "codemirror_mode": {
    "name": "ipython",
    "version": 3
   },
   "file_extension": ".py",
   "mimetype": "text/x-python",
   "name": "python",
   "nbconvert_exporter": "python",
   "pygments_lexer": "ipython3",
   "version": "3.8.8"
  },
  "varInspector": {
   "cols": {
    "lenName": 16,
    "lenType": 16,
    "lenVar": 40
   },
   "kernels_config": {
    "python": {
     "delete_cmd_postfix": "",
     "delete_cmd_prefix": "del ",
     "library": "var_list.py",
     "varRefreshCmd": "print(var_dic_list())"
    },
    "r": {
     "delete_cmd_postfix": ") ",
     "delete_cmd_prefix": "rm(",
     "library": "var_list.r",
     "varRefreshCmd": "cat(var_dic_list()) "
    }
   },
   "types_to_exclude": [
    "module",
    "function",
    "builtin_function_or_method",
    "instance",
    "_Feature"
   ],
   "window_display": false
  }
 },
 "nbformat": 4,
 "nbformat_minor": 1
}
