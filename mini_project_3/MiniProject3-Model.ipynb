{
 "cells": [
  {
   "cell_type": "markdown",
   "metadata": {},
   "source": [
    "# "
   ]
  },
  {
   "cell_type": "markdown",
   "metadata": {
    "colab_type": "text",
    "id": "Nji1a9ULLtCA"
   },
   "source": [
    "# Mini Project III - Twitter US Airline Sentiment Analysis \n",
    "\n",
    "# with Counter Vector and TF-IDF as Features"
   ]
  },
  {
   "cell_type": "markdown",
   "metadata": {},
   "source": [
    "## Dataset\n",
    "\n",
    "This data originally came from Crowdflower's Data for Everyone library(based on Kaggle.com),downloaded from www.kaggle.com. This dataset contains 15000 rows and 15 features.\n",
    "\n"
   ]
  },
  {
   "cell_type": "markdown",
   "metadata": {
    "colab_type": "text",
    "id": "6pm8PttyLtCI"
   },
   "source": [
    "### Import libraries"
   ]
  },
  {
   "cell_type": "code",
   "execution_count": 1,
   "metadata": {
    "ExecuteTime": {
     "end_time": "2019-06-17T01:38:33.182995Z",
     "start_time": "2019-06-17T01:38:30.045388Z"
    },
    "colab": {},
    "colab_type": "code",
    "id": "EUANiH6zLtCK"
   },
   "outputs": [],
   "source": [
    "## Import Libraries\n",
    "import numpy as np\n",
    "import pandas as pd\n",
    "\n",
    "import matplotlib.pyplot as plt\n",
    "import seaborn as sns\n",
    "\n",
    "import string\n",
    "import spacy\n",
    "import regex as re\n",
    "from wordcloud import WordCloud, STOPWORDS\n",
    "\n",
    "from collections import Counter\n",
    "\n",
    "from sklearn.decomposition import LatentDirichletAllocation\n",
    "from sklearn.ensemble import GradientBoostingClassifier\n",
    "from sklearn.ensemble import RandomForestClassifier\n",
    "from sklearn.feature_extraction.text import CountVectorizer\n",
    "from sklearn.feature_extraction.text import TfidfVectorizer\n",
    "from sklearn.linear_model import LogisticRegression\n",
    "from sklearn.metrics import accuracy_score\n",
    "from sklearn.model_selection import train_test_split\n",
    "from sklearn.naive_bayes import MultinomialNB\n",
    "from sklearn.svm import LinearSVC\n",
    "\n",
    "\n",
    "from sklearn.preprocessing import StandardScaler\n",
    "from sklearn.model_selection import GridSearchCV\n",
    "from sklearn.model_selection import RandomizedSearchCV\n",
    "from sklearn.feature_selection import RFECV\n",
    "from sklearn import model_selection\n",
    "from sklearn.model_selection import cross_val_score\n",
    "\n",
    "from sklearn import metrics\n",
    "from sklearn.metrics import classification_report, confusion_matrix\n",
    "# import warnings\n",
    "# warnings.filterwarnings('ignore')\n",
    "\n",
    "%matplotlib inline"
   ]
  },
  {
   "cell_type": "markdown",
   "metadata": {
    "colab_type": "text",
    "id": "58bUNQA0LtCV"
   },
   "source": [
    "#### Load data"
   ]
  },
  {
   "cell_type": "code",
   "execution_count": 2,
   "metadata": {
    "ExecuteTime": {
     "end_time": "2019-06-17T01:38:42.024845Z",
     "start_time": "2019-06-17T01:38:41.896098Z"
    },
    "colab": {},
    "colab_type": "code",
    "id": "rwWFJprZLtCZ"
   },
   "outputs": [
    {
     "data": {
      "text/html": [
       "<div>\n",
       "<style scoped>\n",
       "    .dataframe tbody tr th:only-of-type {\n",
       "        vertical-align: middle;\n",
       "    }\n",
       "\n",
       "    .dataframe tbody tr th {\n",
       "        vertical-align: top;\n",
       "    }\n",
       "\n",
       "    .dataframe thead th {\n",
       "        text-align: right;\n",
       "    }\n",
       "</style>\n",
       "<table border=\"1\" class=\"dataframe\">\n",
       "  <thead>\n",
       "    <tr style=\"text-align: right;\">\n",
       "      <th></th>\n",
       "      <th>tweet_id</th>\n",
       "      <th>airline_sentiment</th>\n",
       "      <th>airline_sentiment_confidence</th>\n",
       "      <th>negativereason</th>\n",
       "      <th>negativereason_confidence</th>\n",
       "      <th>airline</th>\n",
       "      <th>airline_sentiment_gold</th>\n",
       "      <th>name</th>\n",
       "      <th>negativereason_gold</th>\n",
       "      <th>retweet_count</th>\n",
       "      <th>text</th>\n",
       "      <th>tweet_coord</th>\n",
       "      <th>tweet_created</th>\n",
       "      <th>tweet_location</th>\n",
       "      <th>user_timezone</th>\n",
       "    </tr>\n",
       "  </thead>\n",
       "  <tbody>\n",
       "    <tr>\n",
       "      <th>0</th>\n",
       "      <td>570306133677760513</td>\n",
       "      <td>neutral</td>\n",
       "      <td>1.0000</td>\n",
       "      <td>NaN</td>\n",
       "      <td>NaN</td>\n",
       "      <td>Virgin America</td>\n",
       "      <td>NaN</td>\n",
       "      <td>cairdin</td>\n",
       "      <td>NaN</td>\n",
       "      <td>0</td>\n",
       "      <td>@VirginAmerica What @dhepburn said.</td>\n",
       "      <td>NaN</td>\n",
       "      <td>2015-02-24 11:35:52 -0800</td>\n",
       "      <td>NaN</td>\n",
       "      <td>Eastern Time (US &amp; Canada)</td>\n",
       "    </tr>\n",
       "    <tr>\n",
       "      <th>1</th>\n",
       "      <td>570301130888122368</td>\n",
       "      <td>positive</td>\n",
       "      <td>0.3486</td>\n",
       "      <td>NaN</td>\n",
       "      <td>0.0000</td>\n",
       "      <td>Virgin America</td>\n",
       "      <td>NaN</td>\n",
       "      <td>jnardino</td>\n",
       "      <td>NaN</td>\n",
       "      <td>0</td>\n",
       "      <td>@VirginAmerica plus you've added commercials t...</td>\n",
       "      <td>NaN</td>\n",
       "      <td>2015-02-24 11:15:59 -0800</td>\n",
       "      <td>NaN</td>\n",
       "      <td>Pacific Time (US &amp; Canada)</td>\n",
       "    </tr>\n",
       "    <tr>\n",
       "      <th>2</th>\n",
       "      <td>570301083672813571</td>\n",
       "      <td>neutral</td>\n",
       "      <td>0.6837</td>\n",
       "      <td>NaN</td>\n",
       "      <td>NaN</td>\n",
       "      <td>Virgin America</td>\n",
       "      <td>NaN</td>\n",
       "      <td>yvonnalynn</td>\n",
       "      <td>NaN</td>\n",
       "      <td>0</td>\n",
       "      <td>@VirginAmerica I didn't today... Must mean I n...</td>\n",
       "      <td>NaN</td>\n",
       "      <td>2015-02-24 11:15:48 -0800</td>\n",
       "      <td>Lets Play</td>\n",
       "      <td>Central Time (US &amp; Canada)</td>\n",
       "    </tr>\n",
       "    <tr>\n",
       "      <th>3</th>\n",
       "      <td>570301031407624196</td>\n",
       "      <td>negative</td>\n",
       "      <td>1.0000</td>\n",
       "      <td>Bad Flight</td>\n",
       "      <td>0.7033</td>\n",
       "      <td>Virgin America</td>\n",
       "      <td>NaN</td>\n",
       "      <td>jnardino</td>\n",
       "      <td>NaN</td>\n",
       "      <td>0</td>\n",
       "      <td>@VirginAmerica it's really aggressive to blast...</td>\n",
       "      <td>NaN</td>\n",
       "      <td>2015-02-24 11:15:36 -0800</td>\n",
       "      <td>NaN</td>\n",
       "      <td>Pacific Time (US &amp; Canada)</td>\n",
       "    </tr>\n",
       "    <tr>\n",
       "      <th>4</th>\n",
       "      <td>570300817074462722</td>\n",
       "      <td>negative</td>\n",
       "      <td>1.0000</td>\n",
       "      <td>Can't Tell</td>\n",
       "      <td>1.0000</td>\n",
       "      <td>Virgin America</td>\n",
       "      <td>NaN</td>\n",
       "      <td>jnardino</td>\n",
       "      <td>NaN</td>\n",
       "      <td>0</td>\n",
       "      <td>@VirginAmerica and it's a really big bad thing...</td>\n",
       "      <td>NaN</td>\n",
       "      <td>2015-02-24 11:14:45 -0800</td>\n",
       "      <td>NaN</td>\n",
       "      <td>Pacific Time (US &amp; Canada)</td>\n",
       "    </tr>\n",
       "  </tbody>\n",
       "</table>\n",
       "</div>"
      ],
      "text/plain": [
       "             tweet_id airline_sentiment  airline_sentiment_confidence  \\\n",
       "0  570306133677760513           neutral                        1.0000   \n",
       "1  570301130888122368          positive                        0.3486   \n",
       "2  570301083672813571           neutral                        0.6837   \n",
       "3  570301031407624196          negative                        1.0000   \n",
       "4  570300817074462722          negative                        1.0000   \n",
       "\n",
       "  negativereason  negativereason_confidence         airline  \\\n",
       "0            NaN                        NaN  Virgin America   \n",
       "1            NaN                     0.0000  Virgin America   \n",
       "2            NaN                        NaN  Virgin America   \n",
       "3     Bad Flight                     0.7033  Virgin America   \n",
       "4     Can't Tell                     1.0000  Virgin America   \n",
       "\n",
       "  airline_sentiment_gold        name negativereason_gold  retweet_count  \\\n",
       "0                    NaN     cairdin                 NaN              0   \n",
       "1                    NaN    jnardino                 NaN              0   \n",
       "2                    NaN  yvonnalynn                 NaN              0   \n",
       "3                    NaN    jnardino                 NaN              0   \n",
       "4                    NaN    jnardino                 NaN              0   \n",
       "\n",
       "                                                text tweet_coord  \\\n",
       "0                @VirginAmerica What @dhepburn said.         NaN   \n",
       "1  @VirginAmerica plus you've added commercials t...         NaN   \n",
       "2  @VirginAmerica I didn't today... Must mean I n...         NaN   \n",
       "3  @VirginAmerica it's really aggressive to blast...         NaN   \n",
       "4  @VirginAmerica and it's a really big bad thing...         NaN   \n",
       "\n",
       "               tweet_created tweet_location               user_timezone  \n",
       "0  2015-02-24 11:35:52 -0800            NaN  Eastern Time (US & Canada)  \n",
       "1  2015-02-24 11:15:59 -0800            NaN  Pacific Time (US & Canada)  \n",
       "2  2015-02-24 11:15:48 -0800      Lets Play  Central Time (US & Canada)  \n",
       "3  2015-02-24 11:15:36 -0800            NaN  Pacific Time (US & Canada)  \n",
       "4  2015-02-24 11:14:45 -0800            NaN  Pacific Time (US & Canada)  "
      ]
     },
     "execution_count": 2,
     "metadata": {},
     "output_type": "execute_result"
    }
   ],
   "source": [
    "## Loading the data\n",
    "df = pd.read_csv('./Data/Tweets.csv')\n",
    "df.head()\n"
   ]
  },
  {
   "cell_type": "markdown",
   "metadata": {
    "colab_type": "text",
    "id": "mILVIHomLtCf"
   },
   "source": [
    "## EDA\n",
    "\n",
    "#### Inspect the data\n",
    "\n",
    "- Check for\n",
    "    - **Number of features**\n",
    "    - **Data types**\n",
    "    - **Domains, Intervals**\n",
    "    - **Outliers** (are they valid or expurious data [read or measure errors])\n",
    "  \n",
    "    - **Missing Values** (coded [as zero of empty strings] or values not present)\n",
    "    - **Coded content** (classes identified by numbers or codes to represent absence of data)\n"
   ]
  },
  {
   "cell_type": "code",
   "execution_count": 3,
   "metadata": {},
   "outputs": [
    {
     "data": {
      "text/plain": [
       "(14640, 15)"
      ]
     },
     "execution_count": 3,
     "metadata": {},
     "output_type": "execute_result"
    }
   ],
   "source": [
    "df.shape"
   ]
  },
  {
   "cell_type": "code",
   "execution_count": 4,
   "metadata": {},
   "outputs": [
    {
     "name": "stdout",
     "output_type": "stream",
     "text": [
      "<class 'pandas.core.frame.DataFrame'>\n",
      "RangeIndex: 14640 entries, 0 to 14639\n",
      "Data columns (total 15 columns):\n",
      " #   Column                        Non-Null Count  Dtype  \n",
      "---  ------                        --------------  -----  \n",
      " 0   tweet_id                      14640 non-null  int64  \n",
      " 1   airline_sentiment             14640 non-null  object \n",
      " 2   airline_sentiment_confidence  14640 non-null  float64\n",
      " 3   negativereason                9178 non-null   object \n",
      " 4   negativereason_confidence     10522 non-null  float64\n",
      " 5   airline                       14640 non-null  object \n",
      " 6   airline_sentiment_gold        40 non-null     object \n",
      " 7   name                          14640 non-null  object \n",
      " 8   negativereason_gold           32 non-null     object \n",
      " 9   retweet_count                 14640 non-null  int64  \n",
      " 10  text                          14640 non-null  object \n",
      " 11  tweet_coord                   1019 non-null   object \n",
      " 12  tweet_created                 14640 non-null  object \n",
      " 13  tweet_location                9907 non-null   object \n",
      " 14  user_timezone                 9820 non-null   object \n",
      "dtypes: float64(2), int64(2), object(11)\n",
      "memory usage: 1.7+ MB\n"
     ]
    }
   ],
   "source": [
    "df.info()"
   ]
  },
  {
   "cell_type": "markdown",
   "metadata": {},
   "source": [
    "###### Check for **Null** values "
   ]
  },
  {
   "cell_type": "code",
   "execution_count": 5,
   "metadata": {},
   "outputs": [
    {
     "data": {
      "text/plain": [
       "tweet_id                            0\n",
       "airline_sentiment                   0\n",
       "airline_sentiment_confidence        0\n",
       "negativereason                   5462\n",
       "negativereason_confidence        4118\n",
       "airline                             0\n",
       "airline_sentiment_gold          14600\n",
       "name                                0\n",
       "negativereason_gold             14608\n",
       "retweet_count                       0\n",
       "text                                0\n",
       "tweet_coord                     13621\n",
       "tweet_created                       0\n",
       "tweet_location                   4733\n",
       "user_timezone                    4820\n",
       "dtype: int64"
      ]
     },
     "execution_count": 5,
     "metadata": {},
     "output_type": "execute_result"
    }
   ],
   "source": [
    "df.isnull().sum()"
   ]
  },
  {
   "cell_type": "markdown",
   "metadata": {},
   "source": [
    "###### Drop Columns with more than 50% null values and unrelateed features for sentiment analysis"
   ]
  },
  {
   "cell_type": "code",
   "execution_count": 6,
   "metadata": {},
   "outputs": [],
   "source": [
    "df_tweet=df.drop(['tweet_id' ,'airline_sentiment_confidence','negativereason_confidence','name','airline_sentiment_gold', 'negativereason_gold','retweet_count','tweet_coord','tweet_created','tweet_location','user_timezone'], axis = 1)"
   ]
  },
  {
   "cell_type": "code",
   "execution_count": 7,
   "metadata": {},
   "outputs": [
    {
     "data": {
      "text/html": [
       "<div>\n",
       "<style scoped>\n",
       "    .dataframe tbody tr th:only-of-type {\n",
       "        vertical-align: middle;\n",
       "    }\n",
       "\n",
       "    .dataframe tbody tr th {\n",
       "        vertical-align: top;\n",
       "    }\n",
       "\n",
       "    .dataframe thead th {\n",
       "        text-align: right;\n",
       "    }\n",
       "</style>\n",
       "<table border=\"1\" class=\"dataframe\">\n",
       "  <thead>\n",
       "    <tr style=\"text-align: right;\">\n",
       "      <th></th>\n",
       "      <th>airline_sentiment</th>\n",
       "      <th>negativereason</th>\n",
       "      <th>airline</th>\n",
       "      <th>text</th>\n",
       "    </tr>\n",
       "  </thead>\n",
       "  <tbody>\n",
       "    <tr>\n",
       "      <th>0</th>\n",
       "      <td>neutral</td>\n",
       "      <td>NaN</td>\n",
       "      <td>Virgin America</td>\n",
       "      <td>@VirginAmerica What @dhepburn said.</td>\n",
       "    </tr>\n",
       "    <tr>\n",
       "      <th>1</th>\n",
       "      <td>positive</td>\n",
       "      <td>NaN</td>\n",
       "      <td>Virgin America</td>\n",
       "      <td>@VirginAmerica plus you've added commercials t...</td>\n",
       "    </tr>\n",
       "    <tr>\n",
       "      <th>2</th>\n",
       "      <td>neutral</td>\n",
       "      <td>NaN</td>\n",
       "      <td>Virgin America</td>\n",
       "      <td>@VirginAmerica I didn't today... Must mean I n...</td>\n",
       "    </tr>\n",
       "    <tr>\n",
       "      <th>3</th>\n",
       "      <td>negative</td>\n",
       "      <td>Bad Flight</td>\n",
       "      <td>Virgin America</td>\n",
       "      <td>@VirginAmerica it's really aggressive to blast...</td>\n",
       "    </tr>\n",
       "    <tr>\n",
       "      <th>4</th>\n",
       "      <td>negative</td>\n",
       "      <td>Can't Tell</td>\n",
       "      <td>Virgin America</td>\n",
       "      <td>@VirginAmerica and it's a really big bad thing...</td>\n",
       "    </tr>\n",
       "  </tbody>\n",
       "</table>\n",
       "</div>"
      ],
      "text/plain": [
       "  airline_sentiment negativereason         airline  \\\n",
       "0           neutral            NaN  Virgin America   \n",
       "1          positive            NaN  Virgin America   \n",
       "2           neutral            NaN  Virgin America   \n",
       "3          negative     Bad Flight  Virgin America   \n",
       "4          negative     Can't Tell  Virgin America   \n",
       "\n",
       "                                                text  \n",
       "0                @VirginAmerica What @dhepburn said.  \n",
       "1  @VirginAmerica plus you've added commercials t...  \n",
       "2  @VirginAmerica I didn't today... Must mean I n...  \n",
       "3  @VirginAmerica it's really aggressive to blast...  \n",
       "4  @VirginAmerica and it's a really big bad thing...  "
      ]
     },
     "execution_count": 7,
     "metadata": {},
     "output_type": "execute_result"
    }
   ],
   "source": [
    "df_tweet.head()"
   ]
  },
  {
   "cell_type": "code",
   "execution_count": 8,
   "metadata": {},
   "outputs": [],
   "source": [
    "# # Drop Null values in Negative reason\n",
    "# df_tweet= df_tweet.dropna(axis=0, subset=['negativereason'])"
   ]
  },
  {
   "cell_type": "code",
   "execution_count": 9,
   "metadata": {},
   "outputs": [
    {
     "data": {
      "text/plain": [
       "airline_sentiment       0\n",
       "negativereason       5462\n",
       "airline                 0\n",
       "text                    0\n",
       "dtype: int64"
      ]
     },
     "execution_count": 9,
     "metadata": {},
     "output_type": "execute_result"
    }
   ],
   "source": [
    "df_tweet.isnull().sum()"
   ]
  },
  {
   "cell_type": "markdown",
   "metadata": {},
   "source": [
    "###### Check for **Zero** values "
   ]
  },
  {
   "cell_type": "code",
   "execution_count": 10,
   "metadata": {},
   "outputs": [
    {
     "data": {
      "text/plain": [
       "airline_sentiment    0\n",
       "negativereason       0\n",
       "airline              0\n",
       "text                 0\n",
       "dtype: int64"
      ]
     },
     "execution_count": 10,
     "metadata": {},
     "output_type": "execute_result"
    }
   ],
   "source": [
    "df_tweet.isin([0]).sum()"
   ]
  },
  {
   "cell_type": "markdown",
   "metadata": {},
   "source": [
    "###### check for value counts in each column"
   ]
  },
  {
   "cell_type": "code",
   "execution_count": 11,
   "metadata": {},
   "outputs": [
    {
     "data": {
      "text/plain": [
       "negative    9178\n",
       "neutral     3099\n",
       "positive    2363\n",
       "Name: airline_sentiment, dtype: int64"
      ]
     },
     "execution_count": 11,
     "metadata": {},
     "output_type": "execute_result"
    }
   ],
   "source": [
    "df_tweet['airline_sentiment'].value_counts()"
   ]
  },
  {
   "cell_type": "code",
   "execution_count": 12,
   "metadata": {},
   "outputs": [
    {
     "data": {
      "text/plain": [
       "Customer Service Issue         2910\n",
       "Late Flight                    1665\n",
       "Can't Tell                     1190\n",
       "Cancelled Flight                847\n",
       "Lost Luggage                    724\n",
       "Bad Flight                      580\n",
       "Flight Booking Problems         529\n",
       "Flight Attendant Complaints     481\n",
       "longlines                       178\n",
       "Damaged Luggage                  74\n",
       "Name: negativereason, dtype: int64"
      ]
     },
     "execution_count": 12,
     "metadata": {},
     "output_type": "execute_result"
    }
   ],
   "source": [
    "df_tweet['negativereason'].value_counts()"
   ]
  },
  {
   "cell_type": "code",
   "execution_count": 13,
   "metadata": {},
   "outputs": [
    {
     "data": {
      "text/plain": [
       "United            3822\n",
       "US Airways        2913\n",
       "American          2759\n",
       "Southwest         2420\n",
       "Delta             2222\n",
       "Virgin America     504\n",
       "Name: airline, dtype: int64"
      ]
     },
     "execution_count": 13,
     "metadata": {},
     "output_type": "execute_result"
    }
   ],
   "source": [
    "df_tweet['airline'].value_counts()"
   ]
  },
  {
   "cell_type": "code",
   "execution_count": 14,
   "metadata": {},
   "outputs": [],
   "source": [
    "# Select Data for Sentiment Analysis\n",
    "df_tweet['airline_sentiment'] = df_tweet['airline_sentiment'].replace(['negative','neutral','positive'],[-1,0,1])                "
   ]
  },
  {
   "cell_type": "code",
   "execution_count": 15,
   "metadata": {},
   "outputs": [],
   "source": [
    "df_tw=df_tweet.drop(['airline'], axis = 1)"
   ]
  },
  {
   "cell_type": "code",
   "execution_count": 16,
   "metadata": {
    "ExecuteTime": {
     "end_time": "2019-06-17T01:39:24.213192Z",
     "start_time": "2019-06-17T01:39:24.209202Z"
    },
    "colab": {},
    "colab_type": "code",
    "id": "G9_8RbOeLtCh"
   },
   "outputs": [
    {
     "data": {
      "text/html": [
       "<div>\n",
       "<style scoped>\n",
       "    .dataframe tbody tr th:only-of-type {\n",
       "        vertical-align: middle;\n",
       "    }\n",
       "\n",
       "    .dataframe tbody tr th {\n",
       "        vertical-align: top;\n",
       "    }\n",
       "\n",
       "    .dataframe thead th {\n",
       "        text-align: right;\n",
       "    }\n",
       "</style>\n",
       "<table border=\"1\" class=\"dataframe\">\n",
       "  <thead>\n",
       "    <tr style=\"text-align: right;\">\n",
       "      <th></th>\n",
       "      <th>airline_sentiment</th>\n",
       "      <th>negativereason</th>\n",
       "      <th>text</th>\n",
       "    </tr>\n",
       "  </thead>\n",
       "  <tbody>\n",
       "    <tr>\n",
       "      <th>0</th>\n",
       "      <td>0</td>\n",
       "      <td>NaN</td>\n",
       "      <td>@VirginAmerica What @dhepburn said.</td>\n",
       "    </tr>\n",
       "    <tr>\n",
       "      <th>1</th>\n",
       "      <td>1</td>\n",
       "      <td>NaN</td>\n",
       "      <td>@VirginAmerica plus you've added commercials t...</td>\n",
       "    </tr>\n",
       "    <tr>\n",
       "      <th>2</th>\n",
       "      <td>0</td>\n",
       "      <td>NaN</td>\n",
       "      <td>@VirginAmerica I didn't today... Must mean I n...</td>\n",
       "    </tr>\n",
       "    <tr>\n",
       "      <th>3</th>\n",
       "      <td>-1</td>\n",
       "      <td>Bad Flight</td>\n",
       "      <td>@VirginAmerica it's really aggressive to blast...</td>\n",
       "    </tr>\n",
       "    <tr>\n",
       "      <th>4</th>\n",
       "      <td>-1</td>\n",
       "      <td>Can't Tell</td>\n",
       "      <td>@VirginAmerica and it's a really big bad thing...</td>\n",
       "    </tr>\n",
       "  </tbody>\n",
       "</table>\n",
       "</div>"
      ],
      "text/plain": [
       "   airline_sentiment negativereason  \\\n",
       "0                  0            NaN   \n",
       "1                  1            NaN   \n",
       "2                  0            NaN   \n",
       "3                 -1     Bad Flight   \n",
       "4                 -1     Can't Tell   \n",
       "\n",
       "                                                text  \n",
       "0                @VirginAmerica What @dhepburn said.  \n",
       "1  @VirginAmerica plus you've added commercials t...  \n",
       "2  @VirginAmerica I didn't today... Must mean I n...  \n",
       "3  @VirginAmerica it's really aggressive to blast...  \n",
       "4  @VirginAmerica and it's a really big bad thing...  "
      ]
     },
     "execution_count": 16,
     "metadata": {},
     "output_type": "execute_result"
    }
   ],
   "source": [
    "# ANSWER\n",
    "df_tw.head()"
   ]
  },
  {
   "cell_type": "code",
   "execution_count": 17,
   "metadata": {},
   "outputs": [
    {
     "data": {
      "text/html": [
       "<div>\n",
       "<style scoped>\n",
       "    .dataframe tbody tr th:only-of-type {\n",
       "        vertical-align: middle;\n",
       "    }\n",
       "\n",
       "    .dataframe tbody tr th {\n",
       "        vertical-align: top;\n",
       "    }\n",
       "\n",
       "    .dataframe thead th {\n",
       "        text-align: right;\n",
       "    }\n",
       "</style>\n",
       "<table border=\"1\" class=\"dataframe\">\n",
       "  <thead>\n",
       "    <tr style=\"text-align: right;\">\n",
       "      <th></th>\n",
       "      <th>airline_sentiment</th>\n",
       "      <th>negativereason</th>\n",
       "      <th>text</th>\n",
       "    </tr>\n",
       "  </thead>\n",
       "  <tbody>\n",
       "    <tr>\n",
       "      <th>14635</th>\n",
       "      <td>1</td>\n",
       "      <td>NaN</td>\n",
       "      <td>@AmericanAir thank you we got on a different f...</td>\n",
       "    </tr>\n",
       "    <tr>\n",
       "      <th>14636</th>\n",
       "      <td>-1</td>\n",
       "      <td>Customer Service Issue</td>\n",
       "      <td>@AmericanAir leaving over 20 minutes Late Flig...</td>\n",
       "    </tr>\n",
       "    <tr>\n",
       "      <th>14637</th>\n",
       "      <td>0</td>\n",
       "      <td>NaN</td>\n",
       "      <td>@AmericanAir Please bring American Airlines to...</td>\n",
       "    </tr>\n",
       "    <tr>\n",
       "      <th>14638</th>\n",
       "      <td>-1</td>\n",
       "      <td>Customer Service Issue</td>\n",
       "      <td>@AmericanAir you have my money, you change my ...</td>\n",
       "    </tr>\n",
       "    <tr>\n",
       "      <th>14639</th>\n",
       "      <td>0</td>\n",
       "      <td>NaN</td>\n",
       "      <td>@AmericanAir we have 8 ppl so we need 2 know h...</td>\n",
       "    </tr>\n",
       "  </tbody>\n",
       "</table>\n",
       "</div>"
      ],
      "text/plain": [
       "       airline_sentiment          negativereason  \\\n",
       "14635                  1                     NaN   \n",
       "14636                 -1  Customer Service Issue   \n",
       "14637                  0                     NaN   \n",
       "14638                 -1  Customer Service Issue   \n",
       "14639                  0                     NaN   \n",
       "\n",
       "                                                    text  \n",
       "14635  @AmericanAir thank you we got on a different f...  \n",
       "14636  @AmericanAir leaving over 20 minutes Late Flig...  \n",
       "14637  @AmericanAir Please bring American Airlines to...  \n",
       "14638  @AmericanAir you have my money, you change my ...  \n",
       "14639  @AmericanAir we have 8 ppl so we need 2 know h...  "
      ]
     },
     "execution_count": 17,
     "metadata": {},
     "output_type": "execute_result"
    }
   ],
   "source": [
    "df_tw.tail()"
   ]
  },
  {
   "cell_type": "code",
   "execution_count": 18,
   "metadata": {},
   "outputs": [
    {
     "data": {
      "text/plain": [
       "airline_sentiment       0\n",
       "negativereason       5462\n",
       "text                    0\n",
       "dtype: int64"
      ]
     },
     "execution_count": 18,
     "metadata": {},
     "output_type": "execute_result"
    }
   ],
   "source": [
    "df_tw.isnull().sum()"
   ]
  },
  {
   "cell_type": "code",
   "execution_count": 19,
   "metadata": {},
   "outputs": [
    {
     "data": {
      "text/plain": [
       "(14640, 3)"
      ]
     },
     "execution_count": 19,
     "metadata": {},
     "output_type": "execute_result"
    }
   ],
   "source": [
    "df_tw.shape"
   ]
  },
  {
   "cell_type": "markdown",
   "metadata": {},
   "source": [
    "###### Data Cleaning for Analysis"
   ]
  },
  {
   "cell_type": "markdown",
   "metadata": {},
   "source": [
    "###### Step 1 - Clean text"
   ]
  },
  {
   "cell_type": "code",
   "execution_count": 20,
   "metadata": {},
   "outputs": [],
   "source": [
    "def clean_text(text):\n",
    "\n",
    "    # remove double quotes\n",
    "    text = re.sub(r'\"', '', text)\n",
    "    # remove @username \n",
    "    text = re.sub(r'@[\\w]*','',text)\n",
    "    # remove special characters, numbers, punctuations\n",
    "    text = re.sub(r'[^a-zA-Z#]', ' ', text)\n",
    "    # remove single characters\n",
    "    text = re.sub(r'\\s+[a-zA-Z]\\s+', ' ' , text)\n",
    "    # reduce multiple spaces and newlines to only one\n",
    "    text = re.sub(r'(\\s\\s+|\\n\\n+)', r'\\1', text)\n",
    "\n",
    "    return text"
   ]
  },
  {
   "cell_type": "code",
   "execution_count": 21,
   "metadata": {},
   "outputs": [],
   "source": [
    "# Clean Data\n",
    "df_tw['text'] = df_tw['text'].apply(clean_text)"
   ]
  },
  {
   "cell_type": "code",
   "execution_count": 22,
   "metadata": {},
   "outputs": [
    {
     "data": {
      "text/plain": [
       "0                                          What  said \n",
       "1     plus you ve added commercials to the experien...\n",
       "2     didn today    Must mean need to take another ...\n",
       "3     it really aggressive to blast obnoxious enter...\n",
       "4               and it a really big bad thing about it\n",
       "5     seriously would pay flight for seats that did...\n",
       "6     yes  nearly every time fly VX this  ear worm ...\n",
       "7     Really missed prime opportunity for Men Witho...\n",
       "8                            Well didn but NOW DO    D\n",
       "9     it was amazing  and arrived an hour early  Yo...\n",
       "Name: text, dtype: object"
      ]
     },
     "execution_count": 22,
     "metadata": {},
     "output_type": "execute_result"
    }
   ],
   "source": [
    "df_tw['text'].head(10)"
   ]
  },
  {
   "cell_type": "markdown",
   "metadata": {},
   "source": [
    "###### Step 2 - Remove stop words, puctuations and  perform lemmatization"
   ]
  },
  {
   "cell_type": "code",
   "execution_count": 23,
   "metadata": {},
   "outputs": [],
   "source": [
    "nlp = spacy.load('en_core_web_sm')"
   ]
  },
  {
   "cell_type": "code",
   "execution_count": 24,
   "metadata": {},
   "outputs": [],
   "source": [
    "# remove stop words, puctuations and  perform lemmatization\n",
    "def convert_text(text):\n",
    "  \n",
    "    doc = nlp(text)\n",
    "    t = [w for w in doc if not (w.is_stop | w.is_punct)]\n",
    "    x = [w.lemma_.lower() for w in t]\n",
    "\n",
    "    s= \" \".join(x)\n",
    "\n",
    "    return s"
   ]
  },
  {
   "cell_type": "code",
   "execution_count": 25,
   "metadata": {},
   "outputs": [
    {
     "name": "stdout",
     "output_type": "stream",
     "text": [
      "Wall time: 1min 16s\n"
     ]
    }
   ],
   "source": [
    "%%time\n",
    "df_tw['text'] = df_tw['text'].apply(convert_text)"
   ]
  },
  {
   "cell_type": "code",
   "execution_count": 26,
   "metadata": {},
   "outputs": [
    {
     "data": {
      "text/plain": [
       "0                                                  say\n",
       "1          plus ve add commercial experience     tacky\n",
       "2                        didn today     mean need trip\n",
       "3      aggressive blast obnoxious entertainment gue...\n",
       "4                                        big bad thing\n",
       "5      seriously pay flight seat didn play   bad th...\n",
       "6      yes   nearly time fly vx   ear worm   win aw...\n",
       "7      miss prime opportunity man hats parody     h...\n",
       "8                                           didn     d\n",
       "9                   amazing   arrive hour early   good\n",
       "Name: text, dtype: object"
      ]
     },
     "execution_count": 26,
     "metadata": {},
     "output_type": "execute_result"
    }
   ],
   "source": [
    "df_tw['text'].head(10)"
   ]
  },
  {
   "cell_type": "code",
   "execution_count": null,
   "metadata": {},
   "outputs": [],
   "source": []
  },
  {
   "cell_type": "markdown",
   "metadata": {
    "colab_type": "text",
    "id": "6YmYgG2pLtCu"
   },
   "source": [
    "## Split the data into train and test"
   ]
  },
  {
   "cell_type": "code",
   "execution_count": 27,
   "metadata": {
    "ExecuteTime": {
     "end_time": "2019-06-17T01:39:40.103737Z",
     "start_time": "2019-06-17T01:39:40.100739Z"
    },
    "colab": {},
    "colab_type": "code",
    "id": "j5vErjWFLtCy"
   },
   "outputs": [],
   "source": [
    "## ANSWER\n",
    "# Features and Labels\n",
    "X = df_tw['text']\n",
    "y = df_tw['airline_sentiment']\n",
    "# split the dataset\n",
    "X_train, X_test, y_train, y_test = train_test_split(X, y, test_size = 0.2, random_state = 42)"
   ]
  },
  {
   "cell_type": "markdown",
   "metadata": {
    "colab_type": "text",
    "id": "6nUp6oDOLtC1"
   },
   "source": [
    "## Feature Engineering"
   ]
  },
  {
   "cell_type": "markdown",
   "metadata": {
    "colab_type": "text",
    "id": "fKd9yTnyLtC2"
   },
   "source": [
    "### Count Vectors as features"
   ]
  },
  {
   "cell_type": "code",
   "execution_count": 28,
   "metadata": {
    "ExecuteTime": {
     "end_time": "2019-06-17T01:40:32.674674Z",
     "start_time": "2019-06-17T01:40:31.098889Z"
    },
    "colab": {},
    "colab_type": "code",
    "id": "DU2RqqDjLtC3"
   },
   "outputs": [],
   "source": [
    "# create a count vectorizer object\n",
    "count_vect = CountVectorizer(token_pattern = r'\\w{1,}')\n",
    "\n",
    "# Learn a vocabulary dictionary of all tokens in the raw documents\n",
    "count_vect.fit(df_tw['text'])\n",
    "\n",
    "# Transform documents to document-term matrix.\n",
    "X_train_count = count_vect.transform(X_train)\n",
    "X_test_count = count_vect.transform(X_test)"
   ]
  },
  {
   "cell_type": "code",
   "execution_count": 29,
   "metadata": {},
   "outputs": [
    {
     "data": {
      "text/plain": [
       "(11712, 10899)"
      ]
     },
     "execution_count": 29,
     "metadata": {},
     "output_type": "execute_result"
    }
   ],
   "source": [
    "X_train_count.shape"
   ]
  },
  {
   "cell_type": "code",
   "execution_count": 30,
   "metadata": {},
   "outputs": [
    {
     "data": {
      "text/plain": [
       "<11712x10899 sparse matrix of type '<class 'numpy.int64'>'\n",
       "\twith 91210 stored elements in Compressed Sparse Row format>"
      ]
     },
     "execution_count": 30,
     "metadata": {},
     "output_type": "execute_result"
    }
   ],
   "source": [
    "X_train_count"
   ]
  },
  {
   "cell_type": "markdown",
   "metadata": {
    "colab_type": "text",
    "id": "dJs6al0ILtC5"
   },
   "source": [
    "### TF-IDF Vectors as features\n",
    "- Word level\n",
    "- N-Gram level\n",
    "- Character level"
   ]
  },
  {
   "cell_type": "code",
   "execution_count": 31,
   "metadata": {
    "ExecuteTime": {
     "end_time": "2019-06-17T01:40:36.088730Z",
     "start_time": "2019-06-17T01:40:34.519925Z"
    },
    "colab": {},
    "colab_type": "code",
    "id": "myjfdfP_LtC6",
    "outputId": "8bc4d529-1f66-4836-acd1-07633c29fd02"
   },
   "outputs": [
    {
     "name": "stdout",
     "output_type": "stream",
     "text": [
      "TfidfVectorizer(max_features=5000, token_pattern='\\\\w{1,}')\n",
      "Wall time: 228 ms\n"
     ]
    }
   ],
   "source": [
    "%%time\n",
    "# word level tf-idf\n",
    "tfidf_vect = TfidfVectorizer(analyzer = 'word',\n",
    "                             token_pattern = r'\\w{1,}',\n",
    "                             max_features = 5000)\n",
    "print(tfidf_vect)\n",
    "\n",
    "tfidf_vect.fit(df_tw['text'])\n",
    "X_train_tfidf = tfidf_vect.transform(X_train)\n",
    "X_test_tfidf  = tfidf_vect.transform(X_test)"
   ]
  },
  {
   "cell_type": "code",
   "execution_count": 32,
   "metadata": {
    "ExecuteTime": {
     "end_time": "2019-06-17T01:40:57.505221Z",
     "start_time": "2019-06-17T01:40:49.387393Z"
    },
    "colab": {},
    "colab_type": "code",
    "id": "-h16dUaVLtC_",
    "outputId": "3be1f8f5-670e-4249-8522-50509c8898a0"
   },
   "outputs": [
    {
     "name": "stdout",
     "output_type": "stream",
     "text": [
      "TfidfVectorizer(max_features=5000, ngram_range=(2, 3), token_pattern='\\\\w{1,}')\n",
      "Wall time: 738 ms\n"
     ]
    }
   ],
   "source": [
    "%%time\n",
    "# ngram level tf-idf\n",
    "tfidf_vect_ngram = TfidfVectorizer(analyzer = 'word',\n",
    "                                   token_pattern = r'\\w{1,}',\n",
    "                                   ngram_range = (2, 3),\n",
    "                                   max_features = 5000)\n",
    "print(tfidf_vect_ngram)\n",
    "\n",
    "tfidf_vect_ngram.fit(df_tw['text'])\n",
    "X_train_tfidf_ngram = tfidf_vect_ngram.transform(X_train)\n",
    "X_test_tfidf_ngram  = tfidf_vect_ngram.transform(X_test)"
   ]
  },
  {
   "cell_type": "code",
   "execution_count": 33,
   "metadata": {
    "ExecuteTime": {
     "end_time": "2019-06-17T01:41:10.209071Z",
     "start_time": "2019-06-17T01:40:59.211484Z"
    },
    "colab": {},
    "colab_type": "code",
    "id": "Y7rmIt49LtDC",
    "outputId": "8f600e7c-b4df-4d89-bfb9-96c8436aa5ef"
   },
   "outputs": [
    {
     "name": "stdout",
     "output_type": "stream",
     "text": [
      "TfidfVectorizer(analyzer='char', max_features=5000, ngram_range=(2, 3),\n",
      "                token_pattern='\\\\w{1,}')\n"
     ]
    },
    {
     "name": "stderr",
     "output_type": "stream",
     "text": [
      "C:\\Users\\SULAKKHANA\\anaconda3\\lib\\site-packages\\sklearn\\feature_extraction\\text.py:506: UserWarning: The parameter 'token_pattern' will not be used since 'analyzer' != 'word'\n",
      "  warnings.warn(\"The parameter 'token_pattern' will not be used\"\n"
     ]
    },
    {
     "name": "stdout",
     "output_type": "stream",
     "text": [
      "Wall time: 1.64 s\n"
     ]
    }
   ],
   "source": [
    "%%time\n",
    "# characters level tf-idf\n",
    "tfidf_vect_ngram_chars = TfidfVectorizer(analyzer = 'char',\n",
    "                                         token_pattern = r'\\w{1,}',\n",
    "                                         ngram_range = (2, 3),\n",
    "                                         max_features = 5000)\n",
    "print(tfidf_vect_ngram_chars)\n",
    "\n",
    "tfidf_vect_ngram_chars.fit(df_tw['text'])\n",
    "X_train_tfidf_ngram_chars = tfidf_vect_ngram_chars.transform(X_train)\n",
    "X_test_tfidf_ngram_chars  = tfidf_vect_ngram_chars.transform(X_test)"
   ]
  },
  {
   "cell_type": "markdown",
   "metadata": {
    "colab_type": "text",
    "id": "TtfnK1jeLtDl"
   },
   "source": [
    "## Modelling"
   ]
  },
  {
   "cell_type": "code",
   "execution_count": 34,
   "metadata": {},
   "outputs": [],
   "source": [
    "import time"
   ]
  },
  {
   "cell_type": "code",
   "execution_count": 35,
   "metadata": {},
   "outputs": [],
   "source": [
    "# Model evaluation function\n",
    "def evaluate_model(classifier, feature_vector_train, label_train, feature_vector_test,label_test):\n",
    "    # fit the training dataset on the classifier\n",
    "    classifier.fit(feature_vector_train, label_train)\n",
    "\n",
    "    # predict the labels on validation dataset\n",
    "    predictions = classifier.predict(feature_vector_test)\n",
    "    \n",
    "    # predict accuracy\n",
    "    print(f\" Accuracy Score for train data = {classifier.score(feature_vector_train, label_train)}\")\n",
    "    print(f\" Accuracy Score for test data = {classifier.score(feature_vector_test, label_test)}\")\n",
    "    \n",
    "    \n",
    "    # confusion matrix\n",
    "    log_cm = metrics.confusion_matrix(label_test, predictions,[-1,0,1])\n",
    "    sns.heatmap(log_cm, annot=True, fmt='.2f',xticklabels = [\"Negative\",\"Neutral\", \"Positive\"] , yticklabels = [\"Negative\",\"Neutral\", \"Positive\"],cmap='Blues' )\n",
    "    plt.title('Confusion Matrics')\n",
    "    plt.savefig('cm')\n",
    "    \n",
    "   \n",
    "    # Classification Report for test data\n",
    "    print(\"Classification Report for test data\")\n",
    "    print(classification_report(label_test, predictions))\n",
    "    \n",
    "    return classifier.score(feature_vector_test, label_test)\n"
   ]
  },
  {
   "cell_type": "code",
   "execution_count": 36,
   "metadata": {
    "ExecuteTime": {
     "end_time": "2019-06-17T02:34:14.900001Z",
     "start_time": "2019-06-17T02:34:14.894016Z"
    },
    "colab": {},
    "colab_type": "code",
    "id": "f_onpqUkLtDo"
   },
   "outputs": [],
   "source": [
    "# Keep the results in a dataframe\n",
    "results = pd.DataFrame(columns = ['Count Vectors',\n",
    "                                  'WordLevel TF-IDF',\n",
    "                                  'N-Gram Vectors',\n",
    "                                  'CharLevel Vectors'])"
   ]
  },
  {
   "cell_type": "markdown",
   "metadata": {
    "colab_type": "text",
    "id": "OXwLriDpLtDq"
   },
   "source": [
    "### Naive Bayes Classifier"
   ]
  },
  {
   "cell_type": "markdown",
   "metadata": {},
   "source": [
    "#### Count Vectors"
   ]
  },
  {
   "cell_type": "code",
   "execution_count": 37,
   "metadata": {},
   "outputs": [
    {
     "name": "stdout",
     "output_type": "stream",
     "text": [
      " Accuracy Score for train data = 0.8237704918032787\n",
      " Accuracy Score for test data = 0.7711748633879781\n",
      "Wall time: 7.01 ms\n"
     ]
    }
   ],
   "source": [
    "%%time\n",
    "# Naive Bayes on Count Vectors\n",
    "mnb_model = MultinomialNB()\n",
    "mnb_model.fit( X_train_count, y_train)\n",
    "# Score\n",
    "\n",
    "print(f\" Accuracy Score for train data = {mnb_model.score(X_train_count, y_train)}\")\n",
    "print(f\" Accuracy Score for test data = {mnb_model.score(X_test_count , y_test)}\")"
   ]
  },
  {
   "cell_type": "markdown",
   "metadata": {},
   "source": [
    "#### Naive Bayes Classifier Hyperparameter tuning on count vectors"
   ]
  },
  {
   "cell_type": "code",
   "execution_count": 38,
   "metadata": {},
   "outputs": [
    {
     "data": {
      "text/html": [
       "<div>\n",
       "<style scoped>\n",
       "    .dataframe tbody tr th:only-of-type {\n",
       "        vertical-align: middle;\n",
       "    }\n",
       "\n",
       "    .dataframe tbody tr th {\n",
       "        vertical-align: top;\n",
       "    }\n",
       "\n",
       "    .dataframe thead th {\n",
       "        text-align: right;\n",
       "    }\n",
       "</style>\n",
       "<table border=\"1\" class=\"dataframe\">\n",
       "  <thead>\n",
       "    <tr style=\"text-align: right;\">\n",
       "      <th></th>\n",
       "      <th>0</th>\n",
       "      <th>1</th>\n",
       "      <th>2</th>\n",
       "      <th>3</th>\n",
       "      <th>4</th>\n",
       "      <th>5</th>\n",
       "      <th>6</th>\n",
       "      <th>7</th>\n",
       "      <th>8</th>\n",
       "      <th>9</th>\n",
       "    </tr>\n",
       "  </thead>\n",
       "  <tbody>\n",
       "    <tr>\n",
       "      <th>mean_fit_time</th>\n",
       "      <td>0.003206</td>\n",
       "      <td>0.003</td>\n",
       "      <td>0.003001</td>\n",
       "      <td>0.003001</td>\n",
       "      <td>0.002798</td>\n",
       "      <td>0.002798</td>\n",
       "      <td>0.003002</td>\n",
       "      <td>0.003003</td>\n",
       "      <td>0.003001</td>\n",
       "      <td>0.002801</td>\n",
       "    </tr>\n",
       "    <tr>\n",
       "      <th>std_fit_time</th>\n",
       "      <td>0.000407</td>\n",
       "      <td>0.000008</td>\n",
       "      <td>0.0</td>\n",
       "      <td>0.000008</td>\n",
       "      <td>0.000399</td>\n",
       "      <td>0.000399</td>\n",
       "      <td>0.000006</td>\n",
       "      <td>0.00001</td>\n",
       "      <td>0.000003</td>\n",
       "      <td>0.0004</td>\n",
       "    </tr>\n",
       "    <tr>\n",
       "      <th>mean_score_time</th>\n",
       "      <td>0.000199</td>\n",
       "      <td>0.000603</td>\n",
       "      <td>0.0002</td>\n",
       "      <td>0.0004</td>\n",
       "      <td>0.000603</td>\n",
       "      <td>0.000603</td>\n",
       "      <td>0.000599</td>\n",
       "      <td>0.000797</td>\n",
       "      <td>0.0004</td>\n",
       "      <td>0.0006</td>\n",
       "    </tr>\n",
       "    <tr>\n",
       "      <th>std_score_time</th>\n",
       "      <td>0.000397</td>\n",
       "      <td>0.000492</td>\n",
       "      <td>0.0004</td>\n",
       "      <td>0.00049</td>\n",
       "      <td>0.000492</td>\n",
       "      <td>0.000492</td>\n",
       "      <td>0.000489</td>\n",
       "      <td>0.000398</td>\n",
       "      <td>0.00049</td>\n",
       "      <td>0.00049</td>\n",
       "    </tr>\n",
       "    <tr>\n",
       "      <th>param_alpha</th>\n",
       "      <td>0.01</td>\n",
       "      <td>0.01</td>\n",
       "      <td>0.1</td>\n",
       "      <td>0.1</td>\n",
       "      <td>0.5</td>\n",
       "      <td>0.5</td>\n",
       "      <td>1.0</td>\n",
       "      <td>1.0</td>\n",
       "      <td>10.0</td>\n",
       "      <td>10.0</td>\n",
       "    </tr>\n",
       "    <tr>\n",
       "      <th>param_fit_prior</th>\n",
       "      <td>True</td>\n",
       "      <td>False</td>\n",
       "      <td>True</td>\n",
       "      <td>False</td>\n",
       "      <td>True</td>\n",
       "      <td>False</td>\n",
       "      <td>True</td>\n",
       "      <td>False</td>\n",
       "      <td>True</td>\n",
       "      <td>False</td>\n",
       "    </tr>\n",
       "    <tr>\n",
       "      <th>params</th>\n",
       "      <td>{'alpha': 0.01, 'fit_prior': True}</td>\n",
       "      <td>{'alpha': 0.01, 'fit_prior': False}</td>\n",
       "      <td>{'alpha': 0.1, 'fit_prior': True}</td>\n",
       "      <td>{'alpha': 0.1, 'fit_prior': False}</td>\n",
       "      <td>{'alpha': 0.5, 'fit_prior': True}</td>\n",
       "      <td>{'alpha': 0.5, 'fit_prior': False}</td>\n",
       "      <td>{'alpha': 1.0, 'fit_prior': True}</td>\n",
       "      <td>{'alpha': 1.0, 'fit_prior': False}</td>\n",
       "      <td>{'alpha': 10.0, 'fit_prior': True}</td>\n",
       "      <td>{'alpha': 10.0, 'fit_prior': False}</td>\n",
       "    </tr>\n",
       "    <tr>\n",
       "      <th>split0_test_score</th>\n",
       "      <td>0.7277</td>\n",
       "      <td>0.709774</td>\n",
       "      <td>0.736236</td>\n",
       "      <td>0.719163</td>\n",
       "      <td>0.750747</td>\n",
       "      <td>0.735382</td>\n",
       "      <td>0.74093</td>\n",
       "      <td>0.748186</td>\n",
       "      <td>0.655997</td>\n",
       "      <td>0.701665</td>\n",
       "    </tr>\n",
       "    <tr>\n",
       "      <th>split1_test_score</th>\n",
       "      <td>0.719163</td>\n",
       "      <td>0.708067</td>\n",
       "      <td>0.733675</td>\n",
       "      <td>0.718737</td>\n",
       "      <td>0.745625</td>\n",
       "      <td>0.744772</td>\n",
       "      <td>0.737516</td>\n",
       "      <td>0.74904</td>\n",
       "      <td>0.650875</td>\n",
       "      <td>0.697823</td>\n",
       "    </tr>\n",
       "    <tr>\n",
       "      <th>split2_test_score</th>\n",
       "      <td>0.722032</td>\n",
       "      <td>0.712212</td>\n",
       "      <td>0.73228</td>\n",
       "      <td>0.714774</td>\n",
       "      <td>0.74936</td>\n",
       "      <td>0.737404</td>\n",
       "      <td>0.744236</td>\n",
       "      <td>0.747652</td>\n",
       "      <td>0.654996</td>\n",
       "      <td>0.690009</td>\n",
       "    </tr>\n",
       "    <tr>\n",
       "      <th>split3_test_score</th>\n",
       "      <td>0.733988</td>\n",
       "      <td>0.71819</td>\n",
       "      <td>0.739966</td>\n",
       "      <td>0.725021</td>\n",
       "      <td>0.75064</td>\n",
       "      <td>0.743809</td>\n",
       "      <td>0.742955</td>\n",
       "      <td>0.750213</td>\n",
       "      <td>0.660547</td>\n",
       "      <td>0.70111</td>\n",
       "    </tr>\n",
       "    <tr>\n",
       "      <th>split4_test_score</th>\n",
       "      <td>0.722032</td>\n",
       "      <td>0.710931</td>\n",
       "      <td>0.730572</td>\n",
       "      <td>0.71819</td>\n",
       "      <td>0.737831</td>\n",
       "      <td>0.734415</td>\n",
       "      <td>0.732707</td>\n",
       "      <td>0.744236</td>\n",
       "      <td>0.656277</td>\n",
       "      <td>0.690863</td>\n",
       "    </tr>\n",
       "    <tr>\n",
       "      <th>mean_test_score</th>\n",
       "      <td>0.724983</td>\n",
       "      <td>0.711835</td>\n",
       "      <td>0.734546</td>\n",
       "      <td>0.719177</td>\n",
       "      <td>0.746841</td>\n",
       "      <td>0.739156</td>\n",
       "      <td>0.739669</td>\n",
       "      <td>0.747865</td>\n",
       "      <td>0.655738</td>\n",
       "      <td>0.696294</td>\n",
       "    </tr>\n",
       "    <tr>\n",
       "      <th>std_test_score</th>\n",
       "      <td>0.005287</td>\n",
       "      <td>0.003458</td>\n",
       "      <td>0.003284</td>\n",
       "      <td>0.003308</td>\n",
       "      <td>0.004872</td>\n",
       "      <td>0.004312</td>\n",
       "      <td>0.004156</td>\n",
       "      <td>0.002011</td>\n",
       "      <td>0.003088</td>\n",
       "      <td>0.004968</td>\n",
       "    </tr>\n",
       "    <tr>\n",
       "      <th>rank_test_score</th>\n",
       "      <td>6</td>\n",
       "      <td>8</td>\n",
       "      <td>5</td>\n",
       "      <td>7</td>\n",
       "      <td>2</td>\n",
       "      <td>4</td>\n",
       "      <td>3</td>\n",
       "      <td>1</td>\n",
       "      <td>10</td>\n",
       "      <td>9</td>\n",
       "    </tr>\n",
       "  </tbody>\n",
       "</table>\n",
       "</div>"
      ],
      "text/plain": [
       "                                                    0  \\\n",
       "mean_fit_time                                0.003206   \n",
       "std_fit_time                                 0.000407   \n",
       "mean_score_time                              0.000199   \n",
       "std_score_time                               0.000397   \n",
       "param_alpha                                      0.01   \n",
       "param_fit_prior                                  True   \n",
       "params             {'alpha': 0.01, 'fit_prior': True}   \n",
       "split0_test_score                              0.7277   \n",
       "split1_test_score                            0.719163   \n",
       "split2_test_score                            0.722032   \n",
       "split3_test_score                            0.733988   \n",
       "split4_test_score                            0.722032   \n",
       "mean_test_score                              0.724983   \n",
       "std_test_score                               0.005287   \n",
       "rank_test_score                                     6   \n",
       "\n",
       "                                                     1  \\\n",
       "mean_fit_time                                    0.003   \n",
       "std_fit_time                                  0.000008   \n",
       "mean_score_time                               0.000603   \n",
       "std_score_time                                0.000492   \n",
       "param_alpha                                       0.01   \n",
       "param_fit_prior                                  False   \n",
       "params             {'alpha': 0.01, 'fit_prior': False}   \n",
       "split0_test_score                             0.709774   \n",
       "split1_test_score                             0.708067   \n",
       "split2_test_score                             0.712212   \n",
       "split3_test_score                              0.71819   \n",
       "split4_test_score                             0.710931   \n",
       "mean_test_score                               0.711835   \n",
       "std_test_score                                0.003458   \n",
       "rank_test_score                                      8   \n",
       "\n",
       "                                                   2  \\\n",
       "mean_fit_time                               0.003001   \n",
       "std_fit_time                                     0.0   \n",
       "mean_score_time                               0.0002   \n",
       "std_score_time                                0.0004   \n",
       "param_alpha                                      0.1   \n",
       "param_fit_prior                                 True   \n",
       "params             {'alpha': 0.1, 'fit_prior': True}   \n",
       "split0_test_score                           0.736236   \n",
       "split1_test_score                           0.733675   \n",
       "split2_test_score                            0.73228   \n",
       "split3_test_score                           0.739966   \n",
       "split4_test_score                           0.730572   \n",
       "mean_test_score                             0.734546   \n",
       "std_test_score                              0.003284   \n",
       "rank_test_score                                    5   \n",
       "\n",
       "                                                    3  \\\n",
       "mean_fit_time                                0.003001   \n",
       "std_fit_time                                 0.000008   \n",
       "mean_score_time                                0.0004   \n",
       "std_score_time                                0.00049   \n",
       "param_alpha                                       0.1   \n",
       "param_fit_prior                                 False   \n",
       "params             {'alpha': 0.1, 'fit_prior': False}   \n",
       "split0_test_score                            0.719163   \n",
       "split1_test_score                            0.718737   \n",
       "split2_test_score                            0.714774   \n",
       "split3_test_score                            0.725021   \n",
       "split4_test_score                             0.71819   \n",
       "mean_test_score                              0.719177   \n",
       "std_test_score                               0.003308   \n",
       "rank_test_score                                     7   \n",
       "\n",
       "                                                   4  \\\n",
       "mean_fit_time                               0.002798   \n",
       "std_fit_time                                0.000399   \n",
       "mean_score_time                             0.000603   \n",
       "std_score_time                              0.000492   \n",
       "param_alpha                                      0.5   \n",
       "param_fit_prior                                 True   \n",
       "params             {'alpha': 0.5, 'fit_prior': True}   \n",
       "split0_test_score                           0.750747   \n",
       "split1_test_score                           0.745625   \n",
       "split2_test_score                            0.74936   \n",
       "split3_test_score                            0.75064   \n",
       "split4_test_score                           0.737831   \n",
       "mean_test_score                             0.746841   \n",
       "std_test_score                              0.004872   \n",
       "rank_test_score                                    2   \n",
       "\n",
       "                                                    5  \\\n",
       "mean_fit_time                                0.002798   \n",
       "std_fit_time                                 0.000399   \n",
       "mean_score_time                              0.000603   \n",
       "std_score_time                               0.000492   \n",
       "param_alpha                                       0.5   \n",
       "param_fit_prior                                 False   \n",
       "params             {'alpha': 0.5, 'fit_prior': False}   \n",
       "split0_test_score                            0.735382   \n",
       "split1_test_score                            0.744772   \n",
       "split2_test_score                            0.737404   \n",
       "split3_test_score                            0.743809   \n",
       "split4_test_score                            0.734415   \n",
       "mean_test_score                              0.739156   \n",
       "std_test_score                               0.004312   \n",
       "rank_test_score                                     4   \n",
       "\n",
       "                                                   6  \\\n",
       "mean_fit_time                               0.003002   \n",
       "std_fit_time                                0.000006   \n",
       "mean_score_time                             0.000599   \n",
       "std_score_time                              0.000489   \n",
       "param_alpha                                      1.0   \n",
       "param_fit_prior                                 True   \n",
       "params             {'alpha': 1.0, 'fit_prior': True}   \n",
       "split0_test_score                            0.74093   \n",
       "split1_test_score                           0.737516   \n",
       "split2_test_score                           0.744236   \n",
       "split3_test_score                           0.742955   \n",
       "split4_test_score                           0.732707   \n",
       "mean_test_score                             0.739669   \n",
       "std_test_score                              0.004156   \n",
       "rank_test_score                                    3   \n",
       "\n",
       "                                                    7  \\\n",
       "mean_fit_time                                0.003003   \n",
       "std_fit_time                                  0.00001   \n",
       "mean_score_time                              0.000797   \n",
       "std_score_time                               0.000398   \n",
       "param_alpha                                       1.0   \n",
       "param_fit_prior                                 False   \n",
       "params             {'alpha': 1.0, 'fit_prior': False}   \n",
       "split0_test_score                            0.748186   \n",
       "split1_test_score                             0.74904   \n",
       "split2_test_score                            0.747652   \n",
       "split3_test_score                            0.750213   \n",
       "split4_test_score                            0.744236   \n",
       "mean_test_score                              0.747865   \n",
       "std_test_score                               0.002011   \n",
       "rank_test_score                                     1   \n",
       "\n",
       "                                                    8  \\\n",
       "mean_fit_time                                0.003001   \n",
       "std_fit_time                                 0.000003   \n",
       "mean_score_time                                0.0004   \n",
       "std_score_time                                0.00049   \n",
       "param_alpha                                      10.0   \n",
       "param_fit_prior                                  True   \n",
       "params             {'alpha': 10.0, 'fit_prior': True}   \n",
       "split0_test_score                            0.655997   \n",
       "split1_test_score                            0.650875   \n",
       "split2_test_score                            0.654996   \n",
       "split3_test_score                            0.660547   \n",
       "split4_test_score                            0.656277   \n",
       "mean_test_score                              0.655738   \n",
       "std_test_score                               0.003088   \n",
       "rank_test_score                                    10   \n",
       "\n",
       "                                                     9  \n",
       "mean_fit_time                                 0.002801  \n",
       "std_fit_time                                    0.0004  \n",
       "mean_score_time                                 0.0006  \n",
       "std_score_time                                 0.00049  \n",
       "param_alpha                                       10.0  \n",
       "param_fit_prior                                  False  \n",
       "params             {'alpha': 10.0, 'fit_prior': False}  \n",
       "split0_test_score                             0.701665  \n",
       "split1_test_score                             0.697823  \n",
       "split2_test_score                             0.690009  \n",
       "split3_test_score                              0.70111  \n",
       "split4_test_score                             0.690863  \n",
       "mean_test_score                               0.696294  \n",
       "std_test_score                                0.004968  \n",
       "rank_test_score                                      9  "
      ]
     },
     "execution_count": 38,
     "metadata": {},
     "output_type": "execute_result"
    }
   ],
   "source": [
    "nvb_params = {\n",
    "    'fit_prior': [True, False],\n",
    "    'alpha': [0.01, 0.1, 0.5, 1.0, 10.0]\n",
    "}\n",
    "nvb=MultinomialNB()\n",
    "nvb_cv=GridSearchCV(nvb,nvb_params, cv=5, verbose=0)\n",
    "best_model = nvb_cv.fit(X_train_count,y_train)\n",
    "result = best_model.cv_results_\n",
    "pd.DataFrame.from_dict(result).T\n"
   ]
  },
  {
   "cell_type": "code",
   "execution_count": 39,
   "metadata": {},
   "outputs": [
    {
     "name": "stdout",
     "output_type": "stream",
     "text": [
      " Accuracy Score for train data = 0.8364071038251366\n",
      " Accuracy Score for test data = 0.769808743169399\n",
      "Classification Report for test data\n",
      "              precision    recall  f1-score   support\n",
      "\n",
      "          -1       0.84      0.87      0.86      1889\n",
      "           0       0.58      0.48      0.53       580\n",
      "           1       0.67      0.71      0.69       459\n",
      "\n",
      "    accuracy                           0.77      2928\n",
      "   macro avg       0.70      0.69      0.69      2928\n",
      "weighted avg       0.76      0.77      0.76      2928\n",
      "\n"
     ]
    },
    {
     "name": "stderr",
     "output_type": "stream",
     "text": [
      "C:\\Users\\SULAKKHANA\\anaconda3\\lib\\site-packages\\sklearn\\utils\\validation.py:70: FutureWarning: Pass labels=[-1, 0, 1] as keyword args. From version 1.0 (renaming of 0.25) passing these as positional arguments will result in an error\n",
      "  warnings.warn(f\"Pass {args_msg} as keyword args. From version \"\n"
     ]
    },
    {
     "name": "stdout",
     "output_type": "stream",
     "text": [
      "Wall time: 185 ms\n"
     ]
    },
    {
     "data": {
      "image/png": "[encoded data removed]",
      "text/plain": [
       "<Figure size 432x288 with 2 Axes>"
      ]
     },
     "metadata": {
      "needs_background": "light"
     },
     "output_type": "display_data"
    }
   ],
   "source": [
    "%%time\n",
    "# Naive Bayes on Count Vectors\n",
    "accuracy1 = evaluate_model(MultinomialNB(alpha = 1.0, fit_prior= False), X_train_count, y_train,X_test_count , y_test)"
   ]
  },
  {
   "cell_type": "markdown",
   "metadata": {},
   "source": [
    "#### On Word Level TF IDF Vectors"
   ]
  },
  {
   "cell_type": "code",
   "execution_count": 40,
   "metadata": {},
   "outputs": [
    {
     "name": "stdout",
     "output_type": "stream",
     "text": [
      " Accuracy Score for train data = 0.7613558743169399\n",
      " Accuracy Score for test data = 0.73224043715847\n",
      "Wall time: 5 ms\n"
     ]
    }
   ],
   "source": [
    "%%time\n",
    "# Naive Bayes on word Level TF IDF Vectors\n",
    "mnb_modeltf = MultinomialNB()\n",
    "mnb_modeltf.fit( X_train_tfidf, y_train)\n",
    "# Score\n",
    "\n",
    "print(f\" Accuracy Score for train data = {mnb_modeltf.score(X_train_tfidf, y_train)}\")\n",
    "print(f\" Accuracy Score for test data = {mnb_modeltf.score(X_test_tfidf , y_test)}\")"
   ]
  },
  {
   "cell_type": "markdown",
   "metadata": {},
   "source": [
    "##### Hyperparameter tuning on Word Level TF IDF Vectors"
   ]
  },
  {
   "cell_type": "code",
   "execution_count": 41,
   "metadata": {},
   "outputs": [
    {
     "data": {
      "text/html": [
       "<div>\n",
       "<style scoped>\n",
       "    .dataframe tbody tr th:only-of-type {\n",
       "        vertical-align: middle;\n",
       "    }\n",
       "\n",
       "    .dataframe tbody tr th {\n",
       "        vertical-align: top;\n",
       "    }\n",
       "\n",
       "    .dataframe thead th {\n",
       "        text-align: right;\n",
       "    }\n",
       "</style>\n",
       "<table border=\"1\" class=\"dataframe\">\n",
       "  <thead>\n",
       "    <tr style=\"text-align: right;\">\n",
       "      <th></th>\n",
       "      <th>0</th>\n",
       "      <th>1</th>\n",
       "      <th>2</th>\n",
       "      <th>3</th>\n",
       "      <th>4</th>\n",
       "      <th>5</th>\n",
       "      <th>6</th>\n",
       "      <th>7</th>\n",
       "      <th>8</th>\n",
       "      <th>9</th>\n",
       "    </tr>\n",
       "  </thead>\n",
       "  <tbody>\n",
       "    <tr>\n",
       "      <th>mean_fit_time</th>\n",
       "      <td>0.0032</td>\n",
       "      <td>0.003</td>\n",
       "      <td>0.003201</td>\n",
       "      <td>0.0028</td>\n",
       "      <td>0.0026</td>\n",
       "      <td>0.0026</td>\n",
       "      <td>0.0028</td>\n",
       "      <td>0.003</td>\n",
       "      <td>0.003</td>\n",
       "      <td>0.002601</td>\n",
       "    </tr>\n",
       "    <tr>\n",
       "      <th>std_fit_time</th>\n",
       "      <td>0.000749</td>\n",
       "      <td>0.000001</td>\n",
       "      <td>0.0004</td>\n",
       "      <td>0.0004</td>\n",
       "      <td>0.00049</td>\n",
       "      <td>0.00049</td>\n",
       "      <td>0.0004</td>\n",
       "      <td>0.0</td>\n",
       "      <td>0.000001</td>\n",
       "      <td>0.000489</td>\n",
       "    </tr>\n",
       "    <tr>\n",
       "      <th>mean_score_time</th>\n",
       "      <td>0.0004</td>\n",
       "      <td>0.0006</td>\n",
       "      <td>0.0002</td>\n",
       "      <td>0.000601</td>\n",
       "      <td>0.0004</td>\n",
       "      <td>0.0006</td>\n",
       "      <td>0.000601</td>\n",
       "      <td>0.0004</td>\n",
       "      <td>0.0002</td>\n",
       "      <td>0.000399</td>\n",
       "    </tr>\n",
       "    <tr>\n",
       "      <th>std_score_time</th>\n",
       "      <td>0.00049</td>\n",
       "      <td>0.00049</td>\n",
       "      <td>0.0004</td>\n",
       "      <td>0.00049</td>\n",
       "      <td>0.00049</td>\n",
       "      <td>0.00049</td>\n",
       "      <td>0.00049</td>\n",
       "      <td>0.00049</td>\n",
       "      <td>0.000401</td>\n",
       "      <td>0.000489</td>\n",
       "    </tr>\n",
       "    <tr>\n",
       "      <th>param_alpha</th>\n",
       "      <td>0.01</td>\n",
       "      <td>0.01</td>\n",
       "      <td>0.1</td>\n",
       "      <td>0.1</td>\n",
       "      <td>0.5</td>\n",
       "      <td>0.5</td>\n",
       "      <td>1.0</td>\n",
       "      <td>1.0</td>\n",
       "      <td>10.0</td>\n",
       "      <td>10.0</td>\n",
       "    </tr>\n",
       "    <tr>\n",
       "      <th>param_fit_prior</th>\n",
       "      <td>True</td>\n",
       "      <td>False</td>\n",
       "      <td>True</td>\n",
       "      <td>False</td>\n",
       "      <td>True</td>\n",
       "      <td>False</td>\n",
       "      <td>True</td>\n",
       "      <td>False</td>\n",
       "      <td>True</td>\n",
       "      <td>False</td>\n",
       "    </tr>\n",
       "    <tr>\n",
       "      <th>params</th>\n",
       "      <td>{'alpha': 0.01, 'fit_prior': True}</td>\n",
       "      <td>{'alpha': 0.01, 'fit_prior': False}</td>\n",
       "      <td>{'alpha': 0.1, 'fit_prior': True}</td>\n",
       "      <td>{'alpha': 0.1, 'fit_prior': False}</td>\n",
       "      <td>{'alpha': 0.5, 'fit_prior': True}</td>\n",
       "      <td>{'alpha': 0.5, 'fit_prior': False}</td>\n",
       "      <td>{'alpha': 1.0, 'fit_prior': True}</td>\n",
       "      <td>{'alpha': 1.0, 'fit_prior': False}</td>\n",
       "      <td>{'alpha': 10.0, 'fit_prior': True}</td>\n",
       "      <td>{'alpha': 10.0, 'fit_prior': False}</td>\n",
       "    </tr>\n",
       "    <tr>\n",
       "      <th>split0_test_score</th>\n",
       "      <td>0.7277</td>\n",
       "      <td>0.705506</td>\n",
       "      <td>0.73965</td>\n",
       "      <td>0.713188</td>\n",
       "      <td>0.728553</td>\n",
       "      <td>0.731114</td>\n",
       "      <td>0.70892</td>\n",
       "      <td>0.744345</td>\n",
       "      <td>0.639778</td>\n",
       "      <td>0.723431</td>\n",
       "    </tr>\n",
       "    <tr>\n",
       "      <th>split1_test_score</th>\n",
       "      <td>0.7277</td>\n",
       "      <td>0.710201</td>\n",
       "      <td>0.735382</td>\n",
       "      <td>0.71831</td>\n",
       "      <td>0.721724</td>\n",
       "      <td>0.741784</td>\n",
       "      <td>0.706786</td>\n",
       "      <td>0.749893</td>\n",
       "      <td>0.642766</td>\n",
       "      <td>0.717456</td>\n",
       "    </tr>\n",
       "    <tr>\n",
       "      <th>split2_test_score</th>\n",
       "      <td>0.730572</td>\n",
       "      <td>0.705807</td>\n",
       "      <td>0.746798</td>\n",
       "      <td>0.709223</td>\n",
       "      <td>0.734842</td>\n",
       "      <td>0.724167</td>\n",
       "      <td>0.707942</td>\n",
       "      <td>0.74082</td>\n",
       "      <td>0.639197</td>\n",
       "      <td>0.712639</td>\n",
       "    </tr>\n",
       "    <tr>\n",
       "      <th>split3_test_score</th>\n",
       "      <td>0.732707</td>\n",
       "      <td>0.711785</td>\n",
       "      <td>0.743382</td>\n",
       "      <td>0.727583</td>\n",
       "      <td>0.730572</td>\n",
       "      <td>0.743382</td>\n",
       "      <td>0.706661</td>\n",
       "      <td>0.749787</td>\n",
       "      <td>0.637062</td>\n",
       "      <td>0.720751</td>\n",
       "    </tr>\n",
       "    <tr>\n",
       "      <th>split4_test_score</th>\n",
       "      <td>0.721605</td>\n",
       "      <td>0.704099</td>\n",
       "      <td>0.728437</td>\n",
       "      <td>0.710077</td>\n",
       "      <td>0.727583</td>\n",
       "      <td>0.730572</td>\n",
       "      <td>0.711785</td>\n",
       "      <td>0.733561</td>\n",
       "      <td>0.636208</td>\n",
       "      <td>0.707515</td>\n",
       "    </tr>\n",
       "    <tr>\n",
       "      <th>mean_test_score</th>\n",
       "      <td>0.728057</td>\n",
       "      <td>0.707479</td>\n",
       "      <td>0.73873</td>\n",
       "      <td>0.715676</td>\n",
       "      <td>0.728655</td>\n",
       "      <td>0.734204</td>\n",
       "      <td>0.708419</td>\n",
       "      <td>0.743681</td>\n",
       "      <td>0.639002</td>\n",
       "      <td>0.716359</td>\n",
       "    </tr>\n",
       "    <tr>\n",
       "      <th>std_test_score</th>\n",
       "      <td>0.003737</td>\n",
       "      <td>0.002969</td>\n",
       "      <td>0.006399</td>\n",
       "      <td>0.006751</td>\n",
       "      <td>0.00427</td>\n",
       "      <td>0.007282</td>\n",
       "      <td>0.001874</td>\n",
       "      <td>0.006114</td>\n",
       "      <td>0.002297</td>\n",
       "      <td>0.005702</td>\n",
       "    </tr>\n",
       "    <tr>\n",
       "      <th>rank_test_score</th>\n",
       "      <td>5</td>\n",
       "      <td>9</td>\n",
       "      <td>2</td>\n",
       "      <td>7</td>\n",
       "      <td>4</td>\n",
       "      <td>3</td>\n",
       "      <td>8</td>\n",
       "      <td>1</td>\n",
       "      <td>10</td>\n",
       "      <td>6</td>\n",
       "    </tr>\n",
       "  </tbody>\n",
       "</table>\n",
       "</div>"
      ],
      "text/plain": [
       "                                                    0  \\\n",
       "mean_fit_time                                  0.0032   \n",
       "std_fit_time                                 0.000749   \n",
       "mean_score_time                                0.0004   \n",
       "std_score_time                                0.00049   \n",
       "param_alpha                                      0.01   \n",
       "param_fit_prior                                  True   \n",
       "params             {'alpha': 0.01, 'fit_prior': True}   \n",
       "split0_test_score                              0.7277   \n",
       "split1_test_score                              0.7277   \n",
       "split2_test_score                            0.730572   \n",
       "split3_test_score                            0.732707   \n",
       "split4_test_score                            0.721605   \n",
       "mean_test_score                              0.728057   \n",
       "std_test_score                               0.003737   \n",
       "rank_test_score                                     5   \n",
       "\n",
       "                                                     1  \\\n",
       "mean_fit_time                                    0.003   \n",
       "std_fit_time                                  0.000001   \n",
       "mean_score_time                                 0.0006   \n",
       "std_score_time                                 0.00049   \n",
       "param_alpha                                       0.01   \n",
       "param_fit_prior                                  False   \n",
       "params             {'alpha': 0.01, 'fit_prior': False}   \n",
       "split0_test_score                             0.705506   \n",
       "split1_test_score                             0.710201   \n",
       "split2_test_score                             0.705807   \n",
       "split3_test_score                             0.711785   \n",
       "split4_test_score                             0.704099   \n",
       "mean_test_score                               0.707479   \n",
       "std_test_score                                0.002969   \n",
       "rank_test_score                                      9   \n",
       "\n",
       "                                                   2  \\\n",
       "mean_fit_time                               0.003201   \n",
       "std_fit_time                                  0.0004   \n",
       "mean_score_time                               0.0002   \n",
       "std_score_time                                0.0004   \n",
       "param_alpha                                      0.1   \n",
       "param_fit_prior                                 True   \n",
       "params             {'alpha': 0.1, 'fit_prior': True}   \n",
       "split0_test_score                            0.73965   \n",
       "split1_test_score                           0.735382   \n",
       "split2_test_score                           0.746798   \n",
       "split3_test_score                           0.743382   \n",
       "split4_test_score                           0.728437   \n",
       "mean_test_score                              0.73873   \n",
       "std_test_score                              0.006399   \n",
       "rank_test_score                                    2   \n",
       "\n",
       "                                                    3  \\\n",
       "mean_fit_time                                  0.0028   \n",
       "std_fit_time                                   0.0004   \n",
       "mean_score_time                              0.000601   \n",
       "std_score_time                                0.00049   \n",
       "param_alpha                                       0.1   \n",
       "param_fit_prior                                 False   \n",
       "params             {'alpha': 0.1, 'fit_prior': False}   \n",
       "split0_test_score                            0.713188   \n",
       "split1_test_score                             0.71831   \n",
       "split2_test_score                            0.709223   \n",
       "split3_test_score                            0.727583   \n",
       "split4_test_score                            0.710077   \n",
       "mean_test_score                              0.715676   \n",
       "std_test_score                               0.006751   \n",
       "rank_test_score                                     7   \n",
       "\n",
       "                                                   4  \\\n",
       "mean_fit_time                                 0.0026   \n",
       "std_fit_time                                 0.00049   \n",
       "mean_score_time                               0.0004   \n",
       "std_score_time                               0.00049   \n",
       "param_alpha                                      0.5   \n",
       "param_fit_prior                                 True   \n",
       "params             {'alpha': 0.5, 'fit_prior': True}   \n",
       "split0_test_score                           0.728553   \n",
       "split1_test_score                           0.721724   \n",
       "split2_test_score                           0.734842   \n",
       "split3_test_score                           0.730572   \n",
       "split4_test_score                           0.727583   \n",
       "mean_test_score                             0.728655   \n",
       "std_test_score                               0.00427   \n",
       "rank_test_score                                    4   \n",
       "\n",
       "                                                    5  \\\n",
       "mean_fit_time                                  0.0026   \n",
       "std_fit_time                                  0.00049   \n",
       "mean_score_time                                0.0006   \n",
       "std_score_time                                0.00049   \n",
       "param_alpha                                       0.5   \n",
       "param_fit_prior                                 False   \n",
       "params             {'alpha': 0.5, 'fit_prior': False}   \n",
       "split0_test_score                            0.731114   \n",
       "split1_test_score                            0.741784   \n",
       "split2_test_score                            0.724167   \n",
       "split3_test_score                            0.743382   \n",
       "split4_test_score                            0.730572   \n",
       "mean_test_score                              0.734204   \n",
       "std_test_score                               0.007282   \n",
       "rank_test_score                                     3   \n",
       "\n",
       "                                                   6  \\\n",
       "mean_fit_time                                 0.0028   \n",
       "std_fit_time                                  0.0004   \n",
       "mean_score_time                             0.000601   \n",
       "std_score_time                               0.00049   \n",
       "param_alpha                                      1.0   \n",
       "param_fit_prior                                 True   \n",
       "params             {'alpha': 1.0, 'fit_prior': True}   \n",
       "split0_test_score                            0.70892   \n",
       "split1_test_score                           0.706786   \n",
       "split2_test_score                           0.707942   \n",
       "split3_test_score                           0.706661   \n",
       "split4_test_score                           0.711785   \n",
       "mean_test_score                             0.708419   \n",
       "std_test_score                              0.001874   \n",
       "rank_test_score                                    8   \n",
       "\n",
       "                                                    7  \\\n",
       "mean_fit_time                                   0.003   \n",
       "std_fit_time                                      0.0   \n",
       "mean_score_time                                0.0004   \n",
       "std_score_time                                0.00049   \n",
       "param_alpha                                       1.0   \n",
       "param_fit_prior                                 False   \n",
       "params             {'alpha': 1.0, 'fit_prior': False}   \n",
       "split0_test_score                            0.744345   \n",
       "split1_test_score                            0.749893   \n",
       "split2_test_score                             0.74082   \n",
       "split3_test_score                            0.749787   \n",
       "split4_test_score                            0.733561   \n",
       "mean_test_score                              0.743681   \n",
       "std_test_score                               0.006114   \n",
       "rank_test_score                                     1   \n",
       "\n",
       "                                                    8  \\\n",
       "mean_fit_time                                   0.003   \n",
       "std_fit_time                                 0.000001   \n",
       "mean_score_time                                0.0002   \n",
       "std_score_time                               0.000401   \n",
       "param_alpha                                      10.0   \n",
       "param_fit_prior                                  True   \n",
       "params             {'alpha': 10.0, 'fit_prior': True}   \n",
       "split0_test_score                            0.639778   \n",
       "split1_test_score                            0.642766   \n",
       "split2_test_score                            0.639197   \n",
       "split3_test_score                            0.637062   \n",
       "split4_test_score                            0.636208   \n",
       "mean_test_score                              0.639002   \n",
       "std_test_score                               0.002297   \n",
       "rank_test_score                                    10   \n",
       "\n",
       "                                                     9  \n",
       "mean_fit_time                                 0.002601  \n",
       "std_fit_time                                  0.000489  \n",
       "mean_score_time                               0.000399  \n",
       "std_score_time                                0.000489  \n",
       "param_alpha                                       10.0  \n",
       "param_fit_prior                                  False  \n",
       "params             {'alpha': 10.0, 'fit_prior': False}  \n",
       "split0_test_score                             0.723431  \n",
       "split1_test_score                             0.717456  \n",
       "split2_test_score                             0.712639  \n",
       "split3_test_score                             0.720751  \n",
       "split4_test_score                             0.707515  \n",
       "mean_test_score                               0.716359  \n",
       "std_test_score                                0.005702  \n",
       "rank_test_score                                      6  "
      ]
     },
     "execution_count": 41,
     "metadata": {},
     "output_type": "execute_result"
    }
   ],
   "source": [
    "nvb_params = {\n",
    "    'fit_prior': [True, False],\n",
    "    'alpha': [0.01, 0.1, 0.5, 1.0, 10.0]\n",
    "}\n",
    "nvb=MultinomialNB()\n",
    "nvb_cv=GridSearchCV(nvb,nvb_params, cv=5, verbose=0)\n",
    "best_model = nvb_cv.fit(X_train_tfidf,y_train)\n",
    "result = best_model.cv_results_\n",
    "pd.DataFrame.from_dict(result).T"
   ]
  },
  {
   "cell_type": "code",
   "execution_count": 42,
   "metadata": {},
   "outputs": [
    {
     "name": "stdout",
     "output_type": "stream",
     "text": [
      " Accuracy Score for train data = 0.8243681693989071\n",
      " Accuracy Score for test data = 0.769808743169399\n",
      "Classification Report for test data\n",
      "              precision    recall  f1-score   support\n",
      "\n",
      "          -1       0.85      0.86      0.86      1889\n",
      "           0       0.58      0.52      0.55       580\n",
      "           1       0.67      0.70      0.69       459\n",
      "\n",
      "    accuracy                           0.77      2928\n",
      "   macro avg       0.70      0.69      0.70      2928\n",
      "weighted avg       0.77      0.77      0.77      2928\n",
      "\n",
      "Wall time: 172 ms\n"
     ]
    },
    {
     "name": "stderr",
     "output_type": "stream",
     "text": [
      "C:\\Users\\SULAKKHANA\\anaconda3\\lib\\site-packages\\sklearn\\utils\\validation.py:70: FutureWarning: Pass labels=[-1, 0, 1] as keyword args. From version 1.0 (renaming of 0.25) passing these as positional arguments will result in an error\n",
      "  warnings.warn(f\"Pass {args_msg} as keyword args. From version \"\n"
     ]
    },
    {
     "data": {
      "image/png": "[encoded data removed]",
      "text/plain": [
       "<Figure size 432x288 with 2 Axes>"
      ]
     },
     "metadata": {
      "needs_background": "light"
     },
     "output_type": "display_data"
    }
   ],
   "source": [
    "%%time\n",
    "# Naive Bayes on word Level TF IDF Vectors\n",
    "accuracy2 = evaluate_model(MultinomialNB(alpha = 1.0, fit_prior= False), X_train_tfidf, y_train,X_test_tfidf  , y_test)"
   ]
  },
  {
   "cell_type": "markdown",
   "metadata": {},
   "source": [
    "#### on Ngram Level TF IDF Vectors"
   ]
  },
  {
   "cell_type": "code",
   "execution_count": 43,
   "metadata": {},
   "outputs": [
    {
     "name": "stdout",
     "output_type": "stream",
     "text": [
      " Accuracy Score for train data = 0.7318135245901639\n",
      " Accuracy Score for test data = 0.7021857923497268\n",
      "Wall time: 5.02 ms\n"
     ]
    }
   ],
   "source": [
    "%%time\n",
    "# Naive Bayes on Ngram Level TF IDF Vectors\n",
    "mnb_modelnf = MultinomialNB()\n",
    "mnb_modelnf.fit(X_train_tfidf_ngram, y_train)\n",
    "# Score\n",
    "# accuracy2 = mnb_modelnf.score(X_test_tfidf_ngram , y_test)\n",
    "print(f\" Accuracy Score for train data = {mnb_modelnf.score(X_train_tfidf_ngram, y_train)}\")\n",
    "print(f\" Accuracy Score for test data = {mnb_modelnf.score(X_test_tfidf_ngram , y_test)}\")"
   ]
  },
  {
   "cell_type": "markdown",
   "metadata": {},
   "source": [
    "##### Hyperparameter tuning on Ngram Level TF IDF Vectors"
   ]
  },
  {
   "cell_type": "code",
   "execution_count": 44,
   "metadata": {},
   "outputs": [
    {
     "data": {
      "text/html": [
       "<div>\n",
       "<style scoped>\n",
       "    .dataframe tbody tr th:only-of-type {\n",
       "        vertical-align: middle;\n",
       "    }\n",
       "\n",
       "    .dataframe tbody tr th {\n",
       "        vertical-align: top;\n",
       "    }\n",
       "\n",
       "    .dataframe thead th {\n",
       "        text-align: right;\n",
       "    }\n",
       "</style>\n",
       "<table border=\"1\" class=\"dataframe\">\n",
       "  <thead>\n",
       "    <tr style=\"text-align: right;\">\n",
       "      <th></th>\n",
       "      <th>0</th>\n",
       "      <th>1</th>\n",
       "      <th>2</th>\n",
       "      <th>3</th>\n",
       "      <th>4</th>\n",
       "      <th>5</th>\n",
       "      <th>6</th>\n",
       "      <th>7</th>\n",
       "      <th>8</th>\n",
       "      <th>9</th>\n",
       "    </tr>\n",
       "  </thead>\n",
       "  <tbody>\n",
       "    <tr>\n",
       "      <th>mean_fit_time</th>\n",
       "      <td>0.002599</td>\n",
       "      <td>0.002399</td>\n",
       "      <td>0.002399</td>\n",
       "      <td>0.0028</td>\n",
       "      <td>0.002421</td>\n",
       "      <td>0.00238</td>\n",
       "      <td>0.002598</td>\n",
       "      <td>0.014803</td>\n",
       "      <td>0.002376</td>\n",
       "      <td>0.002402</td>\n",
       "    </tr>\n",
       "    <tr>\n",
       "      <th>std_fit_time</th>\n",
       "      <td>0.000492</td>\n",
       "      <td>0.000484</td>\n",
       "      <td>0.000488</td>\n",
       "      <td>0.0004</td>\n",
       "      <td>0.000516</td>\n",
       "      <td>0.000466</td>\n",
       "      <td>0.000488</td>\n",
       "      <td>0.02461</td>\n",
       "      <td>0.000462</td>\n",
       "      <td>0.000489</td>\n",
       "    </tr>\n",
       "    <tr>\n",
       "      <th>mean_score_time</th>\n",
       "      <td>0.000604</td>\n",
       "      <td>0.0004</td>\n",
       "      <td>0.0006</td>\n",
       "      <td>0.0002</td>\n",
       "      <td>0.000401</td>\n",
       "      <td>0.0004</td>\n",
       "      <td>0.0002</td>\n",
       "      <td>0.0006</td>\n",
       "      <td>0.0004</td>\n",
       "      <td>0.000399</td>\n",
       "    </tr>\n",
       "    <tr>\n",
       "      <th>std_score_time</th>\n",
       "      <td>0.000493</td>\n",
       "      <td>0.00049</td>\n",
       "      <td>0.00049</td>\n",
       "      <td>0.0004</td>\n",
       "      <td>0.000491</td>\n",
       "      <td>0.00049</td>\n",
       "      <td>0.0004</td>\n",
       "      <td>0.00049</td>\n",
       "      <td>0.00049</td>\n",
       "      <td>0.000489</td>\n",
       "    </tr>\n",
       "    <tr>\n",
       "      <th>param_alpha</th>\n",
       "      <td>0.01</td>\n",
       "      <td>0.01</td>\n",
       "      <td>0.1</td>\n",
       "      <td>0.1</td>\n",
       "      <td>0.5</td>\n",
       "      <td>0.5</td>\n",
       "      <td>1.0</td>\n",
       "      <td>1.0</td>\n",
       "      <td>10.0</td>\n",
       "      <td>10.0</td>\n",
       "    </tr>\n",
       "    <tr>\n",
       "      <th>param_fit_prior</th>\n",
       "      <td>True</td>\n",
       "      <td>False</td>\n",
       "      <td>True</td>\n",
       "      <td>False</td>\n",
       "      <td>True</td>\n",
       "      <td>False</td>\n",
       "      <td>True</td>\n",
       "      <td>False</td>\n",
       "      <td>True</td>\n",
       "      <td>False</td>\n",
       "    </tr>\n",
       "    <tr>\n",
       "      <th>params</th>\n",
       "      <td>{'alpha': 0.01, 'fit_prior': True}</td>\n",
       "      <td>{'alpha': 0.01, 'fit_prior': False}</td>\n",
       "      <td>{'alpha': 0.1, 'fit_prior': True}</td>\n",
       "      <td>{'alpha': 0.1, 'fit_prior': False}</td>\n",
       "      <td>{'alpha': 0.5, 'fit_prior': True}</td>\n",
       "      <td>{'alpha': 0.5, 'fit_prior': False}</td>\n",
       "      <td>{'alpha': 1.0, 'fit_prior': True}</td>\n",
       "      <td>{'alpha': 1.0, 'fit_prior': False}</td>\n",
       "      <td>{'alpha': 10.0, 'fit_prior': True}</td>\n",
       "      <td>{'alpha': 10.0, 'fit_prior': False}</td>\n",
       "    </tr>\n",
       "    <tr>\n",
       "      <th>split0_test_score</th>\n",
       "      <td>0.652582</td>\n",
       "      <td>0.617584</td>\n",
       "      <td>0.663252</td>\n",
       "      <td>0.607341</td>\n",
       "      <td>0.681605</td>\n",
       "      <td>0.573624</td>\n",
       "      <td>0.683312</td>\n",
       "      <td>0.573197</td>\n",
       "      <td>0.626547</td>\n",
       "      <td>0.598805</td>\n",
       "    </tr>\n",
       "    <tr>\n",
       "      <th>split1_test_score</th>\n",
       "      <td>0.66624</td>\n",
       "      <td>0.63551</td>\n",
       "      <td>0.673922</td>\n",
       "      <td>0.625694</td>\n",
       "      <td>0.675203</td>\n",
       "      <td>0.601793</td>\n",
       "      <td>0.680751</td>\n",
       "      <td>0.594964</td>\n",
       "      <td>0.629108</td>\n",
       "      <td>0.60478</td>\n",
       "    </tr>\n",
       "    <tr>\n",
       "      <th>split2_test_score</th>\n",
       "      <td>0.658412</td>\n",
       "      <td>0.625534</td>\n",
       "      <td>0.663962</td>\n",
       "      <td>0.604184</td>\n",
       "      <td>0.678053</td>\n",
       "      <td>0.581981</td>\n",
       "      <td>0.678053</td>\n",
       "      <td>0.579846</td>\n",
       "      <td>0.628523</td>\n",
       "      <td>0.588813</td>\n",
       "    </tr>\n",
       "    <tr>\n",
       "      <th>split3_test_score</th>\n",
       "      <td>0.657558</td>\n",
       "      <td>0.630658</td>\n",
       "      <td>0.663108</td>\n",
       "      <td>0.613151</td>\n",
       "      <td>0.675918</td>\n",
       "      <td>0.582835</td>\n",
       "      <td>0.675491</td>\n",
       "      <td>0.588813</td>\n",
       "      <td>0.627242</td>\n",
       "      <td>0.596499</td>\n",
       "    </tr>\n",
       "    <tr>\n",
       "      <th>split4_test_score</th>\n",
       "      <td>0.658412</td>\n",
       "      <td>0.636208</td>\n",
       "      <td>0.661827</td>\n",
       "      <td>0.630658</td>\n",
       "      <td>0.677199</td>\n",
       "      <td>0.602904</td>\n",
       "      <td>0.677199</td>\n",
       "      <td>0.598207</td>\n",
       "      <td>0.628096</td>\n",
       "      <td>0.599488</td>\n",
       "    </tr>\n",
       "    <tr>\n",
       "      <th>mean_test_score</th>\n",
       "      <td>0.658641</td>\n",
       "      <td>0.629099</td>\n",
       "      <td>0.665215</td>\n",
       "      <td>0.616206</td>\n",
       "      <td>0.677595</td>\n",
       "      <td>0.588627</td>\n",
       "      <td>0.678961</td>\n",
       "      <td>0.587005</td>\n",
       "      <td>0.627903</td>\n",
       "      <td>0.597677</td>\n",
       "    </tr>\n",
       "    <tr>\n",
       "      <th>std_test_score</th>\n",
       "      <td>0.004376</td>\n",
       "      <td>0.006919</td>\n",
       "      <td>0.004408</td>\n",
       "      <td>0.010308</td>\n",
       "      <td>0.002235</td>\n",
       "      <td>0.011662</td>\n",
       "      <td>0.002761</td>\n",
       "      <td>0.009317</td>\n",
       "      <td>0.000911</td>\n",
       "      <td>0.005195</td>\n",
       "    </tr>\n",
       "    <tr>\n",
       "      <th>rank_test_score</th>\n",
       "      <td>4</td>\n",
       "      <td>5</td>\n",
       "      <td>3</td>\n",
       "      <td>7</td>\n",
       "      <td>2</td>\n",
       "      <td>9</td>\n",
       "      <td>1</td>\n",
       "      <td>10</td>\n",
       "      <td>6</td>\n",
       "      <td>8</td>\n",
       "    </tr>\n",
       "  </tbody>\n",
       "</table>\n",
       "</div>"
      ],
      "text/plain": [
       "                                                    0  \\\n",
       "mean_fit_time                                0.002599   \n",
       "std_fit_time                                 0.000492   \n",
       "mean_score_time                              0.000604   \n",
       "std_score_time                               0.000493   \n",
       "param_alpha                                      0.01   \n",
       "param_fit_prior                                  True   \n",
       "params             {'alpha': 0.01, 'fit_prior': True}   \n",
       "split0_test_score                            0.652582   \n",
       "split1_test_score                             0.66624   \n",
       "split2_test_score                            0.658412   \n",
       "split3_test_score                            0.657558   \n",
       "split4_test_score                            0.658412   \n",
       "mean_test_score                              0.658641   \n",
       "std_test_score                               0.004376   \n",
       "rank_test_score                                     4   \n",
       "\n",
       "                                                     1  \\\n",
       "mean_fit_time                                 0.002399   \n",
       "std_fit_time                                  0.000484   \n",
       "mean_score_time                                 0.0004   \n",
       "std_score_time                                 0.00049   \n",
       "param_alpha                                       0.01   \n",
       "param_fit_prior                                  False   \n",
       "params             {'alpha': 0.01, 'fit_prior': False}   \n",
       "split0_test_score                             0.617584   \n",
       "split1_test_score                              0.63551   \n",
       "split2_test_score                             0.625534   \n",
       "split3_test_score                             0.630658   \n",
       "split4_test_score                             0.636208   \n",
       "mean_test_score                               0.629099   \n",
       "std_test_score                                0.006919   \n",
       "rank_test_score                                      5   \n",
       "\n",
       "                                                   2  \\\n",
       "mean_fit_time                               0.002399   \n",
       "std_fit_time                                0.000488   \n",
       "mean_score_time                               0.0006   \n",
       "std_score_time                               0.00049   \n",
       "param_alpha                                      0.1   \n",
       "param_fit_prior                                 True   \n",
       "params             {'alpha': 0.1, 'fit_prior': True}   \n",
       "split0_test_score                           0.663252   \n",
       "split1_test_score                           0.673922   \n",
       "split2_test_score                           0.663962   \n",
       "split3_test_score                           0.663108   \n",
       "split4_test_score                           0.661827   \n",
       "mean_test_score                             0.665215   \n",
       "std_test_score                              0.004408   \n",
       "rank_test_score                                    3   \n",
       "\n",
       "                                                    3  \\\n",
       "mean_fit_time                                  0.0028   \n",
       "std_fit_time                                   0.0004   \n",
       "mean_score_time                                0.0002   \n",
       "std_score_time                                 0.0004   \n",
       "param_alpha                                       0.1   \n",
       "param_fit_prior                                 False   \n",
       "params             {'alpha': 0.1, 'fit_prior': False}   \n",
       "split0_test_score                            0.607341   \n",
       "split1_test_score                            0.625694   \n",
       "split2_test_score                            0.604184   \n",
       "split3_test_score                            0.613151   \n",
       "split4_test_score                            0.630658   \n",
       "mean_test_score                              0.616206   \n",
       "std_test_score                               0.010308   \n",
       "rank_test_score                                     7   \n",
       "\n",
       "                                                   4  \\\n",
       "mean_fit_time                               0.002421   \n",
       "std_fit_time                                0.000516   \n",
       "mean_score_time                             0.000401   \n",
       "std_score_time                              0.000491   \n",
       "param_alpha                                      0.5   \n",
       "param_fit_prior                                 True   \n",
       "params             {'alpha': 0.5, 'fit_prior': True}   \n",
       "split0_test_score                           0.681605   \n",
       "split1_test_score                           0.675203   \n",
       "split2_test_score                           0.678053   \n",
       "split3_test_score                           0.675918   \n",
       "split4_test_score                           0.677199   \n",
       "mean_test_score                             0.677595   \n",
       "std_test_score                              0.002235   \n",
       "rank_test_score                                    2   \n",
       "\n",
       "                                                    5  \\\n",
       "mean_fit_time                                 0.00238   \n",
       "std_fit_time                                 0.000466   \n",
       "mean_score_time                                0.0004   \n",
       "std_score_time                                0.00049   \n",
       "param_alpha                                       0.5   \n",
       "param_fit_prior                                 False   \n",
       "params             {'alpha': 0.5, 'fit_prior': False}   \n",
       "split0_test_score                            0.573624   \n",
       "split1_test_score                            0.601793   \n",
       "split2_test_score                            0.581981   \n",
       "split3_test_score                            0.582835   \n",
       "split4_test_score                            0.602904   \n",
       "mean_test_score                              0.588627   \n",
       "std_test_score                               0.011662   \n",
       "rank_test_score                                     9   \n",
       "\n",
       "                                                   6  \\\n",
       "mean_fit_time                               0.002598   \n",
       "std_fit_time                                0.000488   \n",
       "mean_score_time                               0.0002   \n",
       "std_score_time                                0.0004   \n",
       "param_alpha                                      1.0   \n",
       "param_fit_prior                                 True   \n",
       "params             {'alpha': 1.0, 'fit_prior': True}   \n",
       "split0_test_score                           0.683312   \n",
       "split1_test_score                           0.680751   \n",
       "split2_test_score                           0.678053   \n",
       "split3_test_score                           0.675491   \n",
       "split4_test_score                           0.677199   \n",
       "mean_test_score                             0.678961   \n",
       "std_test_score                              0.002761   \n",
       "rank_test_score                                    1   \n",
       "\n",
       "                                                    7  \\\n",
       "mean_fit_time                                0.014803   \n",
       "std_fit_time                                  0.02461   \n",
       "mean_score_time                                0.0006   \n",
       "std_score_time                                0.00049   \n",
       "param_alpha                                       1.0   \n",
       "param_fit_prior                                 False   \n",
       "params             {'alpha': 1.0, 'fit_prior': False}   \n",
       "split0_test_score                            0.573197   \n",
       "split1_test_score                            0.594964   \n",
       "split2_test_score                            0.579846   \n",
       "split3_test_score                            0.588813   \n",
       "split4_test_score                            0.598207   \n",
       "mean_test_score                              0.587005   \n",
       "std_test_score                               0.009317   \n",
       "rank_test_score                                    10   \n",
       "\n",
       "                                                    8  \\\n",
       "mean_fit_time                                0.002376   \n",
       "std_fit_time                                 0.000462   \n",
       "mean_score_time                                0.0004   \n",
       "std_score_time                                0.00049   \n",
       "param_alpha                                      10.0   \n",
       "param_fit_prior                                  True   \n",
       "params             {'alpha': 10.0, 'fit_prior': True}   \n",
       "split0_test_score                            0.626547   \n",
       "split1_test_score                            0.629108   \n",
       "split2_test_score                            0.628523   \n",
       "split3_test_score                            0.627242   \n",
       "split4_test_score                            0.628096   \n",
       "mean_test_score                              0.627903   \n",
       "std_test_score                               0.000911   \n",
       "rank_test_score                                     6   \n",
       "\n",
       "                                                     9  \n",
       "mean_fit_time                                 0.002402  \n",
       "std_fit_time                                  0.000489  \n",
       "mean_score_time                               0.000399  \n",
       "std_score_time                                0.000489  \n",
       "param_alpha                                       10.0  \n",
       "param_fit_prior                                  False  \n",
       "params             {'alpha': 10.0, 'fit_prior': False}  \n",
       "split0_test_score                             0.598805  \n",
       "split1_test_score                              0.60478  \n",
       "split2_test_score                             0.588813  \n",
       "split3_test_score                             0.596499  \n",
       "split4_test_score                             0.599488  \n",
       "mean_test_score                               0.597677  \n",
       "std_test_score                                0.005195  \n",
       "rank_test_score                                      8  "
      ]
     },
     "execution_count": 44,
     "metadata": {},
     "output_type": "execute_result"
    }
   ],
   "source": [
    "nvb_params = {\n",
    "    'fit_prior': [True, False],\n",
    "    'alpha': [0.01, 0.1, 0.5, 1.0, 10.0]\n",
    "}\n",
    "nvb=MultinomialNB()\n",
    "nvb_cv=GridSearchCV(nvb,nvb_params, cv=5, verbose=0)\n",
    "best_model = nvb_cv.fit(X_train_tfidf_ngram,y_train)\n",
    "result = best_model.cv_results_\n",
    "pd.DataFrame.from_dict(result).T"
   ]
  },
  {
   "cell_type": "code",
   "execution_count": 45,
   "metadata": {},
   "outputs": [
    {
     "name": "stdout",
     "output_type": "stream",
     "text": [
      " Accuracy Score for train data = 0.7318135245901639\n",
      " Accuracy Score for test data = 0.7021857923497268\n",
      "Classification Report for test data\n",
      "              precision    recall  f1-score   support\n",
      "\n",
      "          -1       0.71      0.96      0.81      1889\n",
      "           0       0.62      0.19      0.30       580\n",
      "           1       0.74      0.27      0.40       459\n",
      "\n",
      "    accuracy                           0.70      2928\n",
      "   macro avg       0.69      0.48      0.50      2928\n",
      "weighted avg       0.69      0.70      0.65      2928\n",
      "\n",
      "Wall time: 164 ms\n"
     ]
    },
    {
     "name": "stderr",
     "output_type": "stream",
     "text": [
      "C:\\Users\\SULAKKHANA\\anaconda3\\lib\\site-packages\\sklearn\\utils\\validation.py:70: FutureWarning: Pass labels=[-1, 0, 1] as keyword args. From version 1.0 (renaming of 0.25) passing these as positional arguments will result in an error\n",
      "  warnings.warn(f\"Pass {args_msg} as keyword args. From version \"\n"
     ]
    },
    {
     "data": {
      "image/png": "[encoded data removed]",
      "text/plain": [
       "<Figure size 432x288 with 2 Axes>"
      ]
     },
     "metadata": {
      "needs_background": "light"
     },
     "output_type": "display_data"
    }
   ],
   "source": [
    "%%time\n",
    "# Naive Bayes on Ngram Level TF IDF Vectors\n",
    "accuracy3 = evaluate_model(MultinomialNB(alpha = 1.0, fit_prior= True), X_train_tfidf_ngram, y_train,X_test_tfidf_ngram  , y_test)"
   ]
  },
  {
   "cell_type": "markdown",
   "metadata": {},
   "source": [
    "#### on CharacterLevel TF IDF Vectors"
   ]
  },
  {
   "cell_type": "code",
   "execution_count": 46,
   "metadata": {},
   "outputs": [
    {
     "name": "stdout",
     "output_type": "stream",
     "text": [
      " Accuracy Score for train data = 0.7365949453551912\n",
      " Accuracy Score for test data = 0.7370218579234973\n",
      "Wall time: 13.2 ms\n"
     ]
    }
   ],
   "source": [
    "%%time\n",
    "# Naive Bayes on Character Level TF IDF Vectors\n",
    "mnb_modelcf = MultinomialNB()\n",
    "mnb_modelcf.fit(X_train_tfidf_ngram_chars, y_train)\n",
    "# Score\n",
    "# accuracy2 = mnb_modelcf.score(X_test_tfidf_ngram_chars , y_test)\n",
    "print(f\" Accuracy Score for train data = {mnb_modelcf.score(X_train_tfidf_ngram_chars, y_train)}\")\n",
    "print(f\" Accuracy Score for test data = {mnb_modelcf.score(X_test_tfidf_ngram_chars , y_test)}\")"
   ]
  },
  {
   "cell_type": "markdown",
   "metadata": {},
   "source": [
    "##### Hyperparameter tuning on Character Level TF IDF Vectors"
   ]
  },
  {
   "cell_type": "code",
   "execution_count": 47,
   "metadata": {},
   "outputs": [
    {
     "data": {
      "text/html": [
       "<div>\n",
       "<style scoped>\n",
       "    .dataframe tbody tr th:only-of-type {\n",
       "        vertical-align: middle;\n",
       "    }\n",
       "\n",
       "    .dataframe tbody tr th {\n",
       "        vertical-align: top;\n",
       "    }\n",
       "\n",
       "    .dataframe thead th {\n",
       "        text-align: right;\n",
       "    }\n",
       "</style>\n",
       "<table border=\"1\" class=\"dataframe\">\n",
       "  <thead>\n",
       "    <tr style=\"text-align: right;\">\n",
       "      <th></th>\n",
       "      <th>0</th>\n",
       "      <th>1</th>\n",
       "      <th>2</th>\n",
       "      <th>3</th>\n",
       "      <th>4</th>\n",
       "      <th>5</th>\n",
       "      <th>6</th>\n",
       "      <th>7</th>\n",
       "      <th>8</th>\n",
       "      <th>9</th>\n",
       "    </tr>\n",
       "  </thead>\n",
       "  <tbody>\n",
       "    <tr>\n",
       "      <th>mean_fit_time</th>\n",
       "      <td>0.008212</td>\n",
       "      <td>0.008401</td>\n",
       "      <td>0.008603</td>\n",
       "      <td>0.008204</td>\n",
       "      <td>0.009202</td>\n",
       "      <td>0.008204</td>\n",
       "      <td>0.009403</td>\n",
       "      <td>0.008403</td>\n",
       "      <td>0.008204</td>\n",
       "      <td>0.008201</td>\n",
       "    </tr>\n",
       "    <tr>\n",
       "      <th>std_fit_time</th>\n",
       "      <td>0.000402</td>\n",
       "      <td>0.000489</td>\n",
       "      <td>0.00049</td>\n",
       "      <td>0.0004</td>\n",
       "      <td>0.001937</td>\n",
       "      <td>0.0004</td>\n",
       "      <td>0.001019</td>\n",
       "      <td>0.000491</td>\n",
       "      <td>0.0004</td>\n",
       "      <td>0.0004</td>\n",
       "    </tr>\n",
       "    <tr>\n",
       "      <th>mean_score_time</th>\n",
       "      <td>0.001594</td>\n",
       "      <td>0.0012</td>\n",
       "      <td>0.001199</td>\n",
       "      <td>0.001399</td>\n",
       "      <td>0.001398</td>\n",
       "      <td>0.001399</td>\n",
       "      <td>0.0016</td>\n",
       "      <td>0.001199</td>\n",
       "      <td>0.001399</td>\n",
       "      <td>0.001201</td>\n",
       "    </tr>\n",
       "    <tr>\n",
       "      <th>std_score_time</th>\n",
       "      <td>0.000485</td>\n",
       "      <td>0.000399</td>\n",
       "      <td>0.0004</td>\n",
       "      <td>0.000489</td>\n",
       "      <td>0.00049</td>\n",
       "      <td>0.00049</td>\n",
       "      <td>0.000491</td>\n",
       "      <td>0.000401</td>\n",
       "      <td>0.000491</td>\n",
       "      <td>0.000399</td>\n",
       "    </tr>\n",
       "    <tr>\n",
       "      <th>param_alpha</th>\n",
       "      <td>0.01</td>\n",
       "      <td>0.01</td>\n",
       "      <td>0.1</td>\n",
       "      <td>0.1</td>\n",
       "      <td>0.5</td>\n",
       "      <td>0.5</td>\n",
       "      <td>1.0</td>\n",
       "      <td>1.0</td>\n",
       "      <td>10.0</td>\n",
       "      <td>10.0</td>\n",
       "    </tr>\n",
       "    <tr>\n",
       "      <th>param_fit_prior</th>\n",
       "      <td>True</td>\n",
       "      <td>False</td>\n",
       "      <td>True</td>\n",
       "      <td>False</td>\n",
       "      <td>True</td>\n",
       "      <td>False</td>\n",
       "      <td>True</td>\n",
       "      <td>False</td>\n",
       "      <td>True</td>\n",
       "      <td>False</td>\n",
       "    </tr>\n",
       "    <tr>\n",
       "      <th>params</th>\n",
       "      <td>{'alpha': 0.01, 'fit_prior': True}</td>\n",
       "      <td>{'alpha': 0.01, 'fit_prior': False}</td>\n",
       "      <td>{'alpha': 0.1, 'fit_prior': True}</td>\n",
       "      <td>{'alpha': 0.1, 'fit_prior': False}</td>\n",
       "      <td>{'alpha': 0.5, 'fit_prior': True}</td>\n",
       "      <td>{'alpha': 0.5, 'fit_prior': False}</td>\n",
       "      <td>{'alpha': 1.0, 'fit_prior': True}</td>\n",
       "      <td>{'alpha': 1.0, 'fit_prior': False}</td>\n",
       "      <td>{'alpha': 10.0, 'fit_prior': True}</td>\n",
       "      <td>{'alpha': 10.0, 'fit_prior': False}</td>\n",
       "    </tr>\n",
       "    <tr>\n",
       "      <th>split0_test_score</th>\n",
       "      <td>0.73026</td>\n",
       "      <td>0.70892</td>\n",
       "      <td>0.731968</td>\n",
       "      <td>0.702091</td>\n",
       "      <td>0.722151</td>\n",
       "      <td>0.704652</td>\n",
       "      <td>0.716603</td>\n",
       "      <td>0.716176</td>\n",
       "      <td>0.641485</td>\n",
       "      <td>0.664106</td>\n",
       "    </tr>\n",
       "    <tr>\n",
       "      <th>split1_test_score</th>\n",
       "      <td>0.72898</td>\n",
       "      <td>0.731541</td>\n",
       "      <td>0.729834</td>\n",
       "      <td>0.734102</td>\n",
       "      <td>0.722578</td>\n",
       "      <td>0.734102</td>\n",
       "      <td>0.711054</td>\n",
       "      <td>0.738796</td>\n",
       "      <td>0.644046</td>\n",
       "      <td>0.664106</td>\n",
       "    </tr>\n",
       "    <tr>\n",
       "      <th>split2_test_score</th>\n",
       "      <td>0.732707</td>\n",
       "      <td>0.715628</td>\n",
       "      <td>0.731853</td>\n",
       "      <td>0.712639</td>\n",
       "      <td>0.727583</td>\n",
       "      <td>0.717336</td>\n",
       "      <td>0.715628</td>\n",
       "      <td>0.724594</td>\n",
       "      <td>0.642186</td>\n",
       "      <td>0.665243</td>\n",
       "    </tr>\n",
       "    <tr>\n",
       "      <th>split3_test_score</th>\n",
       "      <td>0.738685</td>\n",
       "      <td>0.723313</td>\n",
       "      <td>0.739966</td>\n",
       "      <td>0.718617</td>\n",
       "      <td>0.730145</td>\n",
       "      <td>0.729291</td>\n",
       "      <td>0.719044</td>\n",
       "      <td>0.74082</td>\n",
       "      <td>0.641332</td>\n",
       "      <td>0.66567</td>\n",
       "    </tr>\n",
       "    <tr>\n",
       "      <th>split4_test_score</th>\n",
       "      <td>0.730145</td>\n",
       "      <td>0.714347</td>\n",
       "      <td>0.727156</td>\n",
       "      <td>0.719044</td>\n",
       "      <td>0.724167</td>\n",
       "      <td>0.722886</td>\n",
       "      <td>0.710504</td>\n",
       "      <td>0.730999</td>\n",
       "      <td>0.63877</td>\n",
       "      <td>0.65585</td>\n",
       "    </tr>\n",
       "    <tr>\n",
       "      <th>mean_test_score</th>\n",
       "      <td>0.732155</td>\n",
       "      <td>0.71875</td>\n",
       "      <td>0.732155</td>\n",
       "      <td>0.717298</td>\n",
       "      <td>0.725325</td>\n",
       "      <td>0.721653</td>\n",
       "      <td>0.714566</td>\n",
       "      <td>0.730277</td>\n",
       "      <td>0.641564</td>\n",
       "      <td>0.662995</td>\n",
       "    </tr>\n",
       "    <tr>\n",
       "      <th>std_test_score</th>\n",
       "      <td>0.003483</td>\n",
       "      <td>0.007876</td>\n",
       "      <td>0.004278</td>\n",
       "      <td>0.010393</td>\n",
       "      <td>0.003076</td>\n",
       "      <td>0.010223</td>\n",
       "      <td>0.003291</td>\n",
       "      <td>0.009115</td>\n",
       "      <td>0.001698</td>\n",
       "      <td>0.003626</td>\n",
       "    </tr>\n",
       "    <tr>\n",
       "      <th>rank_test_score</th>\n",
       "      <td>1</td>\n",
       "      <td>6</td>\n",
       "      <td>2</td>\n",
       "      <td>7</td>\n",
       "      <td>4</td>\n",
       "      <td>5</td>\n",
       "      <td>8</td>\n",
       "      <td>3</td>\n",
       "      <td>10</td>\n",
       "      <td>9</td>\n",
       "    </tr>\n",
       "  </tbody>\n",
       "</table>\n",
       "</div>"
      ],
      "text/plain": [
       "                                                    0  \\\n",
       "mean_fit_time                                0.008212   \n",
       "std_fit_time                                 0.000402   \n",
       "mean_score_time                              0.001594   \n",
       "std_score_time                               0.000485   \n",
       "param_alpha                                      0.01   \n",
       "param_fit_prior                                  True   \n",
       "params             {'alpha': 0.01, 'fit_prior': True}   \n",
       "split0_test_score                             0.73026   \n",
       "split1_test_score                             0.72898   \n",
       "split2_test_score                            0.732707   \n",
       "split3_test_score                            0.738685   \n",
       "split4_test_score                            0.730145   \n",
       "mean_test_score                              0.732155   \n",
       "std_test_score                               0.003483   \n",
       "rank_test_score                                     1   \n",
       "\n",
       "                                                     1  \\\n",
       "mean_fit_time                                 0.008401   \n",
       "std_fit_time                                  0.000489   \n",
       "mean_score_time                                 0.0012   \n",
       "std_score_time                                0.000399   \n",
       "param_alpha                                       0.01   \n",
       "param_fit_prior                                  False   \n",
       "params             {'alpha': 0.01, 'fit_prior': False}   \n",
       "split0_test_score                              0.70892   \n",
       "split1_test_score                             0.731541   \n",
       "split2_test_score                             0.715628   \n",
       "split3_test_score                             0.723313   \n",
       "split4_test_score                             0.714347   \n",
       "mean_test_score                                0.71875   \n",
       "std_test_score                                0.007876   \n",
       "rank_test_score                                      6   \n",
       "\n",
       "                                                   2  \\\n",
       "mean_fit_time                               0.008603   \n",
       "std_fit_time                                 0.00049   \n",
       "mean_score_time                             0.001199   \n",
       "std_score_time                                0.0004   \n",
       "param_alpha                                      0.1   \n",
       "param_fit_prior                                 True   \n",
       "params             {'alpha': 0.1, 'fit_prior': True}   \n",
       "split0_test_score                           0.731968   \n",
       "split1_test_score                           0.729834   \n",
       "split2_test_score                           0.731853   \n",
       "split3_test_score                           0.739966   \n",
       "split4_test_score                           0.727156   \n",
       "mean_test_score                             0.732155   \n",
       "std_test_score                              0.004278   \n",
       "rank_test_score                                    2   \n",
       "\n",
       "                                                    3  \\\n",
       "mean_fit_time                                0.008204   \n",
       "std_fit_time                                   0.0004   \n",
       "mean_score_time                              0.001399   \n",
       "std_score_time                               0.000489   \n",
       "param_alpha                                       0.1   \n",
       "param_fit_prior                                 False   \n",
       "params             {'alpha': 0.1, 'fit_prior': False}   \n",
       "split0_test_score                            0.702091   \n",
       "split1_test_score                            0.734102   \n",
       "split2_test_score                            0.712639   \n",
       "split3_test_score                            0.718617   \n",
       "split4_test_score                            0.719044   \n",
       "mean_test_score                              0.717298   \n",
       "std_test_score                               0.010393   \n",
       "rank_test_score                                     7   \n",
       "\n",
       "                                                   4  \\\n",
       "mean_fit_time                               0.009202   \n",
       "std_fit_time                                0.001937   \n",
       "mean_score_time                             0.001398   \n",
       "std_score_time                               0.00049   \n",
       "param_alpha                                      0.5   \n",
       "param_fit_prior                                 True   \n",
       "params             {'alpha': 0.5, 'fit_prior': True}   \n",
       "split0_test_score                           0.722151   \n",
       "split1_test_score                           0.722578   \n",
       "split2_test_score                           0.727583   \n",
       "split3_test_score                           0.730145   \n",
       "split4_test_score                           0.724167   \n",
       "mean_test_score                             0.725325   \n",
       "std_test_score                              0.003076   \n",
       "rank_test_score                                    4   \n",
       "\n",
       "                                                    5  \\\n",
       "mean_fit_time                                0.008204   \n",
       "std_fit_time                                   0.0004   \n",
       "mean_score_time                              0.001399   \n",
       "std_score_time                                0.00049   \n",
       "param_alpha                                       0.5   \n",
       "param_fit_prior                                 False   \n",
       "params             {'alpha': 0.5, 'fit_prior': False}   \n",
       "split0_test_score                            0.704652   \n",
       "split1_test_score                            0.734102   \n",
       "split2_test_score                            0.717336   \n",
       "split3_test_score                            0.729291   \n",
       "split4_test_score                            0.722886   \n",
       "mean_test_score                              0.721653   \n",
       "std_test_score                               0.010223   \n",
       "rank_test_score                                     5   \n",
       "\n",
       "                                                   6  \\\n",
       "mean_fit_time                               0.009403   \n",
       "std_fit_time                                0.001019   \n",
       "mean_score_time                               0.0016   \n",
       "std_score_time                              0.000491   \n",
       "param_alpha                                      1.0   \n",
       "param_fit_prior                                 True   \n",
       "params             {'alpha': 1.0, 'fit_prior': True}   \n",
       "split0_test_score                           0.716603   \n",
       "split1_test_score                           0.711054   \n",
       "split2_test_score                           0.715628   \n",
       "split3_test_score                           0.719044   \n",
       "split4_test_score                           0.710504   \n",
       "mean_test_score                             0.714566   \n",
       "std_test_score                              0.003291   \n",
       "rank_test_score                                    8   \n",
       "\n",
       "                                                    7  \\\n",
       "mean_fit_time                                0.008403   \n",
       "std_fit_time                                 0.000491   \n",
       "mean_score_time                              0.001199   \n",
       "std_score_time                               0.000401   \n",
       "param_alpha                                       1.0   \n",
       "param_fit_prior                                 False   \n",
       "params             {'alpha': 1.0, 'fit_prior': False}   \n",
       "split0_test_score                            0.716176   \n",
       "split1_test_score                            0.738796   \n",
       "split2_test_score                            0.724594   \n",
       "split3_test_score                             0.74082   \n",
       "split4_test_score                            0.730999   \n",
       "mean_test_score                              0.730277   \n",
       "std_test_score                               0.009115   \n",
       "rank_test_score                                     3   \n",
       "\n",
       "                                                    8  \\\n",
       "mean_fit_time                                0.008204   \n",
       "std_fit_time                                   0.0004   \n",
       "mean_score_time                              0.001399   \n",
       "std_score_time                               0.000491   \n",
       "param_alpha                                      10.0   \n",
       "param_fit_prior                                  True   \n",
       "params             {'alpha': 10.0, 'fit_prior': True}   \n",
       "split0_test_score                            0.641485   \n",
       "split1_test_score                            0.644046   \n",
       "split2_test_score                            0.642186   \n",
       "split3_test_score                            0.641332   \n",
       "split4_test_score                             0.63877   \n",
       "mean_test_score                              0.641564   \n",
       "std_test_score                               0.001698   \n",
       "rank_test_score                                    10   \n",
       "\n",
       "                                                     9  \n",
       "mean_fit_time                                 0.008201  \n",
       "std_fit_time                                    0.0004  \n",
       "mean_score_time                               0.001201  \n",
       "std_score_time                                0.000399  \n",
       "param_alpha                                       10.0  \n",
       "param_fit_prior                                  False  \n",
       "params             {'alpha': 10.0, 'fit_prior': False}  \n",
       "split0_test_score                             0.664106  \n",
       "split1_test_score                             0.664106  \n",
       "split2_test_score                             0.665243  \n",
       "split3_test_score                              0.66567  \n",
       "split4_test_score                              0.65585  \n",
       "mean_test_score                               0.662995  \n",
       "std_test_score                                0.003626  \n",
       "rank_test_score                                      9  "
      ]
     },
     "execution_count": 47,
     "metadata": {},
     "output_type": "execute_result"
    }
   ],
   "source": [
    "nvb_params = {\n",
    "    'fit_prior': [True, False],\n",
    "    'alpha': [0.01, 0.1, 0.5, 1.0, 10.0]\n",
    "}\n",
    "nvb=MultinomialNB()\n",
    "nvb_cv=GridSearchCV(nvb,nvb_params, cv=5, verbose=0)\n",
    "best_model = nvb_cv.fit(X_train_tfidf_ngram_chars,y_train)\n",
    "result = best_model.cv_results_\n",
    "pd.DataFrame.from_dict(result).T"
   ]
  },
  {
   "cell_type": "code",
   "execution_count": 48,
   "metadata": {},
   "outputs": [
    {
     "name": "stdout",
     "output_type": "stream",
     "text": [
      " Accuracy Score for train data = 0.7797131147540983\n",
      " Accuracy Score for test data = 0.7517076502732241\n",
      "Classification Report for test data\n",
      "              precision    recall  f1-score   support\n",
      "\n",
      "          -1       0.77      0.94      0.84      1889\n",
      "           0       0.57      0.34      0.43       580\n",
      "           1       0.84      0.51      0.63       459\n",
      "\n",
      "    accuracy                           0.75      2928\n",
      "   macro avg       0.73      0.60      0.63      2928\n",
      "weighted avg       0.74      0.75      0.73      2928\n",
      "\n",
      "Wall time: 176 ms\n"
     ]
    },
    {
     "name": "stderr",
     "output_type": "stream",
     "text": [
      "C:\\Users\\SULAKKHANA\\anaconda3\\lib\\site-packages\\sklearn\\utils\\validation.py:70: FutureWarning: Pass labels=[-1, 0, 1] as keyword args. From version 1.0 (renaming of 0.25) passing these as positional arguments will result in an error\n",
      "  warnings.warn(f\"Pass {args_msg} as keyword args. From version \"\n"
     ]
    },
    {
     "data": {
      "image/png": "[encoded data removed]",
      "text/plain": [
       "<Figure size 432x288 with 2 Axes>"
      ]
     },
     "metadata": {
      "needs_background": "light"
     },
     "output_type": "display_data"
    }
   ],
   "source": [
    "%%time\n",
    "# Naive Bayes on Character Level TF IDF Vectors\n",
    "accuracy4 = evaluate_model(MultinomialNB(alpha = 0.01, fit_prior= True), X_train_tfidf_ngram_chars, y_train,X_test_tfidf_ngram_chars  , y_test)"
   ]
  },
  {
   "cell_type": "code",
   "execution_count": 49,
   "metadata": {
    "ExecuteTime": {
     "end_time": "2019-06-17T02:34:46.265712Z",
     "start_time": "2019-06-17T02:34:46.258734Z"
    },
    "colab": {},
    "colab_type": "code",
    "id": "kkrodUzCLtD3"
   },
   "outputs": [],
   "source": [
    "results.loc['Naïve Bayes'] = {\n",
    "    'Count Vectors': accuracy1,\n",
    "    'WordLevel TF-IDF': accuracy2,\n",
    "    'N-Gram Vectors': accuracy3,\n",
    "    'CharLevel Vectors': accuracy4}"
   ]
  },
  {
   "cell_type": "code",
   "execution_count": 50,
   "metadata": {},
   "outputs": [
    {
     "data": {
      "text/html": [
       "<div>\n",
       "<style scoped>\n",
       "    .dataframe tbody tr th:only-of-type {\n",
       "        vertical-align: middle;\n",
       "    }\n",
       "\n",
       "    .dataframe tbody tr th {\n",
       "        vertical-align: top;\n",
       "    }\n",
       "\n",
       "    .dataframe thead th {\n",
       "        text-align: right;\n",
       "    }\n",
       "</style>\n",
       "<table border=\"1\" class=\"dataframe\">\n",
       "  <thead>\n",
       "    <tr style=\"text-align: right;\">\n",
       "      <th></th>\n",
       "      <th>Count Vectors</th>\n",
       "      <th>WordLevel TF-IDF</th>\n",
       "      <th>N-Gram Vectors</th>\n",
       "      <th>CharLevel Vectors</th>\n",
       "    </tr>\n",
       "  </thead>\n",
       "  <tbody>\n",
       "    <tr>\n",
       "      <th>Naïve Bayes</th>\n",
       "      <td>0.769809</td>\n",
       "      <td>0.769809</td>\n",
       "      <td>0.702186</td>\n",
       "      <td>0.751708</td>\n",
       "    </tr>\n",
       "  </tbody>\n",
       "</table>\n",
       "</div>"
      ],
      "text/plain": [
       "             Count Vectors  WordLevel TF-IDF  N-Gram Vectors  \\\n",
       "Naïve Bayes       0.769809          0.769809        0.702186   \n",
       "\n",
       "             CharLevel Vectors  \n",
       "Naïve Bayes           0.751708  "
      ]
     },
     "execution_count": 50,
     "metadata": {},
     "output_type": "execute_result"
    }
   ],
   "source": [
    "results"
   ]
  },
  {
   "cell_type": "markdown",
   "metadata": {
    "colab_type": "text",
    "id": "-2oNfajULtD4"
   },
   "source": [
    "### Linear Classifier"
   ]
  },
  {
   "cell_type": "markdown",
   "metadata": {},
   "source": [
    "#### Count Vectors"
   ]
  },
  {
   "cell_type": "code",
   "execution_count": 51,
   "metadata": {},
   "outputs": [
    {
     "name": "stdout",
     "output_type": "stream",
     "text": [
      " Accuracy Score for train data = 0.8977117486338798\n",
      " Accuracy Score for test data = 0.7971311475409836\n"
     ]
    }
   ],
   "source": [
    "model = LogisticRegression(solver='liblinear')\n",
    "# Fit Model\n",
    "model.fit(X_train_count,y_train)\n",
    "# Score\n",
    "\n",
    "print(f\" Accuracy Score for train data = {model.score(X_train_count, y_train)}\")\n",
    "print(f\" Accuracy Score for test data = {model.score(X_test_count , y_test)}\")"
   ]
  },
  {
   "cell_type": "markdown",
   "metadata": {},
   "source": [
    "#### Linear Classifier Hyperparameter tuning on count vectors"
   ]
  },
  {
   "cell_type": "code",
   "execution_count": 52,
   "metadata": {},
   "outputs": [],
   "source": [
    "# use GridSearchCV to find best hyper parameters"
   ]
  },
  {
   "cell_type": "code",
   "execution_count": 53,
   "metadata": {},
   "outputs": [
    {
     "data": {
      "text/html": [
       "<div>\n",
       "<style scoped>\n",
       "    .dataframe tbody tr th:only-of-type {\n",
       "        vertical-align: middle;\n",
       "    }\n",
       "\n",
       "    .dataframe tbody tr th {\n",
       "        vertical-align: top;\n",
       "    }\n",
       "\n",
       "    .dataframe thead th {\n",
       "        text-align: right;\n",
       "    }\n",
       "</style>\n",
       "<table border=\"1\" class=\"dataframe\">\n",
       "  <thead>\n",
       "    <tr style=\"text-align: right;\">\n",
       "      <th></th>\n",
       "      <th>0</th>\n",
       "      <th>1</th>\n",
       "      <th>2</th>\n",
       "      <th>3</th>\n",
       "      <th>4</th>\n",
       "      <th>5</th>\n",
       "      <th>6</th>\n",
       "      <th>7</th>\n",
       "      <th>8</th>\n",
       "      <th>9</th>\n",
       "    </tr>\n",
       "  </thead>\n",
       "  <tbody>\n",
       "    <tr>\n",
       "      <th>mean_fit_time</th>\n",
       "      <td>0.015804</td>\n",
       "      <td>0.019204</td>\n",
       "      <td>0.04411</td>\n",
       "      <td>0.049011</td>\n",
       "      <td>0.057417</td>\n",
       "      <td>0.090616</td>\n",
       "      <td>0.125337</td>\n",
       "      <td>0.168038</td>\n",
       "      <td>0.193747</td>\n",
       "      <td>0.360478</td>\n",
       "    </tr>\n",
       "    <tr>\n",
       "      <th>std_fit_time</th>\n",
       "      <td>0.000752</td>\n",
       "      <td>0.00098</td>\n",
       "      <td>0.00516</td>\n",
       "      <td>0.000633</td>\n",
       "      <td>0.004035</td>\n",
       "      <td>0.001745</td>\n",
       "      <td>0.017016</td>\n",
       "      <td>0.010938</td>\n",
       "      <td>0.00609</td>\n",
       "      <td>0.032979</td>\n",
       "    </tr>\n",
       "    <tr>\n",
       "      <th>mean_score_time</th>\n",
       "      <td>0.0002</td>\n",
       "      <td>0.0004</td>\n",
       "      <td>0.000601</td>\n",
       "      <td>0.0</td>\n",
       "      <td>0.0008</td>\n",
       "      <td>0.0004</td>\n",
       "      <td>0.000999</td>\n",
       "      <td>0.0008</td>\n",
       "      <td>0.000802</td>\n",
       "      <td>0.0004</td>\n",
       "    </tr>\n",
       "    <tr>\n",
       "      <th>std_score_time</th>\n",
       "      <td>0.000401</td>\n",
       "      <td>0.00049</td>\n",
       "      <td>0.00049</td>\n",
       "      <td>0.0</td>\n",
       "      <td>0.0004</td>\n",
       "      <td>0.00049</td>\n",
       "      <td>0.000006</td>\n",
       "      <td>0.0004</td>\n",
       "      <td>0.000401</td>\n",
       "      <td>0.00049</td>\n",
       "    </tr>\n",
       "    <tr>\n",
       "      <th>param_C</th>\n",
       "      <td>0.001</td>\n",
       "      <td>0.001</td>\n",
       "      <td>0.1</td>\n",
       "      <td>0.1</td>\n",
       "      <td>1</td>\n",
       "      <td>1</td>\n",
       "      <td>10</td>\n",
       "      <td>10</td>\n",
       "      <td>100</td>\n",
       "      <td>100</td>\n",
       "    </tr>\n",
       "    <tr>\n",
       "      <th>param_penalty</th>\n",
       "      <td>l1</td>\n",
       "      <td>l2</td>\n",
       "      <td>l1</td>\n",
       "      <td>l2</td>\n",
       "      <td>l1</td>\n",
       "      <td>l2</td>\n",
       "      <td>l1</td>\n",
       "      <td>l2</td>\n",
       "      <td>l1</td>\n",
       "      <td>l2</td>\n",
       "    </tr>\n",
       "    <tr>\n",
       "      <th>params</th>\n",
       "      <td>{'C': 0.001, 'penalty': 'l1'}</td>\n",
       "      <td>{'C': 0.001, 'penalty': 'l2'}</td>\n",
       "      <td>{'C': 0.1, 'penalty': 'l1'}</td>\n",
       "      <td>{'C': 0.1, 'penalty': 'l2'}</td>\n",
       "      <td>{'C': 1, 'penalty': 'l1'}</td>\n",
       "      <td>{'C': 1, 'penalty': 'l2'}</td>\n",
       "      <td>{'C': 10, 'penalty': 'l1'}</td>\n",
       "      <td>{'C': 10, 'penalty': 'l2'}</td>\n",
       "      <td>{'C': 100, 'penalty': 'l1'}</td>\n",
       "      <td>{'C': 100, 'penalty': 'l2'}</td>\n",
       "    </tr>\n",
       "    <tr>\n",
       "      <th>split0_test_score</th>\n",
       "      <td>0.622279</td>\n",
       "      <td>0.623133</td>\n",
       "      <td>0.721724</td>\n",
       "      <td>0.758003</td>\n",
       "      <td>0.776355</td>\n",
       "      <td>0.777636</td>\n",
       "      <td>0.75032</td>\n",
       "      <td>0.761417</td>\n",
       "      <td>0.69697</td>\n",
       "      <td>0.724712</td>\n",
       "    </tr>\n",
       "    <tr>\n",
       "      <th>split1_test_score</th>\n",
       "      <td>0.622279</td>\n",
       "      <td>0.623133</td>\n",
       "      <td>0.734528</td>\n",
       "      <td>0.764831</td>\n",
       "      <td>0.778916</td>\n",
       "      <td>0.780196</td>\n",
       "      <td>0.737516</td>\n",
       "      <td>0.753308</td>\n",
       "      <td>0.697397</td>\n",
       "      <td>0.734102</td>\n",
       "    </tr>\n",
       "    <tr>\n",
       "      <th>split2_test_score</th>\n",
       "      <td>0.622545</td>\n",
       "      <td>0.622972</td>\n",
       "      <td>0.715628</td>\n",
       "      <td>0.750213</td>\n",
       "      <td>0.761742</td>\n",
       "      <td>0.76772</td>\n",
       "      <td>0.744236</td>\n",
       "      <td>0.757472</td>\n",
       "      <td>0.711358</td>\n",
       "      <td>0.735696</td>\n",
       "    </tr>\n",
       "    <tr>\n",
       "      <th>split3_test_score</th>\n",
       "      <td>0.622545</td>\n",
       "      <td>0.623826</td>\n",
       "      <td>0.707942</td>\n",
       "      <td>0.742101</td>\n",
       "      <td>0.762596</td>\n",
       "      <td>0.770282</td>\n",
       "      <td>0.753202</td>\n",
       "      <td>0.765158</td>\n",
       "      <td>0.699829</td>\n",
       "      <td>0.74082</td>\n",
       "    </tr>\n",
       "    <tr>\n",
       "      <th>split4_test_score</th>\n",
       "      <td>0.622118</td>\n",
       "      <td>0.622545</td>\n",
       "      <td>0.704953</td>\n",
       "      <td>0.749787</td>\n",
       "      <td>0.766439</td>\n",
       "      <td>0.766439</td>\n",
       "      <td>0.727583</td>\n",
       "      <td>0.744663</td>\n",
       "      <td>0.694705</td>\n",
       "      <td>0.712639</td>\n",
       "    </tr>\n",
       "    <tr>\n",
       "      <th>mean_test_score</th>\n",
       "      <td>0.622353</td>\n",
       "      <td>0.623122</td>\n",
       "      <td>0.716955</td>\n",
       "      <td>0.752987</td>\n",
       "      <td>0.76921</td>\n",
       "      <td>0.772454</td>\n",
       "      <td>0.742571</td>\n",
       "      <td>0.756404</td>\n",
       "      <td>0.700052</td>\n",
       "      <td>0.729594</td>\n",
       "    </tr>\n",
       "    <tr>\n",
       "      <th>std_test_score</th>\n",
       "      <td>0.000167</td>\n",
       "      <td>0.000413</td>\n",
       "      <td>0.01057</td>\n",
       "      <td>0.00777</td>\n",
       "      <td>0.007106</td>\n",
       "      <td>0.005479</td>\n",
       "      <td>0.009231</td>\n",
       "      <td>0.007076</td>\n",
       "      <td>0.005882</td>\n",
       "      <td>0.009949</td>\n",
       "    </tr>\n",
       "    <tr>\n",
       "      <th>rank_test_score</th>\n",
       "      <td>10</td>\n",
       "      <td>9</td>\n",
       "      <td>7</td>\n",
       "      <td>4</td>\n",
       "      <td>2</td>\n",
       "      <td>1</td>\n",
       "      <td>5</td>\n",
       "      <td>3</td>\n",
       "      <td>8</td>\n",
       "      <td>6</td>\n",
       "    </tr>\n",
       "  </tbody>\n",
       "</table>\n",
       "</div>"
      ],
      "text/plain": [
       "                                               0  \\\n",
       "mean_fit_time                           0.015804   \n",
       "std_fit_time                            0.000752   \n",
       "mean_score_time                           0.0002   \n",
       "std_score_time                          0.000401   \n",
       "param_C                                    0.001   \n",
       "param_penalty                                 l1   \n",
       "params             {'C': 0.001, 'penalty': 'l1'}   \n",
       "split0_test_score                       0.622279   \n",
       "split1_test_score                       0.622279   \n",
       "split2_test_score                       0.622545   \n",
       "split3_test_score                       0.622545   \n",
       "split4_test_score                       0.622118   \n",
       "mean_test_score                         0.622353   \n",
       "std_test_score                          0.000167   \n",
       "rank_test_score                               10   \n",
       "\n",
       "                                               1                            2  \\\n",
       "mean_fit_time                           0.019204                      0.04411   \n",
       "std_fit_time                             0.00098                      0.00516   \n",
       "mean_score_time                           0.0004                     0.000601   \n",
       "std_score_time                           0.00049                      0.00049   \n",
       "param_C                                    0.001                          0.1   \n",
       "param_penalty                                 l2                           l1   \n",
       "params             {'C': 0.001, 'penalty': 'l2'}  {'C': 0.1, 'penalty': 'l1'}   \n",
       "split0_test_score                       0.623133                     0.721724   \n",
       "split1_test_score                       0.623133                     0.734528   \n",
       "split2_test_score                       0.622972                     0.715628   \n",
       "split3_test_score                       0.623826                     0.707942   \n",
       "split4_test_score                       0.622545                     0.704953   \n",
       "mean_test_score                         0.623122                     0.716955   \n",
       "std_test_score                          0.000413                      0.01057   \n",
       "rank_test_score                                9                            7   \n",
       "\n",
       "                                             3                          4  \\\n",
       "mean_fit_time                         0.049011                   0.057417   \n",
       "std_fit_time                          0.000633                   0.004035   \n",
       "mean_score_time                            0.0                     0.0008   \n",
       "std_score_time                             0.0                     0.0004   \n",
       "param_C                                    0.1                          1   \n",
       "param_penalty                               l2                         l1   \n",
       "params             {'C': 0.1, 'penalty': 'l2'}  {'C': 1, 'penalty': 'l1'}   \n",
       "split0_test_score                     0.758003                   0.776355   \n",
       "split1_test_score                     0.764831                   0.778916   \n",
       "split2_test_score                     0.750213                   0.761742   \n",
       "split3_test_score                     0.742101                   0.762596   \n",
       "split4_test_score                     0.749787                   0.766439   \n",
       "mean_test_score                       0.752987                    0.76921   \n",
       "std_test_score                         0.00777                   0.007106   \n",
       "rank_test_score                              4                          2   \n",
       "\n",
       "                                           5                           6  \\\n",
       "mean_fit_time                       0.090616                    0.125337   \n",
       "std_fit_time                        0.001745                    0.017016   \n",
       "mean_score_time                       0.0004                    0.000999   \n",
       "std_score_time                       0.00049                    0.000006   \n",
       "param_C                                    1                          10   \n",
       "param_penalty                             l2                          l1   \n",
       "params             {'C': 1, 'penalty': 'l2'}  {'C': 10, 'penalty': 'l1'}   \n",
       "split0_test_score                   0.777636                     0.75032   \n",
       "split1_test_score                   0.780196                    0.737516   \n",
       "split2_test_score                    0.76772                    0.744236   \n",
       "split3_test_score                   0.770282                    0.753202   \n",
       "split4_test_score                   0.766439                    0.727583   \n",
       "mean_test_score                     0.772454                    0.742571   \n",
       "std_test_score                      0.005479                    0.009231   \n",
       "rank_test_score                            1                           5   \n",
       "\n",
       "                                            7                            8  \\\n",
       "mean_fit_time                        0.168038                     0.193747   \n",
       "std_fit_time                         0.010938                      0.00609   \n",
       "mean_score_time                        0.0008                     0.000802   \n",
       "std_score_time                         0.0004                     0.000401   \n",
       "param_C                                    10                          100   \n",
       "param_penalty                              l2                           l1   \n",
       "params             {'C': 10, 'penalty': 'l2'}  {'C': 100, 'penalty': 'l1'}   \n",
       "split0_test_score                    0.761417                      0.69697   \n",
       "split1_test_score                    0.753308                     0.697397   \n",
       "split2_test_score                    0.757472                     0.711358   \n",
       "split3_test_score                    0.765158                     0.699829   \n",
       "split4_test_score                    0.744663                     0.694705   \n",
       "mean_test_score                      0.756404                     0.700052   \n",
       "std_test_score                       0.007076                     0.005882   \n",
       "rank_test_score                             3                            8   \n",
       "\n",
       "                                             9  \n",
       "mean_fit_time                         0.360478  \n",
       "std_fit_time                          0.032979  \n",
       "mean_score_time                         0.0004  \n",
       "std_score_time                         0.00049  \n",
       "param_C                                    100  \n",
       "param_penalty                               l2  \n",
       "params             {'C': 100, 'penalty': 'l2'}  \n",
       "split0_test_score                     0.724712  \n",
       "split1_test_score                     0.734102  \n",
       "split2_test_score                     0.735696  \n",
       "split3_test_score                      0.74082  \n",
       "split4_test_score                     0.712639  \n",
       "mean_test_score                       0.729594  \n",
       "std_test_score                        0.009949  \n",
       "rank_test_score                              6  "
      ]
     },
     "execution_count": 53,
     "metadata": {},
     "output_type": "execute_result"
    }
   ],
   "source": [
    "lr_params = {'penalty': ['l1','l2'],'C': [0.001,0.1,1, 10, 100]}\n",
    "\n",
    "logreg=LogisticRegression(max_iter=10000,solver='liblinear')\n",
    "logreg_cv=GridSearchCV(logreg,lr_params, cv=5, verbose=0)\n",
    "best_model = logreg_cv.fit(X_train_count,y_train)\n",
    "result = best_model.cv_results_\n",
    "pd.DataFrame.from_dict(result).T"
   ]
  },
  {
   "cell_type": "code",
   "execution_count": 54,
   "metadata": {},
   "outputs": [
    {
     "name": "stdout",
     "output_type": "stream",
     "text": [
      " Accuracy Score for train data = 0.8977117486338798\n",
      " Accuracy Score for test data = 0.7971311475409836\n",
      "Classification Report for test data\n",
      "              precision    recall  f1-score   support\n",
      "\n",
      "          -1       0.85      0.90      0.87      1889\n",
      "           0       0.63      0.54      0.58       580\n",
      "           1       0.75      0.69      0.72       459\n",
      "\n",
      "    accuracy                           0.80      2928\n",
      "   macro avg       0.74      0.71      0.73      2928\n",
      "weighted avg       0.79      0.80      0.79      2928\n",
      "\n",
      "Wall time: 279 ms\n"
     ]
    },
    {
     "name": "stderr",
     "output_type": "stream",
     "text": [
      "C:\\Users\\SULAKKHANA\\anaconda3\\lib\\site-packages\\sklearn\\utils\\validation.py:70: FutureWarning: Pass labels=[-1, 0, 1] as keyword args. From version 1.0 (renaming of 0.25) passing these as positional arguments will result in an error\n",
      "  warnings.warn(f\"Pass {args_msg} as keyword args. From version \"\n"
     ]
    },
    {
     "data": {
      "image/png": "[encoded data removed]",
      "text/plain": [
       "<Figure size 432x288 with 2 Axes>"
      ]
     },
     "metadata": {
      "needs_background": "light"
     },
     "output_type": "display_data"
    }
   ],
   "source": [
    "%%time\n",
    "# Logistic Regression on Count Vectors\n",
    "accuracy1 = evaluate_model(LogisticRegression(C=1, penalty='l2',solver='liblinear'), X_train_count, y_train,X_test_count , y_test)"
   ]
  },
  {
   "cell_type": "markdown",
   "metadata": {},
   "source": [
    "#### On Word Level TF IDF Vectors"
   ]
  },
  {
   "cell_type": "code",
   "execution_count": 55,
   "metadata": {},
   "outputs": [
    {
     "name": "stdout",
     "output_type": "stream",
     "text": [
      " Accuracy Score for train data = 0.8257342896174863\n",
      " Accuracy Score for test data = 0.7865437158469946\n",
      "Wall time: 55 ms\n"
     ]
    }
   ],
   "source": [
    "%%time\n",
    "model = LogisticRegression(solver='liblinear', max_iter = 500)\n",
    "# Fit Model\n",
    "model.fit( X_train_tfidf,y_train)\n",
    "# Score\n",
    "\n",
    "print(f\" Accuracy Score for train data = {model.score( X_train_tfidf, y_train)}\")\n",
    "print(f\" Accuracy Score for test data = {model.score(X_test_tfidf , y_test)}\")"
   ]
  },
  {
   "cell_type": "markdown",
   "metadata": {},
   "source": [
    "##### Hyperparameter tuning on Word Level TF IDF Vectors"
   ]
  },
  {
   "cell_type": "code",
   "execution_count": 56,
   "metadata": {},
   "outputs": [
    {
     "data": {
      "text/html": [
       "<div>\n",
       "<style scoped>\n",
       "    .dataframe tbody tr th:only-of-type {\n",
       "        vertical-align: middle;\n",
       "    }\n",
       "\n",
       "    .dataframe tbody tr th {\n",
       "        vertical-align: top;\n",
       "    }\n",
       "\n",
       "    .dataframe thead th {\n",
       "        text-align: right;\n",
       "    }\n",
       "</style>\n",
       "<table border=\"1\" class=\"dataframe\">\n",
       "  <thead>\n",
       "    <tr style=\"text-align: right;\">\n",
       "      <th></th>\n",
       "      <th>0</th>\n",
       "      <th>1</th>\n",
       "      <th>2</th>\n",
       "      <th>3</th>\n",
       "      <th>4</th>\n",
       "      <th>5</th>\n",
       "      <th>6</th>\n",
       "      <th>7</th>\n",
       "      <th>8</th>\n",
       "      <th>9</th>\n",
       "    </tr>\n",
       "  </thead>\n",
       "  <tbody>\n",
       "    <tr>\n",
       "      <th>mean_fit_time</th>\n",
       "      <td>0.012201</td>\n",
       "      <td>0.013002</td>\n",
       "      <td>0.026205</td>\n",
       "      <td>0.028403</td>\n",
       "      <td>0.042809</td>\n",
       "      <td>0.042716</td>\n",
       "      <td>0.119228</td>\n",
       "      <td>0.079618</td>\n",
       "      <td>0.23018</td>\n",
       "      <td>0.15493</td>\n",
       "    </tr>\n",
       "    <tr>\n",
       "      <th>std_fit_time</th>\n",
       "      <td>0.000401</td>\n",
       "      <td>0.000001</td>\n",
       "      <td>0.001167</td>\n",
       "      <td>0.00049</td>\n",
       "      <td>0.003487</td>\n",
       "      <td>0.000398</td>\n",
       "      <td>0.002135</td>\n",
       "      <td>0.003387</td>\n",
       "      <td>0.018405</td>\n",
       "      <td>0.00565</td>\n",
       "    </tr>\n",
       "    <tr>\n",
       "      <th>mean_score_time</th>\n",
       "      <td>0.000802</td>\n",
       "      <td>0.001001</td>\n",
       "      <td>0.000802</td>\n",
       "      <td>0.000401</td>\n",
       "      <td>0.000799</td>\n",
       "      <td>0.000803</td>\n",
       "      <td>0.000802</td>\n",
       "      <td>0.000603</td>\n",
       "      <td>0.0002</td>\n",
       "      <td>0.0006</td>\n",
       "    </tr>\n",
       "    <tr>\n",
       "      <th>std_score_time</th>\n",
       "      <td>0.000401</td>\n",
       "      <td>0.000001</td>\n",
       "      <td>0.000401</td>\n",
       "      <td>0.000491</td>\n",
       "      <td>0.0004</td>\n",
       "      <td>0.000401</td>\n",
       "      <td>0.000401</td>\n",
       "      <td>0.000492</td>\n",
       "      <td>0.0004</td>\n",
       "      <td>0.00049</td>\n",
       "    </tr>\n",
       "    <tr>\n",
       "      <th>param_C</th>\n",
       "      <td>0.001</td>\n",
       "      <td>0.001</td>\n",
       "      <td>0.1</td>\n",
       "      <td>0.1</td>\n",
       "      <td>1</td>\n",
       "      <td>1</td>\n",
       "      <td>10</td>\n",
       "      <td>10</td>\n",
       "      <td>100</td>\n",
       "      <td>100</td>\n",
       "    </tr>\n",
       "    <tr>\n",
       "      <th>param_penalty</th>\n",
       "      <td>l1</td>\n",
       "      <td>l2</td>\n",
       "      <td>l1</td>\n",
       "      <td>l2</td>\n",
       "      <td>l1</td>\n",
       "      <td>l2</td>\n",
       "      <td>l1</td>\n",
       "      <td>l2</td>\n",
       "      <td>l1</td>\n",
       "      <td>l2</td>\n",
       "    </tr>\n",
       "    <tr>\n",
       "      <th>params</th>\n",
       "      <td>{'C': 0.001, 'penalty': 'l1'}</td>\n",
       "      <td>{'C': 0.001, 'penalty': 'l2'}</td>\n",
       "      <td>{'C': 0.1, 'penalty': 'l1'}</td>\n",
       "      <td>{'C': 0.1, 'penalty': 'l2'}</td>\n",
       "      <td>{'C': 1, 'penalty': 'l1'}</td>\n",
       "      <td>{'C': 1, 'penalty': 'l2'}</td>\n",
       "      <td>{'C': 10, 'penalty': 'l1'}</td>\n",
       "      <td>{'C': 10, 'penalty': 'l2'}</td>\n",
       "      <td>{'C': 100, 'penalty': 'l1'}</td>\n",
       "      <td>{'C': 100, 'penalty': 'l2'}</td>\n",
       "    </tr>\n",
       "    <tr>\n",
       "      <th>split0_test_score</th>\n",
       "      <td>0.622279</td>\n",
       "      <td>0.622279</td>\n",
       "      <td>0.684592</td>\n",
       "      <td>0.682885</td>\n",
       "      <td>0.756722</td>\n",
       "      <td>0.763978</td>\n",
       "      <td>0.75032</td>\n",
       "      <td>0.772087</td>\n",
       "      <td>0.690141</td>\n",
       "      <td>0.733675</td>\n",
       "    </tr>\n",
       "    <tr>\n",
       "      <th>split1_test_score</th>\n",
       "      <td>0.622279</td>\n",
       "      <td>0.622279</td>\n",
       "      <td>0.699104</td>\n",
       "      <td>0.684592</td>\n",
       "      <td>0.762271</td>\n",
       "      <td>0.770807</td>\n",
       "      <td>0.731968</td>\n",
       "      <td>0.766539</td>\n",
       "      <td>0.690568</td>\n",
       "      <td>0.723005</td>\n",
       "    </tr>\n",
       "    <tr>\n",
       "      <th>split2_test_score</th>\n",
       "      <td>0.622545</td>\n",
       "      <td>0.622545</td>\n",
       "      <td>0.690009</td>\n",
       "      <td>0.684885</td>\n",
       "      <td>0.752348</td>\n",
       "      <td>0.758753</td>\n",
       "      <td>0.739966</td>\n",
       "      <td>0.763877</td>\n",
       "      <td>0.701537</td>\n",
       "      <td>0.728864</td>\n",
       "    </tr>\n",
       "    <tr>\n",
       "      <th>split3_test_score</th>\n",
       "      <td>0.622545</td>\n",
       "      <td>0.622545</td>\n",
       "      <td>0.681469</td>\n",
       "      <td>0.685739</td>\n",
       "      <td>0.754483</td>\n",
       "      <td>0.760034</td>\n",
       "      <td>0.746798</td>\n",
       "      <td>0.76345</td>\n",
       "      <td>0.704099</td>\n",
       "      <td>0.739966</td>\n",
       "    </tr>\n",
       "    <tr>\n",
       "      <th>split4_test_score</th>\n",
       "      <td>0.622118</td>\n",
       "      <td>0.622118</td>\n",
       "      <td>0.679334</td>\n",
       "      <td>0.673356</td>\n",
       "      <td>0.748079</td>\n",
       "      <td>0.755337</td>\n",
       "      <td>0.738685</td>\n",
       "      <td>0.760461</td>\n",
       "      <td>0.686166</td>\n",
       "      <td>0.725875</td>\n",
       "    </tr>\n",
       "    <tr>\n",
       "      <th>mean_test_score</th>\n",
       "      <td>0.622353</td>\n",
       "      <td>0.622353</td>\n",
       "      <td>0.686901</td>\n",
       "      <td>0.682291</td>\n",
       "      <td>0.754781</td>\n",
       "      <td>0.761782</td>\n",
       "      <td>0.741547</td>\n",
       "      <td>0.765283</td>\n",
       "      <td>0.694502</td>\n",
       "      <td>0.730277</td>\n",
       "    </tr>\n",
       "    <tr>\n",
       "      <th>std_test_score</th>\n",
       "      <td>0.000167</td>\n",
       "      <td>0.000167</td>\n",
       "      <td>0.00708</td>\n",
       "      <td>0.004563</td>\n",
       "      <td>0.004707</td>\n",
       "      <td>0.005292</td>\n",
       "      <td>0.006434</td>\n",
       "      <td>0.00391</td>\n",
       "      <td>0.007008</td>\n",
       "      <td>0.005995</td>\n",
       "    </tr>\n",
       "    <tr>\n",
       "      <th>rank_test_score</th>\n",
       "      <td>9</td>\n",
       "      <td>9</td>\n",
       "      <td>7</td>\n",
       "      <td>8</td>\n",
       "      <td>3</td>\n",
       "      <td>2</td>\n",
       "      <td>4</td>\n",
       "      <td>1</td>\n",
       "      <td>6</td>\n",
       "      <td>5</td>\n",
       "    </tr>\n",
       "  </tbody>\n",
       "</table>\n",
       "</div>"
      ],
      "text/plain": [
       "                                               0  \\\n",
       "mean_fit_time                           0.012201   \n",
       "std_fit_time                            0.000401   \n",
       "mean_score_time                         0.000802   \n",
       "std_score_time                          0.000401   \n",
       "param_C                                    0.001   \n",
       "param_penalty                                 l1   \n",
       "params             {'C': 0.001, 'penalty': 'l1'}   \n",
       "split0_test_score                       0.622279   \n",
       "split1_test_score                       0.622279   \n",
       "split2_test_score                       0.622545   \n",
       "split3_test_score                       0.622545   \n",
       "split4_test_score                       0.622118   \n",
       "mean_test_score                         0.622353   \n",
       "std_test_score                          0.000167   \n",
       "rank_test_score                                9   \n",
       "\n",
       "                                               1                            2  \\\n",
       "mean_fit_time                           0.013002                     0.026205   \n",
       "std_fit_time                            0.000001                     0.001167   \n",
       "mean_score_time                         0.001001                     0.000802   \n",
       "std_score_time                          0.000001                     0.000401   \n",
       "param_C                                    0.001                          0.1   \n",
       "param_penalty                                 l2                           l1   \n",
       "params             {'C': 0.001, 'penalty': 'l2'}  {'C': 0.1, 'penalty': 'l1'}   \n",
       "split0_test_score                       0.622279                     0.684592   \n",
       "split1_test_score                       0.622279                     0.699104   \n",
       "split2_test_score                       0.622545                     0.690009   \n",
       "split3_test_score                       0.622545                     0.681469   \n",
       "split4_test_score                       0.622118                     0.679334   \n",
       "mean_test_score                         0.622353                     0.686901   \n",
       "std_test_score                          0.000167                      0.00708   \n",
       "rank_test_score                                9                            7   \n",
       "\n",
       "                                             3                          4  \\\n",
       "mean_fit_time                         0.028403                   0.042809   \n",
       "std_fit_time                           0.00049                   0.003487   \n",
       "mean_score_time                       0.000401                   0.000799   \n",
       "std_score_time                        0.000491                     0.0004   \n",
       "param_C                                    0.1                          1   \n",
       "param_penalty                               l2                         l1   \n",
       "params             {'C': 0.1, 'penalty': 'l2'}  {'C': 1, 'penalty': 'l1'}   \n",
       "split0_test_score                     0.682885                   0.756722   \n",
       "split1_test_score                     0.684592                   0.762271   \n",
       "split2_test_score                     0.684885                   0.752348   \n",
       "split3_test_score                     0.685739                   0.754483   \n",
       "split4_test_score                     0.673356                   0.748079   \n",
       "mean_test_score                       0.682291                   0.754781   \n",
       "std_test_score                        0.004563                   0.004707   \n",
       "rank_test_score                              8                          3   \n",
       "\n",
       "                                           5                           6  \\\n",
       "mean_fit_time                       0.042716                    0.119228   \n",
       "std_fit_time                        0.000398                    0.002135   \n",
       "mean_score_time                     0.000803                    0.000802   \n",
       "std_score_time                      0.000401                    0.000401   \n",
       "param_C                                    1                          10   \n",
       "param_penalty                             l2                          l1   \n",
       "params             {'C': 1, 'penalty': 'l2'}  {'C': 10, 'penalty': 'l1'}   \n",
       "split0_test_score                   0.763978                     0.75032   \n",
       "split1_test_score                   0.770807                    0.731968   \n",
       "split2_test_score                   0.758753                    0.739966   \n",
       "split3_test_score                   0.760034                    0.746798   \n",
       "split4_test_score                   0.755337                    0.738685   \n",
       "mean_test_score                     0.761782                    0.741547   \n",
       "std_test_score                      0.005292                    0.006434   \n",
       "rank_test_score                            2                           4   \n",
       "\n",
       "                                            7                            8  \\\n",
       "mean_fit_time                        0.079618                      0.23018   \n",
       "std_fit_time                         0.003387                     0.018405   \n",
       "mean_score_time                      0.000603                       0.0002   \n",
       "std_score_time                       0.000492                       0.0004   \n",
       "param_C                                    10                          100   \n",
       "param_penalty                              l2                           l1   \n",
       "params             {'C': 10, 'penalty': 'l2'}  {'C': 100, 'penalty': 'l1'}   \n",
       "split0_test_score                    0.772087                     0.690141   \n",
       "split1_test_score                    0.766539                     0.690568   \n",
       "split2_test_score                    0.763877                     0.701537   \n",
       "split3_test_score                     0.76345                     0.704099   \n",
       "split4_test_score                    0.760461                     0.686166   \n",
       "mean_test_score                      0.765283                     0.694502   \n",
       "std_test_score                        0.00391                     0.007008   \n",
       "rank_test_score                             1                            6   \n",
       "\n",
       "                                             9  \n",
       "mean_fit_time                          0.15493  \n",
       "std_fit_time                           0.00565  \n",
       "mean_score_time                         0.0006  \n",
       "std_score_time                         0.00049  \n",
       "param_C                                    100  \n",
       "param_penalty                               l2  \n",
       "params             {'C': 100, 'penalty': 'l2'}  \n",
       "split0_test_score                     0.733675  \n",
       "split1_test_score                     0.723005  \n",
       "split2_test_score                     0.728864  \n",
       "split3_test_score                     0.739966  \n",
       "split4_test_score                     0.725875  \n",
       "mean_test_score                       0.730277  \n",
       "std_test_score                        0.005995  \n",
       "rank_test_score                              5  "
      ]
     },
     "execution_count": 56,
     "metadata": {},
     "output_type": "execute_result"
    }
   ],
   "source": [
    "lr_params = {'penalty': ['l1','l2'],'C': [0.001,0.1,1, 10, 100]}\n",
    "\n",
    "logreg=LogisticRegression(max_iter=10000,solver='liblinear')\n",
    "logreg_cv=GridSearchCV(logreg,lr_params, cv=5, verbose=0)\n",
    "best_model = logreg_cv.fit(X_train_tfidf,y_train)\n",
    "result = best_model.cv_results_\n",
    "pd.DataFrame.from_dict(result).T"
   ]
  },
  {
   "cell_type": "code",
   "execution_count": 57,
   "metadata": {},
   "outputs": [
    {
     "name": "stdout",
     "output_type": "stream",
     "text": [
      " Accuracy Score for train data = 0.9073599726775956\n",
      " Accuracy Score for test data = 0.7930327868852459\n",
      "Classification Report for test data\n",
      "              precision    recall  f1-score   support\n",
      "\n",
      "          -1       0.84      0.90      0.87      1889\n",
      "           0       0.61      0.54      0.57       580\n",
      "           1       0.77      0.66      0.71       459\n",
      "\n",
      "    accuracy                           0.79      2928\n",
      "   macro avg       0.74      0.70      0.72      2928\n",
      "weighted avg       0.79      0.79      0.79      2928\n",
      "\n",
      "Wall time: 289 ms\n"
     ]
    },
    {
     "name": "stderr",
     "output_type": "stream",
     "text": [
      "C:\\Users\\SULAKKHANA\\anaconda3\\lib\\site-packages\\sklearn\\utils\\validation.py:70: FutureWarning: Pass labels=[-1, 0, 1] as keyword args. From version 1.0 (renaming of 0.25) passing these as positional arguments will result in an error\n",
      "  warnings.warn(f\"Pass {args_msg} as keyword args. From version \"\n"
     ]
    },
    {
     "data": {
      "image/png": "[encoded data removed]",
      "text/plain": [
       "<Figure size 432x288 with 2 Axes>"
      ]
     },
     "metadata": {
      "needs_background": "light"
     },
     "output_type": "display_data"
    }
   ],
   "source": [
    "%%time\n",
    "# Logistic Regression on TF IDF\n",
    "accuracy2 = evaluate_model(LogisticRegression(C=10, penalty='l2',solver='liblinear'),  X_train_tfidf, y_train,X_test_tfidf , y_test)"
   ]
  },
  {
   "cell_type": "markdown",
   "metadata": {},
   "source": [
    "#### on Ngram Level TF IDF Vectors"
   ]
  },
  {
   "cell_type": "code",
   "execution_count": 58,
   "metadata": {},
   "outputs": [
    {
     "name": "stdout",
     "output_type": "stream",
     "text": [
      " Accuracy Score for train data = 0.7155054644808743\n",
      " Accuracy Score for test data = 0.6956967213114754\n"
     ]
    }
   ],
   "source": [
    "modeln = LogisticRegression(solver='liblinear')\n",
    "# Fit Model\n",
    "modeln.fit(X_train_tfidf_ngram,y_train)\n",
    "# Score\n",
    "\n",
    "print(f\" Accuracy Score for train data = {modeln.score(X_train_tfidf_ngram, y_train)}\")\n",
    "print(f\" Accuracy Score for test data = {modeln.score(X_test_tfidf_ngram , y_test)}\")"
   ]
  },
  {
   "cell_type": "markdown",
   "metadata": {},
   "source": [
    "##### Hyperparameter tuning on Ngram Level TF IDF Vectors"
   ]
  },
  {
   "cell_type": "code",
   "execution_count": 59,
   "metadata": {
    "scrolled": true
   },
   "outputs": [
    {
     "data": {
      "text/html": [
       "<div>\n",
       "<style scoped>\n",
       "    .dataframe tbody tr th:only-of-type {\n",
       "        vertical-align: middle;\n",
       "    }\n",
       "\n",
       "    .dataframe tbody tr th {\n",
       "        vertical-align: top;\n",
       "    }\n",
       "\n",
       "    .dataframe thead th {\n",
       "        text-align: right;\n",
       "    }\n",
       "</style>\n",
       "<table border=\"1\" class=\"dataframe\">\n",
       "  <thead>\n",
       "    <tr style=\"text-align: right;\">\n",
       "      <th></th>\n",
       "      <th>0</th>\n",
       "      <th>1</th>\n",
       "      <th>2</th>\n",
       "      <th>3</th>\n",
       "      <th>4</th>\n",
       "      <th>5</th>\n",
       "      <th>6</th>\n",
       "      <th>7</th>\n",
       "      <th>8</th>\n",
       "      <th>9</th>\n",
       "    </tr>\n",
       "  </thead>\n",
       "  <tbody>\n",
       "    <tr>\n",
       "      <th>mean_fit_time</th>\n",
       "      <td>0.008201</td>\n",
       "      <td>0.011402</td>\n",
       "      <td>0.012201</td>\n",
       "      <td>0.021804</td>\n",
       "      <td>0.020204</td>\n",
       "      <td>0.033406</td>\n",
       "      <td>0.049712</td>\n",
       "      <td>0.066816</td>\n",
       "      <td>0.103822</td>\n",
       "      <td>0.140429</td>\n",
       "    </tr>\n",
       "    <tr>\n",
       "      <th>std_fit_time</th>\n",
       "      <td>0.0004</td>\n",
       "      <td>0.000491</td>\n",
       "      <td>0.00098</td>\n",
       "      <td>0.0004</td>\n",
       "      <td>0.001327</td>\n",
       "      <td>0.00206</td>\n",
       "      <td>0.006226</td>\n",
       "      <td>0.004702</td>\n",
       "      <td>0.014413</td>\n",
       "      <td>0.010824</td>\n",
       "    </tr>\n",
       "    <tr>\n",
       "      <th>mean_score_time</th>\n",
       "      <td>0.0002</td>\n",
       "      <td>0.0002</td>\n",
       "      <td>0.000601</td>\n",
       "      <td>0.000801</td>\n",
       "      <td>0.000801</td>\n",
       "      <td>0.000601</td>\n",
       "      <td>0.0004</td>\n",
       "      <td>0.0006</td>\n",
       "      <td>0.000601</td>\n",
       "      <td>0.0006</td>\n",
       "    </tr>\n",
       "    <tr>\n",
       "      <th>std_score_time</th>\n",
       "      <td>0.0004</td>\n",
       "      <td>0.0004</td>\n",
       "      <td>0.000491</td>\n",
       "      <td>0.0004</td>\n",
       "      <td>0.0004</td>\n",
       "      <td>0.000491</td>\n",
       "      <td>0.00049</td>\n",
       "      <td>0.00049</td>\n",
       "      <td>0.000491</td>\n",
       "      <td>0.00049</td>\n",
       "    </tr>\n",
       "    <tr>\n",
       "      <th>param_C</th>\n",
       "      <td>0.001</td>\n",
       "      <td>0.001</td>\n",
       "      <td>0.1</td>\n",
       "      <td>0.1</td>\n",
       "      <td>1</td>\n",
       "      <td>1</td>\n",
       "      <td>10</td>\n",
       "      <td>10</td>\n",
       "      <td>100</td>\n",
       "      <td>100</td>\n",
       "    </tr>\n",
       "    <tr>\n",
       "      <th>param_penalty</th>\n",
       "      <td>l1</td>\n",
       "      <td>l2</td>\n",
       "      <td>l1</td>\n",
       "      <td>l2</td>\n",
       "      <td>l1</td>\n",
       "      <td>l2</td>\n",
       "      <td>l1</td>\n",
       "      <td>l2</td>\n",
       "      <td>l1</td>\n",
       "      <td>l2</td>\n",
       "    </tr>\n",
       "    <tr>\n",
       "      <th>params</th>\n",
       "      <td>{'C': 0.001, 'penalty': 'l1'}</td>\n",
       "      <td>{'C': 0.001, 'penalty': 'l2'}</td>\n",
       "      <td>{'C': 0.1, 'penalty': 'l1'}</td>\n",
       "      <td>{'C': 0.1, 'penalty': 'l2'}</td>\n",
       "      <td>{'C': 1, 'penalty': 'l1'}</td>\n",
       "      <td>{'C': 1, 'penalty': 'l2'}</td>\n",
       "      <td>{'C': 10, 'penalty': 'l1'}</td>\n",
       "      <td>{'C': 10, 'penalty': 'l2'}</td>\n",
       "      <td>{'C': 100, 'penalty': 'l1'}</td>\n",
       "      <td>{'C': 100, 'penalty': 'l2'}</td>\n",
       "    </tr>\n",
       "    <tr>\n",
       "      <th>split0_test_score</th>\n",
       "      <td>0.622279</td>\n",
       "      <td>0.622279</td>\n",
       "      <td>0.629962</td>\n",
       "      <td>0.629962</td>\n",
       "      <td>0.661118</td>\n",
       "      <td>0.672642</td>\n",
       "      <td>0.652155</td>\n",
       "      <td>0.664533</td>\n",
       "      <td>0.629108</td>\n",
       "      <td>0.638071</td>\n",
       "    </tr>\n",
       "    <tr>\n",
       "      <th>split1_test_score</th>\n",
       "      <td>0.622279</td>\n",
       "      <td>0.622279</td>\n",
       "      <td>0.634656</td>\n",
       "      <td>0.63679</td>\n",
       "      <td>0.665813</td>\n",
       "      <td>0.676483</td>\n",
       "      <td>0.644046</td>\n",
       "      <td>0.659411</td>\n",
       "      <td>0.624413</td>\n",
       "      <td>0.635937</td>\n",
       "    </tr>\n",
       "    <tr>\n",
       "      <th>split2_test_score</th>\n",
       "      <td>0.622545</td>\n",
       "      <td>0.622545</td>\n",
       "      <td>0.62895</td>\n",
       "      <td>0.631085</td>\n",
       "      <td>0.663535</td>\n",
       "      <td>0.670794</td>\n",
       "      <td>0.637489</td>\n",
       "      <td>0.658412</td>\n",
       "      <td>0.61614</td>\n",
       "      <td>0.627669</td>\n",
       "    </tr>\n",
       "    <tr>\n",
       "      <th>split3_test_score</th>\n",
       "      <td>0.622545</td>\n",
       "      <td>0.622545</td>\n",
       "      <td>0.628523</td>\n",
       "      <td>0.629377</td>\n",
       "      <td>0.657558</td>\n",
       "      <td>0.666097</td>\n",
       "      <td>0.652434</td>\n",
       "      <td>0.666097</td>\n",
       "      <td>0.632365</td>\n",
       "      <td>0.64304</td>\n",
       "    </tr>\n",
       "    <tr>\n",
       "      <th>split4_test_score</th>\n",
       "      <td>0.622118</td>\n",
       "      <td>0.622118</td>\n",
       "      <td>0.626815</td>\n",
       "      <td>0.628523</td>\n",
       "      <td>0.655423</td>\n",
       "      <td>0.660974</td>\n",
       "      <td>0.649018</td>\n",
       "      <td>0.662681</td>\n",
       "      <td>0.634927</td>\n",
       "      <td>0.649872</td>\n",
       "    </tr>\n",
       "    <tr>\n",
       "      <th>mean_test_score</th>\n",
       "      <td>0.622353</td>\n",
       "      <td>0.622353</td>\n",
       "      <td>0.629781</td>\n",
       "      <td>0.631147</td>\n",
       "      <td>0.660689</td>\n",
       "      <td>0.669398</td>\n",
       "      <td>0.647029</td>\n",
       "      <td>0.662227</td>\n",
       "      <td>0.627391</td>\n",
       "      <td>0.638918</td>\n",
       "    </tr>\n",
       "    <tr>\n",
       "      <th>std_test_score</th>\n",
       "      <td>0.000167</td>\n",
       "      <td>0.000167</td>\n",
       "      <td>0.002641</td>\n",
       "      <td>0.002942</td>\n",
       "      <td>0.003797</td>\n",
       "      <td>0.005377</td>\n",
       "      <td>0.005645</td>\n",
       "      <td>0.002932</td>\n",
       "      <td>0.006632</td>\n",
       "      <td>0.007391</td>\n",
       "    </tr>\n",
       "    <tr>\n",
       "      <th>rank_test_score</th>\n",
       "      <td>9</td>\n",
       "      <td>9</td>\n",
       "      <td>7</td>\n",
       "      <td>6</td>\n",
       "      <td>3</td>\n",
       "      <td>1</td>\n",
       "      <td>4</td>\n",
       "      <td>2</td>\n",
       "      <td>8</td>\n",
       "      <td>5</td>\n",
       "    </tr>\n",
       "  </tbody>\n",
       "</table>\n",
       "</div>"
      ],
      "text/plain": [
       "                                               0  \\\n",
       "mean_fit_time                           0.008201   \n",
       "std_fit_time                              0.0004   \n",
       "mean_score_time                           0.0002   \n",
       "std_score_time                            0.0004   \n",
       "param_C                                    0.001   \n",
       "param_penalty                                 l1   \n",
       "params             {'C': 0.001, 'penalty': 'l1'}   \n",
       "split0_test_score                       0.622279   \n",
       "split1_test_score                       0.622279   \n",
       "split2_test_score                       0.622545   \n",
       "split3_test_score                       0.622545   \n",
       "split4_test_score                       0.622118   \n",
       "mean_test_score                         0.622353   \n",
       "std_test_score                          0.000167   \n",
       "rank_test_score                                9   \n",
       "\n",
       "                                               1                            2  \\\n",
       "mean_fit_time                           0.011402                     0.012201   \n",
       "std_fit_time                            0.000491                      0.00098   \n",
       "mean_score_time                           0.0002                     0.000601   \n",
       "std_score_time                            0.0004                     0.000491   \n",
       "param_C                                    0.001                          0.1   \n",
       "param_penalty                                 l2                           l1   \n",
       "params             {'C': 0.001, 'penalty': 'l2'}  {'C': 0.1, 'penalty': 'l1'}   \n",
       "split0_test_score                       0.622279                     0.629962   \n",
       "split1_test_score                       0.622279                     0.634656   \n",
       "split2_test_score                       0.622545                      0.62895   \n",
       "split3_test_score                       0.622545                     0.628523   \n",
       "split4_test_score                       0.622118                     0.626815   \n",
       "mean_test_score                         0.622353                     0.629781   \n",
       "std_test_score                          0.000167                     0.002641   \n",
       "rank_test_score                                9                            7   \n",
       "\n",
       "                                             3                          4  \\\n",
       "mean_fit_time                         0.021804                   0.020204   \n",
       "std_fit_time                            0.0004                   0.001327   \n",
       "mean_score_time                       0.000801                   0.000801   \n",
       "std_score_time                          0.0004                     0.0004   \n",
       "param_C                                    0.1                          1   \n",
       "param_penalty                               l2                         l1   \n",
       "params             {'C': 0.1, 'penalty': 'l2'}  {'C': 1, 'penalty': 'l1'}   \n",
       "split0_test_score                     0.629962                   0.661118   \n",
       "split1_test_score                      0.63679                   0.665813   \n",
       "split2_test_score                     0.631085                   0.663535   \n",
       "split3_test_score                     0.629377                   0.657558   \n",
       "split4_test_score                     0.628523                   0.655423   \n",
       "mean_test_score                       0.631147                   0.660689   \n",
       "std_test_score                        0.002942                   0.003797   \n",
       "rank_test_score                              6                          3   \n",
       "\n",
       "                                           5                           6  \\\n",
       "mean_fit_time                       0.033406                    0.049712   \n",
       "std_fit_time                         0.00206                    0.006226   \n",
       "mean_score_time                     0.000601                      0.0004   \n",
       "std_score_time                      0.000491                     0.00049   \n",
       "param_C                                    1                          10   \n",
       "param_penalty                             l2                          l1   \n",
       "params             {'C': 1, 'penalty': 'l2'}  {'C': 10, 'penalty': 'l1'}   \n",
       "split0_test_score                   0.672642                    0.652155   \n",
       "split1_test_score                   0.676483                    0.644046   \n",
       "split2_test_score                   0.670794                    0.637489   \n",
       "split3_test_score                   0.666097                    0.652434   \n",
       "split4_test_score                   0.660974                    0.649018   \n",
       "mean_test_score                     0.669398                    0.647029   \n",
       "std_test_score                      0.005377                    0.005645   \n",
       "rank_test_score                            1                           4   \n",
       "\n",
       "                                            7                            8  \\\n",
       "mean_fit_time                        0.066816                     0.103822   \n",
       "std_fit_time                         0.004702                     0.014413   \n",
       "mean_score_time                        0.0006                     0.000601   \n",
       "std_score_time                        0.00049                     0.000491   \n",
       "param_C                                    10                          100   \n",
       "param_penalty                              l2                           l1   \n",
       "params             {'C': 10, 'penalty': 'l2'}  {'C': 100, 'penalty': 'l1'}   \n",
       "split0_test_score                    0.664533                     0.629108   \n",
       "split1_test_score                    0.659411                     0.624413   \n",
       "split2_test_score                    0.658412                      0.61614   \n",
       "split3_test_score                    0.666097                     0.632365   \n",
       "split4_test_score                    0.662681                     0.634927   \n",
       "mean_test_score                      0.662227                     0.627391   \n",
       "std_test_score                       0.002932                     0.006632   \n",
       "rank_test_score                             2                            8   \n",
       "\n",
       "                                             9  \n",
       "mean_fit_time                         0.140429  \n",
       "std_fit_time                          0.010824  \n",
       "mean_score_time                         0.0006  \n",
       "std_score_time                         0.00049  \n",
       "param_C                                    100  \n",
       "param_penalty                               l2  \n",
       "params             {'C': 100, 'penalty': 'l2'}  \n",
       "split0_test_score                     0.638071  \n",
       "split1_test_score                     0.635937  \n",
       "split2_test_score                     0.627669  \n",
       "split3_test_score                      0.64304  \n",
       "split4_test_score                     0.649872  \n",
       "mean_test_score                       0.638918  \n",
       "std_test_score                        0.007391  \n",
       "rank_test_score                              5  "
      ]
     },
     "execution_count": 59,
     "metadata": {},
     "output_type": "execute_result"
    }
   ],
   "source": [
    "lr_params = {'penalty': ['l1','l2'],'C': [0.001,0.1,1, 10, 100]}\n",
    "\n",
    "logreg=LogisticRegression(max_iter=10000,solver='liblinear')\n",
    "logreg_cv=GridSearchCV(logreg,lr_params, cv=5, verbose=0)\n",
    "best_model = logreg_cv.fit(X_train_tfidf_ngram,y_train)\n",
    "result = best_model.cv_results_\n",
    "pd.DataFrame.from_dict(result).T"
   ]
  },
  {
   "cell_type": "code",
   "execution_count": 60,
   "metadata": {},
   "outputs": [
    {
     "name": "stdout",
     "output_type": "stream",
     "text": [
      " Accuracy Score for train data = 0.7155054644808743\n",
      " Accuracy Score for test data = 0.6956967213114754\n",
      "Classification Report for test data\n",
      "              precision    recall  f1-score   support\n",
      "\n",
      "          -1       0.70      0.96      0.81      1889\n",
      "           0       0.58      0.21      0.30       580\n",
      "           1       0.80      0.22      0.35       459\n",
      "\n",
      "    accuracy                           0.70      2928\n",
      "   macro avg       0.69      0.46      0.49      2928\n",
      "weighted avg       0.69      0.70      0.64      2928\n",
      "\n",
      "Wall time: 206 ms\n"
     ]
    },
    {
     "name": "stderr",
     "output_type": "stream",
     "text": [
      "C:\\Users\\SULAKKHANA\\anaconda3\\lib\\site-packages\\sklearn\\utils\\validation.py:70: FutureWarning: Pass labels=[-1, 0, 1] as keyword args. From version 1.0 (renaming of 0.25) passing these as positional arguments will result in an error\n",
      "  warnings.warn(f\"Pass {args_msg} as keyword args. From version \"\n"
     ]
    },
    {
     "data": {
      "image/png": "[encoded data removed]",
      "text/plain": [
       "<Figure size 432x288 with 2 Axes>"
      ]
     },
     "metadata": {
      "needs_background": "light"
     },
     "output_type": "display_data"
    }
   ],
   "source": [
    "%%time\n",
    "# Logistic Regression on Ngram Level\n",
    "accuracy3 = evaluate_model(LogisticRegression(C=1, penalty='l2',solver='liblinear'),  X_train_tfidf_ngram, y_train,X_test_tfidf_ngram , y_test)"
   ]
  },
  {
   "cell_type": "markdown",
   "metadata": {},
   "source": [
    "#### on Character Level Level TF IDF Vectors"
   ]
  },
  {
   "cell_type": "code",
   "execution_count": 61,
   "metadata": {},
   "outputs": [
    {
     "name": "stdout",
     "output_type": "stream",
     "text": [
      " Accuracy Score for train data = 0.8048155737704918\n",
      " Accuracy Score for test data = 0.7718579234972678\n"
     ]
    }
   ],
   "source": [
    "modelc = LogisticRegression(solver='liblinear')\n",
    "# Fit Model\n",
    "modelc.fit(X_train_tfidf_ngram_chars,y_train)\n",
    "# Score\n",
    "\n",
    "print(f\" Accuracy Score for train data = {modelc.score(X_train_tfidf_ngram_chars, y_train)}\")\n",
    "print(f\" Accuracy Score for test data = {modelc.score(X_test_tfidf_ngram_chars , y_test)}\")"
   ]
  },
  {
   "cell_type": "markdown",
   "metadata": {},
   "source": [
    "##### Hyperparameter tuning on Character Level TF IDF Vectors"
   ]
  },
  {
   "cell_type": "code",
   "execution_count": 62,
   "metadata": {
    "ExecuteTime": {
     "end_time": "2019-06-17T02:34:53.029844Z",
     "start_time": "2019-06-17T02:34:53.018872Z"
    },
    "colab": {},
    "colab_type": "code",
    "id": "ZFK_LWTcLtED"
   },
   "outputs": [
    {
     "data": {
      "text/html": [
       "<div>\n",
       "<style scoped>\n",
       "    .dataframe tbody tr th:only-of-type {\n",
       "        vertical-align: middle;\n",
       "    }\n",
       "\n",
       "    .dataframe tbody tr th {\n",
       "        vertical-align: top;\n",
       "    }\n",
       "\n",
       "    .dataframe thead th {\n",
       "        text-align: right;\n",
       "    }\n",
       "</style>\n",
       "<table border=\"1\" class=\"dataframe\">\n",
       "  <thead>\n",
       "    <tr style=\"text-align: right;\">\n",
       "      <th></th>\n",
       "      <th>0</th>\n",
       "      <th>1</th>\n",
       "      <th>2</th>\n",
       "      <th>3</th>\n",
       "      <th>4</th>\n",
       "      <th>5</th>\n",
       "      <th>6</th>\n",
       "      <th>7</th>\n",
       "      <th>8</th>\n",
       "      <th>9</th>\n",
       "    </tr>\n",
       "  </thead>\n",
       "  <tbody>\n",
       "    <tr>\n",
       "      <th>mean_fit_time</th>\n",
       "      <td>0.074422</td>\n",
       "      <td>0.086666</td>\n",
       "      <td>0.153536</td>\n",
       "      <td>0.218158</td>\n",
       "      <td>0.299303</td>\n",
       "      <td>0.379788</td>\n",
       "      <td>1.066873</td>\n",
       "      <td>0.701467</td>\n",
       "      <td>6.062872</td>\n",
       "      <td>1.377035</td>\n",
       "    </tr>\n",
       "    <tr>\n",
       "      <th>std_fit_time</th>\n",
       "      <td>0.003928</td>\n",
       "      <td>0.000534</td>\n",
       "      <td>0.002682</td>\n",
       "      <td>0.006629</td>\n",
       "      <td>0.018252</td>\n",
       "      <td>0.01136</td>\n",
       "      <td>0.014061</td>\n",
       "      <td>0.022837</td>\n",
       "      <td>0.431507</td>\n",
       "      <td>0.0575</td>\n",
       "    </tr>\n",
       "    <tr>\n",
       "      <th>mean_score_time</th>\n",
       "      <td>0.001194</td>\n",
       "      <td>0.001598</td>\n",
       "      <td>0.001204</td>\n",
       "      <td>0.001397</td>\n",
       "      <td>0.00119</td>\n",
       "      <td>0.0014</td>\n",
       "      <td>0.001401</td>\n",
       "      <td>0.0012</td>\n",
       "      <td>0.001202</td>\n",
       "      <td>0.001001</td>\n",
       "    </tr>\n",
       "    <tr>\n",
       "      <th>std_score_time</th>\n",
       "      <td>0.000393</td>\n",
       "      <td>0.000488</td>\n",
       "      <td>0.000398</td>\n",
       "      <td>0.000485</td>\n",
       "      <td>0.000406</td>\n",
       "      <td>0.000489</td>\n",
       "      <td>0.000489</td>\n",
       "      <td>0.0004</td>\n",
       "      <td>0.000402</td>\n",
       "      <td>0.0</td>\n",
       "    </tr>\n",
       "    <tr>\n",
       "      <th>param_C</th>\n",
       "      <td>0.001</td>\n",
       "      <td>0.001</td>\n",
       "      <td>0.1</td>\n",
       "      <td>0.1</td>\n",
       "      <td>1</td>\n",
       "      <td>1</td>\n",
       "      <td>10</td>\n",
       "      <td>10</td>\n",
       "      <td>100</td>\n",
       "      <td>100</td>\n",
       "    </tr>\n",
       "    <tr>\n",
       "      <th>param_penalty</th>\n",
       "      <td>l1</td>\n",
       "      <td>l2</td>\n",
       "      <td>l1</td>\n",
       "      <td>l2</td>\n",
       "      <td>l1</td>\n",
       "      <td>l2</td>\n",
       "      <td>l1</td>\n",
       "      <td>l2</td>\n",
       "      <td>l1</td>\n",
       "      <td>l2</td>\n",
       "    </tr>\n",
       "    <tr>\n",
       "      <th>params</th>\n",
       "      <td>{'C': 0.001, 'penalty': 'l1'}</td>\n",
       "      <td>{'C': 0.001, 'penalty': 'l2'}</td>\n",
       "      <td>{'C': 0.1, 'penalty': 'l1'}</td>\n",
       "      <td>{'C': 0.1, 'penalty': 'l2'}</td>\n",
       "      <td>{'C': 1, 'penalty': 'l1'}</td>\n",
       "      <td>{'C': 1, 'penalty': 'l2'}</td>\n",
       "      <td>{'C': 10, 'penalty': 'l1'}</td>\n",
       "      <td>{'C': 10, 'penalty': 'l2'}</td>\n",
       "      <td>{'C': 100, 'penalty': 'l1'}</td>\n",
       "      <td>{'C': 100, 'penalty': 'l2'}</td>\n",
       "    </tr>\n",
       "    <tr>\n",
       "      <th>split0_test_score</th>\n",
       "      <td>0.622279</td>\n",
       "      <td>0.622279</td>\n",
       "      <td>0.66624</td>\n",
       "      <td>0.689714</td>\n",
       "      <td>0.749466</td>\n",
       "      <td>0.756295</td>\n",
       "      <td>0.737516</td>\n",
       "      <td>0.761844</td>\n",
       "      <td>0.690568</td>\n",
       "      <td>0.733248</td>\n",
       "    </tr>\n",
       "    <tr>\n",
       "      <th>split1_test_score</th>\n",
       "      <td>0.622279</td>\n",
       "      <td>0.622279</td>\n",
       "      <td>0.672642</td>\n",
       "      <td>0.702091</td>\n",
       "      <td>0.759283</td>\n",
       "      <td>0.758429</td>\n",
       "      <td>0.739223</td>\n",
       "      <td>0.759283</td>\n",
       "      <td>0.685446</td>\n",
       "      <td>0.725992</td>\n",
       "    </tr>\n",
       "    <tr>\n",
       "      <th>split2_test_score</th>\n",
       "      <td>0.622545</td>\n",
       "      <td>0.622545</td>\n",
       "      <td>0.665243</td>\n",
       "      <td>0.69257</td>\n",
       "      <td>0.748079</td>\n",
       "      <td>0.755764</td>\n",
       "      <td>0.745517</td>\n",
       "      <td>0.758326</td>\n",
       "      <td>0.704099</td>\n",
       "      <td>0.734415</td>\n",
       "    </tr>\n",
       "    <tr>\n",
       "      <th>split3_test_score</th>\n",
       "      <td>0.622545</td>\n",
       "      <td>0.622545</td>\n",
       "      <td>0.667805</td>\n",
       "      <td>0.70111</td>\n",
       "      <td>0.752348</td>\n",
       "      <td>0.75491</td>\n",
       "      <td>0.744663</td>\n",
       "      <td>0.757472</td>\n",
       "      <td>0.687447</td>\n",
       "      <td>0.727583</td>\n",
       "    </tr>\n",
       "    <tr>\n",
       "      <th>split4_test_score</th>\n",
       "      <td>0.622118</td>\n",
       "      <td>0.622118</td>\n",
       "      <td>0.657985</td>\n",
       "      <td>0.684885</td>\n",
       "      <td>0.756191</td>\n",
       "      <td>0.760888</td>\n",
       "      <td>0.756191</td>\n",
       "      <td>0.765158</td>\n",
       "      <td>0.692143</td>\n",
       "      <td>0.741247</td>\n",
       "    </tr>\n",
       "    <tr>\n",
       "      <th>mean_test_score</th>\n",
       "      <td>0.622353</td>\n",
       "      <td>0.622353</td>\n",
       "      <td>0.665983</td>\n",
       "      <td>0.694074</td>\n",
       "      <td>0.753074</td>\n",
       "      <td>0.757257</td>\n",
       "      <td>0.744622</td>\n",
       "      <td>0.760417</td>\n",
       "      <td>0.691941</td>\n",
       "      <td>0.732497</td>\n",
       "    </tr>\n",
       "    <tr>\n",
       "      <th>std_test_score</th>\n",
       "      <td>0.000167</td>\n",
       "      <td>0.000167</td>\n",
       "      <td>0.004738</td>\n",
       "      <td>0.006626</td>\n",
       "      <td>0.004166</td>\n",
       "      <td>0.002155</td>\n",
       "      <td>0.006547</td>\n",
       "      <td>0.002787</td>\n",
       "      <td>0.006514</td>\n",
       "      <td>0.005427</td>\n",
       "    </tr>\n",
       "    <tr>\n",
       "      <th>rank_test_score</th>\n",
       "      <td>9</td>\n",
       "      <td>9</td>\n",
       "      <td>8</td>\n",
       "      <td>6</td>\n",
       "      <td>3</td>\n",
       "      <td>2</td>\n",
       "      <td>4</td>\n",
       "      <td>1</td>\n",
       "      <td>7</td>\n",
       "      <td>5</td>\n",
       "    </tr>\n",
       "  </tbody>\n",
       "</table>\n",
       "</div>"
      ],
      "text/plain": [
       "                                               0  \\\n",
       "mean_fit_time                           0.074422   \n",
       "std_fit_time                            0.003928   \n",
       "mean_score_time                         0.001194   \n",
       "std_score_time                          0.000393   \n",
       "param_C                                    0.001   \n",
       "param_penalty                                 l1   \n",
       "params             {'C': 0.001, 'penalty': 'l1'}   \n",
       "split0_test_score                       0.622279   \n",
       "split1_test_score                       0.622279   \n",
       "split2_test_score                       0.622545   \n",
       "split3_test_score                       0.622545   \n",
       "split4_test_score                       0.622118   \n",
       "mean_test_score                         0.622353   \n",
       "std_test_score                          0.000167   \n",
       "rank_test_score                                9   \n",
       "\n",
       "                                               1                            2  \\\n",
       "mean_fit_time                           0.086666                     0.153536   \n",
       "std_fit_time                            0.000534                     0.002682   \n",
       "mean_score_time                         0.001598                     0.001204   \n",
       "std_score_time                          0.000488                     0.000398   \n",
       "param_C                                    0.001                          0.1   \n",
       "param_penalty                                 l2                           l1   \n",
       "params             {'C': 0.001, 'penalty': 'l2'}  {'C': 0.1, 'penalty': 'l1'}   \n",
       "split0_test_score                       0.622279                      0.66624   \n",
       "split1_test_score                       0.622279                     0.672642   \n",
       "split2_test_score                       0.622545                     0.665243   \n",
       "split3_test_score                       0.622545                     0.667805   \n",
       "split4_test_score                       0.622118                     0.657985   \n",
       "mean_test_score                         0.622353                     0.665983   \n",
       "std_test_score                          0.000167                     0.004738   \n",
       "rank_test_score                                9                            8   \n",
       "\n",
       "                                             3                          4  \\\n",
       "mean_fit_time                         0.218158                   0.299303   \n",
       "std_fit_time                          0.006629                   0.018252   \n",
       "mean_score_time                       0.001397                    0.00119   \n",
       "std_score_time                        0.000485                   0.000406   \n",
       "param_C                                    0.1                          1   \n",
       "param_penalty                               l2                         l1   \n",
       "params             {'C': 0.1, 'penalty': 'l2'}  {'C': 1, 'penalty': 'l1'}   \n",
       "split0_test_score                     0.689714                   0.749466   \n",
       "split1_test_score                     0.702091                   0.759283   \n",
       "split2_test_score                      0.69257                   0.748079   \n",
       "split3_test_score                      0.70111                   0.752348   \n",
       "split4_test_score                     0.684885                   0.756191   \n",
       "mean_test_score                       0.694074                   0.753074   \n",
       "std_test_score                        0.006626                   0.004166   \n",
       "rank_test_score                              6                          3   \n",
       "\n",
       "                                           5                           6  \\\n",
       "mean_fit_time                       0.379788                    1.066873   \n",
       "std_fit_time                         0.01136                    0.014061   \n",
       "mean_score_time                       0.0014                    0.001401   \n",
       "std_score_time                      0.000489                    0.000489   \n",
       "param_C                                    1                          10   \n",
       "param_penalty                             l2                          l1   \n",
       "params             {'C': 1, 'penalty': 'l2'}  {'C': 10, 'penalty': 'l1'}   \n",
       "split0_test_score                   0.756295                    0.737516   \n",
       "split1_test_score                   0.758429                    0.739223   \n",
       "split2_test_score                   0.755764                    0.745517   \n",
       "split3_test_score                    0.75491                    0.744663   \n",
       "split4_test_score                   0.760888                    0.756191   \n",
       "mean_test_score                     0.757257                    0.744622   \n",
       "std_test_score                      0.002155                    0.006547   \n",
       "rank_test_score                            2                           4   \n",
       "\n",
       "                                            7                            8  \\\n",
       "mean_fit_time                        0.701467                     6.062872   \n",
       "std_fit_time                         0.022837                     0.431507   \n",
       "mean_score_time                        0.0012                     0.001202   \n",
       "std_score_time                         0.0004                     0.000402   \n",
       "param_C                                    10                          100   \n",
       "param_penalty                              l2                           l1   \n",
       "params             {'C': 10, 'penalty': 'l2'}  {'C': 100, 'penalty': 'l1'}   \n",
       "split0_test_score                    0.761844                     0.690568   \n",
       "split1_test_score                    0.759283                     0.685446   \n",
       "split2_test_score                    0.758326                     0.704099   \n",
       "split3_test_score                    0.757472                     0.687447   \n",
       "split4_test_score                    0.765158                     0.692143   \n",
       "mean_test_score                      0.760417                     0.691941   \n",
       "std_test_score                       0.002787                     0.006514   \n",
       "rank_test_score                             1                            7   \n",
       "\n",
       "                                             9  \n",
       "mean_fit_time                         1.377035  \n",
       "std_fit_time                            0.0575  \n",
       "mean_score_time                       0.001001  \n",
       "std_score_time                             0.0  \n",
       "param_C                                    100  \n",
       "param_penalty                               l2  \n",
       "params             {'C': 100, 'penalty': 'l2'}  \n",
       "split0_test_score                     0.733248  \n",
       "split1_test_score                     0.725992  \n",
       "split2_test_score                     0.734415  \n",
       "split3_test_score                     0.727583  \n",
       "split4_test_score                     0.741247  \n",
       "mean_test_score                       0.732497  \n",
       "std_test_score                        0.005427  \n",
       "rank_test_score                              5  "
      ]
     },
     "execution_count": 62,
     "metadata": {},
     "output_type": "execute_result"
    }
   ],
   "source": [
    "lr_params = {'penalty': ['l1','l2'],'C': [0.001,0.1,1, 10, 100]}\n",
    "\n",
    "logreg=LogisticRegression(max_iter=10000,solver='liblinear')\n",
    "logreg_cv=GridSearchCV(logreg,lr_params, cv=5, verbose=0)\n",
    "best_model = logreg_cv.fit(X_train_tfidf_ngram_chars,y_train)\n",
    "result = best_model.cv_results_\n",
    "pd.DataFrame.from_dict(result).T"
   ]
  },
  {
   "cell_type": "code",
   "execution_count": 63,
   "metadata": {},
   "outputs": [
    {
     "name": "stdout",
     "output_type": "stream",
     "text": [
      " Accuracy Score for train data = 0.8789275956284153\n",
      " Accuracy Score for test data = 0.7844945355191257\n",
      "Classification Report for test data\n",
      "              precision    recall  f1-score   support\n",
      "\n",
      "          -1       0.83      0.91      0.87      1889\n",
      "           0       0.59      0.49      0.54       580\n",
      "           1       0.76      0.66      0.71       459\n",
      "\n",
      "    accuracy                           0.78      2928\n",
      "   macro avg       0.73      0.68      0.70      2928\n",
      "weighted avg       0.77      0.78      0.78      2928\n",
      "\n",
      "Wall time: 1.17 s\n"
     ]
    },
    {
     "name": "stderr",
     "output_type": "stream",
     "text": [
      "C:\\Users\\SULAKKHANA\\anaconda3\\lib\\site-packages\\sklearn\\utils\\validation.py:70: FutureWarning: Pass labels=[-1, 0, 1] as keyword args. From version 1.0 (renaming of 0.25) passing these as positional arguments will result in an error\n",
      "  warnings.warn(f\"Pass {args_msg} as keyword args. From version \"\n"
     ]
    },
    {
     "data": {
      "image/png": "[encoded data removed]",
      "text/plain": [
       "<Figure size 432x288 with 2 Axes>"
      ]
     },
     "metadata": {
      "needs_background": "light"
     },
     "output_type": "display_data"
    }
   ],
   "source": [
    "%%time\n",
    "# Logistic Regression on Character Level \n",
    "accuracy4 = evaluate_model(LogisticRegression(C=10, penalty='l2',solver='liblinear'),  X_train_tfidf_ngram_chars, y_train,X_test_tfidf_ngram_chars  , y_test)"
   ]
  },
  {
   "cell_type": "code",
   "execution_count": 64,
   "metadata": {},
   "outputs": [],
   "source": [
    "results.loc['Logistic Regression'] = {\n",
    "    'Count Vectors': accuracy1,\n",
    "    'WordLevel TF-IDF': accuracy2,\n",
    "    'N-Gram Vectors': accuracy3,\n",
    "    'CharLevel Vectors': accuracy4}"
   ]
  },
  {
   "cell_type": "code",
   "execution_count": 65,
   "metadata": {},
   "outputs": [
    {
     "data": {
      "text/html": [
       "<div>\n",
       "<style scoped>\n",
       "    .dataframe tbody tr th:only-of-type {\n",
       "        vertical-align: middle;\n",
       "    }\n",
       "\n",
       "    .dataframe tbody tr th {\n",
       "        vertical-align: top;\n",
       "    }\n",
       "\n",
       "    .dataframe thead th {\n",
       "        text-align: right;\n",
       "    }\n",
       "</style>\n",
       "<table border=\"1\" class=\"dataframe\">\n",
       "  <thead>\n",
       "    <tr style=\"text-align: right;\">\n",
       "      <th></th>\n",
       "      <th>Count Vectors</th>\n",
       "      <th>WordLevel TF-IDF</th>\n",
       "      <th>N-Gram Vectors</th>\n",
       "      <th>CharLevel Vectors</th>\n",
       "    </tr>\n",
       "  </thead>\n",
       "  <tbody>\n",
       "    <tr>\n",
       "      <th>Naïve Bayes</th>\n",
       "      <td>0.769809</td>\n",
       "      <td>0.769809</td>\n",
       "      <td>0.702186</td>\n",
       "      <td>0.751708</td>\n",
       "    </tr>\n",
       "    <tr>\n",
       "      <th>Logistic Regression</th>\n",
       "      <td>0.797131</td>\n",
       "      <td>0.793033</td>\n",
       "      <td>0.695697</td>\n",
       "      <td>0.784495</td>\n",
       "    </tr>\n",
       "  </tbody>\n",
       "</table>\n",
       "</div>"
      ],
      "text/plain": [
       "                     Count Vectors  WordLevel TF-IDF  N-Gram Vectors  \\\n",
       "Naïve Bayes               0.769809          0.769809        0.702186   \n",
       "Logistic Regression       0.797131          0.793033        0.695697   \n",
       "\n",
       "                     CharLevel Vectors  \n",
       "Naïve Bayes                   0.751708  \n",
       "Logistic Regression           0.784495  "
      ]
     },
     "execution_count": 65,
     "metadata": {},
     "output_type": "execute_result"
    }
   ],
   "source": [
    "results"
   ]
  },
  {
   "cell_type": "markdown",
   "metadata": {
    "colab_type": "text",
    "id": "q1wYto68LtEE"
   },
   "source": [
    "### Support Vector Machine"
   ]
  },
  {
   "cell_type": "code",
   "execution_count": 66,
   "metadata": {
    "ExecuteTime": {
     "end_time": "2019-06-17T02:34:54.237613Z",
     "start_time": "2019-06-17T02:34:53.406835Z"
    },
    "colab": {},
    "colab_type": "code",
    "id": "yYGz8he5LtEE",
    "outputId": "546b1ea8-27c9-45bb-fd91-da08244d6796"
   },
   "outputs": [
    {
     "name": "stdout",
     "output_type": "stream",
     "text": [
      " Accuracy Score for train data = 0.9509050546448088\n",
      " Accuracy Score for test data = 0.7786885245901639\n",
      "Classification Report for test data\n",
      "              precision    recall  f1-score   support\n",
      "\n",
      "          -1       0.86      0.87      0.86      1889\n",
      "           0       0.56      0.55      0.55       580\n",
      "           1       0.72      0.71      0.72       459\n",
      "\n",
      "    accuracy                           0.78      2928\n",
      "   macro avg       0.71      0.71      0.71      2928\n",
      "weighted avg       0.78      0.78      0.78      2928\n",
      "\n",
      "Wall time: 465 ms\n"
     ]
    },
    {
     "name": "stderr",
     "output_type": "stream",
     "text": [
      "C:\\Users\\SULAKKHANA\\anaconda3\\lib\\site-packages\\sklearn\\utils\\validation.py:70: FutureWarning: Pass labels=[-1, 0, 1] as keyword args. From version 1.0 (renaming of 0.25) passing these as positional arguments will result in an error\n",
      "  warnings.warn(f\"Pass {args_msg} as keyword args. From version \"\n"
     ]
    },
    {
     "data": {
      "image/png": "[encoded data removed]",
      "text/plain": [
       "<Figure size 432x288 with 2 Axes>"
      ]
     },
     "metadata": {
      "needs_background": "light"
     },
     "output_type": "display_data"
    }
   ],
   "source": [
    "%%time\n",
    "# Support Vector Machine on Count Vectors\n",
    "\n",
    "accuracy1 = evaluate_model(LinearSVC(),  X_train_count, y_train,X_test_count , y_test)"
   ]
  },
  {
   "cell_type": "code",
   "execution_count": 67,
   "metadata": {
    "ExecuteTime": {
     "end_time": "2019-06-17T02:34:54.743263Z",
     "start_time": "2019-06-17T02:34:54.606629Z"
    },
    "colab": {},
    "colab_type": "code",
    "id": "wMt26K0cLtEG",
    "outputId": "406cf62d-c09d-4f9b-c298-eabce0b69238"
   },
   "outputs": [
    {
     "name": "stdout",
     "output_type": "stream",
     "text": [
      " Accuracy Score for train data = 0.9079576502732241\n",
      " Accuracy Score for test data = 0.7896174863387978\n",
      "Classification Report for test data\n",
      "              precision    recall  f1-score   support\n",
      "\n",
      "          -1       0.84      0.90      0.87      1889\n",
      "           0       0.60      0.53      0.56       580\n",
      "           1       0.75      0.66      0.71       459\n",
      "\n",
      "    accuracy                           0.79      2928\n",
      "   macro avg       0.73      0.70      0.71      2928\n",
      "weighted avg       0.78      0.79      0.78      2928\n",
      "\n",
      "Wall time: 219 ms\n"
     ]
    },
    {
     "name": "stderr",
     "output_type": "stream",
     "text": [
      "C:\\Users\\SULAKKHANA\\anaconda3\\lib\\site-packages\\sklearn\\utils\\validation.py:70: FutureWarning: Pass labels=[-1, 0, 1] as keyword args. From version 1.0 (renaming of 0.25) passing these as positional arguments will result in an error\n",
      "  warnings.warn(f\"Pass {args_msg} as keyword args. From version \"\n"
     ]
    },
    {
     "data": {
      "image/png": "[encoded data removed]",
      "text/plain": [
       "<Figure size 432x288 with 2 Axes>"
      ]
     },
     "metadata": {
      "needs_background": "light"
     },
     "output_type": "display_data"
    }
   ],
   "source": [
    "%%time\n",
    "# Support Vector Machine on Word Level TF IDF Vectors\n",
    "accuracy2 = evaluate_model(LinearSVC(), X_train_tfidf, y_train, X_test_tfidf,y_test)\n"
   ]
  },
  {
   "cell_type": "code",
   "execution_count": 68,
   "metadata": {
    "ExecuteTime": {
     "end_time": "2019-06-17T02:34:55.220003Z",
     "start_time": "2019-06-17T02:34:55.119256Z"
    },
    "colab": {},
    "colab_type": "code",
    "id": "eFt6Y1VvLtEI",
    "outputId": "628299db-8bca-4698-c64e-5b291bd248e1"
   },
   "outputs": [
    {
     "name": "stdout",
     "output_type": "stream",
     "text": [
      " Accuracy Score for train data = 0.7943135245901639\n",
      " Accuracy Score for test data = 0.6898907103825137\n",
      "Classification Report for test data\n",
      "              precision    recall  f1-score   support\n",
      "\n",
      "          -1       0.73      0.88      0.80      1889\n",
      "           0       0.48      0.32      0.38       580\n",
      "           1       0.62      0.36      0.46       459\n",
      "\n",
      "    accuracy                           0.69      2928\n",
      "   macro avg       0.61      0.52      0.55      2928\n",
      "weighted avg       0.67      0.69      0.66      2928\n",
      "\n",
      "Wall time: 215 ms\n"
     ]
    },
    {
     "name": "stderr",
     "output_type": "stream",
     "text": [
      "C:\\Users\\SULAKKHANA\\anaconda3\\lib\\site-packages\\sklearn\\utils\\validation.py:70: FutureWarning: Pass labels=[-1, 0, 1] as keyword args. From version 1.0 (renaming of 0.25) passing these as positional arguments will result in an error\n",
      "  warnings.warn(f\"Pass {args_msg} as keyword args. From version \"\n"
     ]
    },
    {
     "data": {
      "image/png": "[encoded data removed]",
      "text/plain": [
       "<Figure size 432x288 with 2 Axes>"
      ]
     },
     "metadata": {
      "needs_background": "light"
     },
     "output_type": "display_data"
    }
   ],
   "source": [
    "%%time\n",
    "# Support Vector Machine on Ngram Level TF IDF Vectors\n",
    "accuracy3 = evaluate_model(LinearSVC(), X_train_tfidf_ngram, y_train, X_test_tfidf_ngram,y_test)\n"
   ]
  },
  {
   "cell_type": "code",
   "execution_count": 69,
   "metadata": {
    "ExecuteTime": {
     "end_time": "2019-06-17T02:34:56.139528Z",
     "start_time": "2019-06-17T02:34:55.585010Z"
    },
    "colab": {},
    "colab_type": "code",
    "id": "iqhsS579LtEL",
    "outputId": "7cc3d723-9858-43a8-dcdf-37fcbef9456e"
   },
   "outputs": [
    {
     "name": "stdout",
     "output_type": "stream",
     "text": [
      " Accuracy Score for train data = 0.8816598360655737\n",
      " Accuracy Score for test data = 0.7786885245901639\n",
      "Classification Report for test data\n",
      "              precision    recall  f1-score   support\n",
      "\n",
      "          -1       0.83      0.90      0.86      1889\n",
      "           0       0.58      0.48      0.52       580\n",
      "           1       0.74      0.67      0.70       459\n",
      "\n",
      "    accuracy                           0.78      2928\n",
      "   macro avg       0.72      0.68      0.70      2928\n",
      "weighted avg       0.77      0.78      0.77      2928\n",
      "\n",
      "Wall time: 577 ms\n"
     ]
    },
    {
     "name": "stderr",
     "output_type": "stream",
     "text": [
      "C:\\Users\\SULAKKHANA\\anaconda3\\lib\\site-packages\\sklearn\\utils\\validation.py:70: FutureWarning: Pass labels=[-1, 0, 1] as keyword args. From version 1.0 (renaming of 0.25) passing these as positional arguments will result in an error\n",
      "  warnings.warn(f\"Pass {args_msg} as keyword args. From version \"\n"
     ]
    },
    {
     "data": {
      "image/png": "[encoded data removed]",
      "text/plain": [
       "<Figure size 432x288 with 2 Axes>"
      ]
     },
     "metadata": {
      "needs_background": "light"
     },
     "output_type": "display_data"
    }
   ],
   "source": [
    "%%time\n",
    "# Support Vector Machine on Character Level TF IDF Vectors\n",
    "accuracy4 = evaluate_model(LinearSVC(), X_train_tfidf_ngram_chars, y_train, X_test_tfidf_ngram_chars,y_test)\n"
   ]
  },
  {
   "cell_type": "code",
   "execution_count": 70,
   "metadata": {
    "ExecuteTime": {
     "end_time": "2019-06-17T02:34:56.501558Z",
     "start_time": "2019-06-17T02:34:56.492592Z"
    },
    "colab": {},
    "colab_type": "code",
    "id": "go0bcKeILtEN"
   },
   "outputs": [],
   "source": [
    "results.loc['Support Vector Machine'] = {\n",
    "    'Count Vectors': accuracy1,\n",
    "    'WordLevel TF-IDF': accuracy2,\n",
    "    'N-Gram Vectors': accuracy3,\n",
    "    'CharLevel Vectors': accuracy4}"
   ]
  },
  {
   "cell_type": "code",
   "execution_count": 71,
   "metadata": {},
   "outputs": [
    {
     "data": {
      "text/html": [
       "<div>\n",
       "<style scoped>\n",
       "    .dataframe tbody tr th:only-of-type {\n",
       "        vertical-align: middle;\n",
       "    }\n",
       "\n",
       "    .dataframe tbody tr th {\n",
       "        vertical-align: top;\n",
       "    }\n",
       "\n",
       "    .dataframe thead th {\n",
       "        text-align: right;\n",
       "    }\n",
       "</style>\n",
       "<table border=\"1\" class=\"dataframe\">\n",
       "  <thead>\n",
       "    <tr style=\"text-align: right;\">\n",
       "      <th></th>\n",
       "      <th>Count Vectors</th>\n",
       "      <th>WordLevel TF-IDF</th>\n",
       "      <th>N-Gram Vectors</th>\n",
       "      <th>CharLevel Vectors</th>\n",
       "    </tr>\n",
       "  </thead>\n",
       "  <tbody>\n",
       "    <tr>\n",
       "      <th>Naïve Bayes</th>\n",
       "      <td>0.769809</td>\n",
       "      <td>0.769809</td>\n",
       "      <td>0.702186</td>\n",
       "      <td>0.751708</td>\n",
       "    </tr>\n",
       "    <tr>\n",
       "      <th>Logistic Regression</th>\n",
       "      <td>0.797131</td>\n",
       "      <td>0.793033</td>\n",
       "      <td>0.695697</td>\n",
       "      <td>0.784495</td>\n",
       "    </tr>\n",
       "    <tr>\n",
       "      <th>Support Vector Machine</th>\n",
       "      <td>0.778689</td>\n",
       "      <td>0.789617</td>\n",
       "      <td>0.689891</td>\n",
       "      <td>0.778689</td>\n",
       "    </tr>\n",
       "  </tbody>\n",
       "</table>\n",
       "</div>"
      ],
      "text/plain": [
       "                        Count Vectors  WordLevel TF-IDF  N-Gram Vectors  \\\n",
       "Naïve Bayes                  0.769809          0.769809        0.702186   \n",
       "Logistic Regression          0.797131          0.793033        0.695697   \n",
       "Support Vector Machine       0.778689          0.789617        0.689891   \n",
       "\n",
       "                        CharLevel Vectors  \n",
       "Naïve Bayes                      0.751708  \n",
       "Logistic Regression              0.784495  \n",
       "Support Vector Machine           0.778689  "
      ]
     },
     "execution_count": 71,
     "metadata": {},
     "output_type": "execute_result"
    }
   ],
   "source": [
    "results"
   ]
  },
  {
   "cell_type": "markdown",
   "metadata": {
    "colab_type": "text",
    "id": "gLGxWK0yLtEO"
   },
   "source": [
    "### Bagging Models"
   ]
  },
  {
   "cell_type": "markdown",
   "metadata": {},
   "source": [
    "#### Count Vectors"
   ]
  },
  {
   "cell_type": "code",
   "execution_count": 72,
   "metadata": {},
   "outputs": [
    {
     "name": "stdout",
     "output_type": "stream",
     "text": [
      " Accuracy Score for train data = 0.9930840163934426\n",
      " Accuracy Score for test data = 0.7609289617486339\n",
      "Wall time: 21 s\n"
     ]
    }
   ],
   "source": [
    "%%time\n",
    "# Bagging (Random Forest) on Count Vectors\n",
    "modelrf = RandomForestClassifier(n_estimators = 100)\n",
    "modelrf.fit( X_train_count,y_train)\n",
    "\n",
    "print(f\" Accuracy Score for train data = {modelrf.score( X_train_count , y_train)}\")\n",
    "print(f\" Accuracy Score for test data = {modelrf.score(X_test_count, y_test)}\")"
   ]
  },
  {
   "cell_type": "markdown",
   "metadata": {},
   "source": [
    "##### Hyperparameter tuning on Count Vectors"
   ]
  },
  {
   "cell_type": "code",
   "execution_count": 73,
   "metadata": {},
   "outputs": [
    {
     "name": "stdout",
     "output_type": "stream",
     "text": [
      "Fitting 5 folds for each of 10 candidates, totalling 50 fits\n"
     ]
    },
    {
     "data": {
      "text/plain": [
       "{'n_estimators': 200,\n",
       " 'min_samples_split': 3,\n",
       " 'min_samples_leaf': 1,\n",
       " 'max_depth': 100}"
      ]
     },
     "execution_count": 73,
     "metadata": {},
     "output_type": "execute_result"
    }
   ],
   "source": [
    "param_grid = {\n",
    "    'max_depth': [60,80,100,110],\n",
    "    'min_samples_leaf': [1,3, 4],\n",
    "    'min_samples_split': [2,3,8],\n",
    "    'n_estimators': [10,50, 100,150,200]\n",
    "}\n",
    "# Create a based model\n",
    "rf = RandomForestClassifier()\n",
    "# Instantiate the grid search model\n",
    "grid_search = RandomizedSearchCV(estimator = rf, param_distributions = param_grid, \n",
    "                          cv = 5, n_jobs = -1, verbose = 2)\n",
    "best_model = grid_search.fit(X_train_count,y_train)\n",
    "grid_search.best_params_"
   ]
  },
  {
   "cell_type": "code",
   "execution_count": 74,
   "metadata": {},
   "outputs": [
    {
     "name": "stdout",
     "output_type": "stream",
     "text": [
      " Accuracy Score for train data = 0.9930840163934426\n",
      " Accuracy Score for test data = 0.7691256830601093\n"
     ]
    },
    {
     "name": "stderr",
     "output_type": "stream",
     "text": [
      "C:\\Users\\SULAKKHANA\\anaconda3\\lib\\site-packages\\sklearn\\utils\\validation.py:70: FutureWarning: Pass labels=[-1, 0, 1] as keyword args. From version 1.0 (renaming of 0.25) passing these as positional arguments will result in an error\n",
      "  warnings.warn(f\"Pass {args_msg} as keyword args. From version \"\n"
     ]
    },
    {
     "name": "stdout",
     "output_type": "stream",
     "text": [
      "Classification Report for test data\n",
      "              precision    recall  f1-score   support\n",
      "\n",
      "          -1       0.83      0.89      0.86      1889\n",
      "           0       0.57      0.51      0.54       580\n",
      "           1       0.73      0.62      0.67       459\n",
      "\n",
      "    accuracy                           0.77      2928\n",
      "   macro avg       0.71      0.67      0.69      2928\n",
      "weighted avg       0.76      0.77      0.76      2928\n",
      "\n",
      "Wall time: 21.7 s\n"
     ]
    },
    {
     "data": {
      "image/png": "[encoded data removed]",
      "text/plain": [
       "<Figure size 432x288 with 2 Axes>"
      ]
     },
     "metadata": {
      "needs_background": "light"
     },
     "output_type": "display_data"
    }
   ],
   "source": [
    "%%time\n",
    "# Bagging (Random Forest) on Count Vectors\n",
    "accuracy1 = evaluate_model(RandomForestClassifier( min_samples_leaf=1,min_samples_split=2, n_estimators=100, random_state = 42), X_train_count, y_train, X_test_count,y_test)"
   ]
  },
  {
   "cell_type": "markdown",
   "metadata": {},
   "source": [
    "#### On Word Level TF IDF Vectors"
   ]
  },
  {
   "cell_type": "code",
   "execution_count": 75,
   "metadata": {},
   "outputs": [
    {
     "name": "stdout",
     "output_type": "stream",
     "text": [
      " Accuracy Score for train data = 0.991547131147541\n",
      " Accuracy Score for test data = 0.764344262295082\n",
      "Wall time: 10.6 s\n"
     ]
    }
   ],
   "source": [
    "%%time\n",
    "# Bagging (Random Forest) on Word Level TF IDF Vectors\n",
    "modelrwf = RandomForestClassifier(n_estimators = 100)\n",
    "modelrwf.fit( X_train_tfidf,y_train)\n",
    "\n",
    "print(f\" Accuracy Score for train data = {modelrwf.score( X_train_tfidf , y_train)}\")\n",
    "print(f\" Accuracy Score for test data = {modelrwf.score(X_test_tfidf, y_test)}\")"
   ]
  },
  {
   "cell_type": "markdown",
   "metadata": {},
   "source": [
    "##### Hyperparameter tuning On Word Level TF IDF Vectors"
   ]
  },
  {
   "cell_type": "code",
   "execution_count": 76,
   "metadata": {},
   "outputs": [
    {
     "name": "stdout",
     "output_type": "stream",
     "text": [
      "Fitting 5 folds for each of 10 candidates, totalling 50 fits\n"
     ]
    },
    {
     "data": {
      "text/plain": [
       "{'n_estimators': 150,\n",
       " 'min_samples_split': 3,\n",
       " 'min_samples_leaf': 1,\n",
       " 'max_depth': 80}"
      ]
     },
     "execution_count": 76,
     "metadata": {},
     "output_type": "execute_result"
    }
   ],
   "source": [
    "param_grid = {\n",
    "    'max_depth': [70,80,100],\n",
    "    'min_samples_leaf': [1,3, 4],\n",
    "    'min_samples_split': [2,3,8],\n",
    "    'n_estimators': [10,50, 100,150,200]\n",
    "}\n",
    "# Create a based model\n",
    "rf = RandomForestClassifier()\n",
    "# Instantiate the grid search model\n",
    "grid_search = RandomizedSearchCV(estimator = rf, param_distributions = param_grid, \n",
    "                          cv = 5, n_jobs = -1, verbose = 2)\n",
    "best_model = grid_search.fit(X_train_tfidf,y_train)\n",
    "grid_search.best_params_"
   ]
  },
  {
   "cell_type": "code",
   "execution_count": 77,
   "metadata": {},
   "outputs": [
    {
     "name": "stdout",
     "output_type": "stream",
     "text": [
      " Accuracy Score for train data = 0.9913763661202186\n",
      " Accuracy Score for test data = 0.7663934426229508\n",
      "Classification Report for test data\n",
      "              precision    recall  f1-score   support\n",
      "\n",
      "          -1       0.80      0.92      0.86      1889\n",
      "           0       0.60      0.45      0.51       580\n",
      "           1       0.75      0.56      0.64       459\n",
      "\n",
      "    accuracy                           0.77      2928\n",
      "   macro avg       0.72      0.64      0.67      2928\n",
      "weighted avg       0.75      0.77      0.75      2928\n",
      "\n"
     ]
    },
    {
     "name": "stderr",
     "output_type": "stream",
     "text": [
      "C:\\Users\\SULAKKHANA\\anaconda3\\lib\\site-packages\\sklearn\\utils\\validation.py:70: FutureWarning: Pass labels=[-1, 0, 1] as keyword args. From version 1.0 (renaming of 0.25) passing these as positional arguments will result in an error\n",
      "  warnings.warn(f\"Pass {args_msg} as keyword args. From version \"\n"
     ]
    },
    {
     "name": "stdout",
     "output_type": "stream",
     "text": [
      "Wall time: 20.1 s\n"
     ]
    },
    {
     "data": {
      "image/png": "[encoded data removed]",
      "text/plain": [
       "<Figure size 432x288 with 2 Axes>"
      ]
     },
     "metadata": {
      "needs_background": "light"
     },
     "output_type": "display_data"
    }
   ],
   "source": [
    "%%time\n",
    "# Bagging (Random Forest) on Word Level TF IDF Vectors\n",
    "accuracy2 = evaluate_model(RandomForestClassifier( min_samples_leaf=1,min_samples_split=3, n_estimators=200), X_train_tfidf, y_train, X_test_tfidf,y_test)"
   ]
  },
  {
   "cell_type": "markdown",
   "metadata": {},
   "source": [
    "#### Bagging (Random Forest) on Ngram Level TF IDF Vectors"
   ]
  },
  {
   "cell_type": "code",
   "execution_count": 78,
   "metadata": {},
   "outputs": [
    {
     "name": "stdout",
     "output_type": "stream",
     "text": [
      " Accuracy Score for train data = 0.8388831967213115\n",
      " Accuracy Score for test data = 0.6823770491803278\n",
      "Wall time: 13.5 s\n"
     ]
    }
   ],
   "source": [
    "%%time\n",
    "# Bagging (Random Forest) on Ngram Level TF IDF Vectors\n",
    "modelrnf = RandomForestClassifier(n_estimators = 100)\n",
    "modelrnf.fit( X_train_tfidf_ngram,y_train)\n",
    "\n",
    "print(f\" Accuracy Score for train data = {modelrnf.score( X_train_tfidf_ngram, y_train)}\")\n",
    "print(f\" Accuracy Score for test data = {modelrnf.score(X_test_tfidf_ngram, y_test)}\")"
   ]
  },
  {
   "cell_type": "markdown",
   "metadata": {},
   "source": [
    "##### Hyperparameter tuning on Ngram Level TF IDF Vectors"
   ]
  },
  {
   "cell_type": "code",
   "execution_count": 79,
   "metadata": {},
   "outputs": [
    {
     "name": "stdout",
     "output_type": "stream",
     "text": [
      "Fitting 5 folds for each of 10 candidates, totalling 50 fits\n"
     ]
    },
    {
     "data": {
      "text/plain": [
       "{'n_estimators': 200,\n",
       " 'min_samples_split': 8,\n",
       " 'min_samples_leaf': 1,\n",
       " 'max_depth': 110}"
      ]
     },
     "execution_count": 79,
     "metadata": {},
     "output_type": "execute_result"
    }
   ],
   "source": [
    "param_grid = {\n",
    "    'max_depth': [80,100,110],\n",
    "    'min_samples_leaf': [1,3, 4],\n",
    "    'min_samples_split': [2,3,8],\n",
    "    'n_estimators': [100,150,200]\n",
    "}\n",
    "# Create a based model\n",
    "rf = RandomForestClassifier()\n",
    "# Instantiate the grid search model\n",
    "grid_search = RandomizedSearchCV(estimator = rf, param_distributions = param_grid, \n",
    "                          cv = 5, n_jobs = -1, verbose = 2)\n",
    "best_model = grid_search.fit(X_train_tfidf_ngram,y_train)\n",
    "grid_search.best_params_"
   ]
  },
  {
   "cell_type": "code",
   "execution_count": 80,
   "metadata": {},
   "outputs": [
    {
     "name": "stdout",
     "output_type": "stream",
     "text": [
      " Accuracy Score for train data = 0.8312841530054644\n",
      " Accuracy Score for test data = 0.6861338797814208\n",
      "Classification Report for test data\n",
      "              precision    recall  f1-score   support\n",
      "\n",
      "          -1       0.73      0.89      0.80      1889\n",
      "           0       0.48      0.31      0.37       580\n",
      "           1       0.62      0.34      0.44       459\n",
      "\n",
      "    accuracy                           0.69      2928\n",
      "   macro avg       0.61      0.51      0.54      2928\n",
      "weighted avg       0.66      0.69      0.66      2928\n",
      "\n"
     ]
    },
    {
     "name": "stderr",
     "output_type": "stream",
     "text": [
      "C:\\Users\\SULAKKHANA\\anaconda3\\lib\\site-packages\\sklearn\\utils\\validation.py:70: FutureWarning: Pass labels=[-1, 0, 1] as keyword args. From version 1.0 (renaming of 0.25) passing these as positional arguments will result in an error\n",
      "  warnings.warn(f\"Pass {args_msg} as keyword args. From version \"\n"
     ]
    },
    {
     "name": "stdout",
     "output_type": "stream",
     "text": [
      "Wall time: 11.5 s\n"
     ]
    },
    {
     "data": {
      "image/png": "[encoded data removed]",
      "text/plain": [
       "<Figure size 432x288 with 2 Axes>"
      ]
     },
     "metadata": {
      "needs_background": "light"
     },
     "output_type": "display_data"
    }
   ],
   "source": [
    "%%time\n",
    "# Bagging (Random Forest) on Ngram Level TF IDF Vectors\n",
    "accuracy3 = evaluate_model(RandomForestClassifier( min_samples_leaf=1,min_samples_split=8, n_estimators=100), X_train_tfidf_ngram, y_train, X_test_tfidf_ngram,y_test)"
   ]
  },
  {
   "cell_type": "markdown",
   "metadata": {},
   "source": [
    "#### Bagging (Random Forest) on  on Character Level TF IDF Vectors"
   ]
  },
  {
   "cell_type": "code",
   "execution_count": 81,
   "metadata": {},
   "outputs": [
    {
     "name": "stdout",
     "output_type": "stream",
     "text": [
      " Accuracy Score for train data = 0.9940232240437158\n",
      " Accuracy Score for test data = 0.7407786885245902\n",
      "Wall time: 16.9 s\n"
     ]
    }
   ],
   "source": [
    "%%time\n",
    "# Bagging (Random Forest) on Character Level TF IDF Vectors\n",
    "modelrf = RandomForestClassifier(n_estimators = 100)\n",
    "modelrf.fit( X_train_tfidf_ngram_chars,y_train)\n",
    "\n",
    "print(f\" Accuracy Score for train data = {modelrf.score( X_train_tfidf_ngram_chars , y_train)}\")\n",
    "print(f\" Accuracy Score for test data = {modelrf.score(X_test_tfidf_ngram_chars, y_test)}\")"
   ]
  },
  {
   "cell_type": "markdown",
   "metadata": {},
   "source": [
    "#### Hyperparameter tuning on  on Character Level TF IDF Vectors"
   ]
  },
  {
   "cell_type": "code",
   "execution_count": 82,
   "metadata": {},
   "outputs": [
    {
     "name": "stdout",
     "output_type": "stream",
     "text": [
      "Fitting 5 folds for each of 10 candidates, totalling 50 fits\n"
     ]
    },
    {
     "data": {
      "text/plain": [
       "{'n_estimators': 200,\n",
       " 'min_samples_split': 3,\n",
       " 'min_samples_leaf': 1,\n",
       " 'max_depth': 140}"
      ]
     },
     "execution_count": 82,
     "metadata": {},
     "output_type": "execute_result"
    }
   ],
   "source": [
    "param_grid = {\n",
    "    'max_depth': [110,120,140,150],\n",
    "    'min_samples_leaf': [1,3, 4],\n",
    "    'min_samples_split': [2,3,8],\n",
    "    'n_estimators': [100,150,200,250,300]\n",
    "}\n",
    "# Create a based model\n",
    "rf = RandomForestClassifier()\n",
    "# Instantiate the grid search model\n",
    "grid_search = RandomizedSearchCV(estimator = rf, param_distributions = param_grid, \n",
    "                          cv = 5, n_jobs = -1, verbose = 2)\n",
    "best_model = grid_search.fit(X_train_tfidf_ngram_chars ,y_train)\n",
    "grid_search.best_params_"
   ]
  },
  {
   "cell_type": "code",
   "execution_count": 83,
   "metadata": {},
   "outputs": [
    {
     "name": "stdout",
     "output_type": "stream",
     "text": [
      " Accuracy Score for train data = 0.9940232240437158\n",
      " Accuracy Score for test data = 0.7431693989071039\n",
      "Classification Report for test data\n",
      "              precision    recall  f1-score   support\n",
      "\n",
      "          -1       0.75      0.95      0.84      1889\n",
      "           0       0.63      0.28      0.39       580\n",
      "           1       0.76      0.47      0.58       459\n",
      "\n",
      "    accuracy                           0.74      2928\n",
      "   macro avg       0.72      0.57      0.61      2928\n",
      "weighted avg       0.73      0.74      0.71      2928\n",
      "\n"
     ]
    },
    {
     "name": "stderr",
     "output_type": "stream",
     "text": [
      "C:\\Users\\SULAKKHANA\\anaconda3\\lib\\site-packages\\sklearn\\utils\\validation.py:70: FutureWarning: Pass labels=[-1, 0, 1] as keyword args. From version 1.0 (renaming of 0.25) passing these as positional arguments will result in an error\n",
      "  warnings.warn(f\"Pass {args_msg} as keyword args. From version \"\n"
     ]
    },
    {
     "name": "stdout",
     "output_type": "stream",
     "text": [
      "Wall time: 31.6 s\n"
     ]
    },
    {
     "data": {
      "image/png": "[encoded data removed]",
      "text/plain": [
       "<Figure size 432x288 with 2 Axes>"
      ]
     },
     "metadata": {
      "needs_background": "light"
     },
     "output_type": "display_data"
    }
   ],
   "source": [
    "%%time\n",
    "# Bagging (Random Forest) on  on Character Level TF IDF Vectors\n",
    "accuracy4 = evaluate_model(RandomForestClassifier( min_samples_leaf=1,min_samples_split=3, n_estimators=200), X_train_tfidf_ngram_chars, y_train, X_test_tfidf_ngram_chars,y_test)"
   ]
  },
  {
   "cell_type": "code",
   "execution_count": 84,
   "metadata": {
    "ExecuteTime": {
     "end_time": "2019-06-17T02:36:08.104108Z",
     "start_time": "2019-06-17T02:36:08.097127Z"
    },
    "colab": {},
    "colab_type": "code",
    "id": "fVKeCH_VLtEZ"
   },
   "outputs": [],
   "source": [
    "results.loc['Random Forest'] = {\n",
    "    'Count Vectors': accuracy1,\n",
    "    'WordLevel TF-IDF': accuracy2,\n",
    "    'N-Gram Vectors': accuracy3,\n",
    "    'CharLevel Vectors': accuracy4}"
   ]
  },
  {
   "cell_type": "markdown",
   "metadata": {
    "colab_type": "text",
    "id": "oyVz4Q6ILtEa"
   },
   "source": [
    "### Boosting Models"
   ]
  },
  {
   "cell_type": "code",
   "execution_count": 85,
   "metadata": {
    "ExecuteTime": {
     "end_time": "2019-06-17T02:36:37.197296Z",
     "start_time": "2019-06-17T02:36:08.451184Z"
    },
    "colab": {},
    "colab_type": "code",
    "id": "8wGvHTg-LtEb",
    "outputId": "dcc31f90-b0f8-4f5d-c835-25be80638e70"
   },
   "outputs": [
    {
     "name": "stdout",
     "output_type": "stream",
     "text": [
      " Accuracy Score for train data = 0.7357411202185792\n",
      " Accuracy Score for test data = 0.7370218579234973\n",
      "Wall time: 38.6 s\n"
     ]
    }
   ],
   "source": [
    "%%time\n",
    "# Gradient Boosting on Count Vectors\n",
    "modelrf = GradientBoostingClassifier()\n",
    "modelrf.fit( X_train_count,y_train)\n",
    "\n",
    "print(f\" Accuracy Score for train data = {modelrf.score( X_train_count , y_train)}\")\n",
    "print(f\" Accuracy Score for test data = {modelrf.score(X_test_count, y_test)}\")"
   ]
  },
  {
   "cell_type": "code",
   "execution_count": 86,
   "metadata": {},
   "outputs": [
    {
     "name": "stdout",
     "output_type": "stream",
     "text": [
      "Fitting 5 folds for each of 10 candidates, totalling 50 fits\n"
     ]
    },
    {
     "data": {
      "text/plain": [
       "{'n_estimators': 300,\n",
       " 'min_samples_split': 2,\n",
       " 'min_samples_leaf': 1,\n",
       " 'max_depth': 120}"
      ]
     },
     "execution_count": 86,
     "metadata": {},
     "output_type": "execute_result"
    }
   ],
   "source": [
    "parameters = {\n",
    "    \"n_estimators\":[5,50,250,500],\n",
    "    \"max_depth\":[1,3,5,7,9],\n",
    "    \"learning_rate\":[0.01,0.1,1,10,100]\n",
    "}\n",
    "\n",
    "# Create a based model\n",
    "rf = RandomForestClassifier()\n",
    "# Instantiate the Random search model\n",
    "grid_search = RandomizedSearchCV(estimator = rf, param_distributions = param_grid, \n",
    "                          cv = 5, n_jobs = -1, verbose = 2)\n",
    "best_model = grid_search.fit(X_train_count,y_train)\n",
    "grid_search.best_params_"
   ]
  },
  {
   "cell_type": "code",
   "execution_count": 87,
   "metadata": {},
   "outputs": [
    {
     "name": "stdout",
     "output_type": "stream",
     "text": [
      " Accuracy Score for train data = 0.9930840163934426\n",
      " Accuracy Score for test data = 0.75\n",
      "Classification Report for test data\n",
      "              precision    recall  f1-score   support\n",
      "\n",
      "          -1       0.81      0.87      0.84      1889\n",
      "           0       0.57      0.46      0.51       580\n",
      "           1       0.65      0.61      0.63       459\n",
      "\n",
      "    accuracy                           0.75      2928\n",
      "   macro avg       0.68      0.65      0.66      2928\n",
      "weighted avg       0.74      0.75      0.74      2928\n",
      "\n"
     ]
    },
    {
     "name": "stderr",
     "output_type": "stream",
     "text": [
      "C:\\Users\\SULAKKHANA\\anaconda3\\lib\\site-packages\\sklearn\\utils\\validation.py:70: FutureWarning: Pass labels=[-1, 0, 1] as keyword args. From version 1.0 (renaming of 0.25) passing these as positional arguments will result in an error\n",
      "  warnings.warn(f\"Pass {args_msg} as keyword args. From version \"\n"
     ]
    },
    {
     "name": "stdout",
     "output_type": "stream",
     "text": [
      "Wall time: 5min 10s\n"
     ]
    },
    {
     "data": {
      "image/png": "[encoded data removed]",
      "text/plain": [
       "<Figure size 432x288 with 2 Axes>"
      ]
     },
     "metadata": {
      "needs_background": "light"
     },
     "output_type": "display_data"
    }
   ],
   "source": [
    "%%time\n",
    "# Gradient Boosting on Count Vectors\n",
    "accuracy1 = evaluate_model(GradientBoostingClassifier(max_depth=150, min_samples_leaf=1,min_samples_split=3, n_estimators=100), X_train_count, y_train, X_test_count,y_test)"
   ]
  },
  {
   "cell_type": "code",
   "execution_count": null,
   "metadata": {},
   "outputs": [],
   "source": []
  },
  {
   "cell_type": "code",
   "execution_count": 88,
   "metadata": {
    "ExecuteTime": {
     "end_time": "2019-06-17T02:36:52.852454Z",
     "start_time": "2019-06-17T02:36:37.714920Z"
    },
    "colab": {},
    "colab_type": "code",
    "id": "HJNwQf57LtEd",
    "outputId": "686abbc5-8745-4dca-c2e2-b665b9d19901"
   },
   "outputs": [
    {
     "name": "stdout",
     "output_type": "stream",
     "text": [
      " Accuracy Score for train data = 0.7482923497267759\n",
      " Accuracy Score for test data = 0.7414617486338798\n",
      "Wall time: 11.2 s\n"
     ]
    }
   ],
   "source": [
    "%%time\n",
    "# Gradient Boosting on Word Level TF IDF Vectors\n",
    "modelrf = GradientBoostingClassifier()\n",
    "modelrf.fit( X_train_tfidf,y_train)\n",
    "\n",
    "print(f\" Accuracy Score for train data = {modelrf.score( X_train_tfidf , y_train)}\")\n",
    "print(f\" Accuracy Score for test data = {modelrf.score(X_test_tfidf, y_test)}\")"
   ]
  },
  {
   "cell_type": "code",
   "execution_count": 89,
   "metadata": {},
   "outputs": [
    {
     "name": "stdout",
     "output_type": "stream",
     "text": [
      "Fitting 5 folds for each of 10 candidates, totalling 50 fits\n"
     ]
    },
    {
     "data": {
      "text/plain": [
       "{'n_estimators': 200,\n",
       " 'min_samples_split': 2,\n",
       " 'min_samples_leaf': 1,\n",
       " 'max_depth': 150}"
      ]
     },
     "execution_count": 89,
     "metadata": {},
     "output_type": "execute_result"
    }
   ],
   "source": [
    "parameters = {\n",
    "    \"n_estimators\":[5,50,250,500],\n",
    "    \"max_depth\":[1,3,5,7,9],\n",
    "    \"learning_rate\":[0.01,0.1,1,10,100]\n",
    "}\n",
    "\n",
    "# Create a based model\n",
    "rf = RandomForestClassifier()\n",
    "# Instantiate the Random search model\n",
    "grid_search = RandomizedSearchCV(estimator = rf, param_distributions = param_grid, \n",
    "                          cv = 5, n_jobs = -1, verbose = 2)\n",
    "best_model = grid_search.fit(X_train_tfidf,y_train)\n",
    "grid_search.best_params_"
   ]
  },
  {
   "cell_type": "code",
   "execution_count": 90,
   "metadata": {},
   "outputs": [
    {
     "name": "stdout",
     "output_type": "stream",
     "text": [
      " Accuracy Score for train data = 0.991547131147541\n",
      " Accuracy Score for test data = 0.7547814207650273\n",
      "Classification Report for test data\n",
      "              precision    recall  f1-score   support\n",
      "\n",
      "          -1       0.80      0.91      0.85      1889\n",
      "           0       0.59      0.41      0.48       580\n",
      "           1       0.68      0.55      0.61       459\n",
      "\n",
      "    accuracy                           0.75      2928\n",
      "   macro avg       0.69      0.62      0.65      2928\n",
      "weighted avg       0.74      0.75      0.74      2928\n",
      "\n"
     ]
    },
    {
     "name": "stderr",
     "output_type": "stream",
     "text": [
      "C:\\Users\\SULAKKHANA\\anaconda3\\lib\\site-packages\\sklearn\\utils\\validation.py:70: FutureWarning: Pass labels=[-1, 0, 1] as keyword args. From version 1.0 (renaming of 0.25) passing these as positional arguments will result in an error\n",
      "  warnings.warn(f\"Pass {args_msg} as keyword args. From version \"\n"
     ]
    },
    {
     "name": "stdout",
     "output_type": "stream",
     "text": [
      "GB, WordLevel TF-IDF : 0.7548\n",
      "\n",
      "Wall time: 12min 56s\n"
     ]
    },
    {
     "data": {
      "image/png": "[encoded data removed]",
      "text/plain": [
       "<Figure size 432x288 with 2 Axes>"
      ]
     },
     "metadata": {
      "needs_background": "light"
     },
     "output_type": "display_data"
    }
   ],
   "source": [
    "%%time\n",
    "# Gradient Boosting on Word Level TF IDF Vectors\n",
    "accuracy2 = evaluate_model(GradientBoostingClassifier(max_depth=150, min_samples_leaf=1,min_samples_split=2, n_estimators=250), X_train_tfidf, y_train, X_test_tfidf,y_test)\n",
    "print('GB, WordLevel TF-IDF : %.4f\\n' % accuracy2)"
   ]
  },
  {
   "cell_type": "code",
   "execution_count": 91,
   "metadata": {
    "ExecuteTime": {
     "end_time": "2019-06-17T02:37:02.608379Z",
     "start_time": "2019-06-17T02:36:53.252355Z"
    },
    "colab": {},
    "colab_type": "code",
    "id": "iyPqLMgkLtEe",
    "outputId": "b7c87e04-f724-4ccf-e02e-28beb7e40654"
   },
   "outputs": [
    {
     "name": "stdout",
     "output_type": "stream",
     "text": [
      " Accuracy Score for train data = 0.6649590163934426\n",
      " Accuracy Score for test data = 0.6728142076502732\n",
      "Classification Report for test data\n",
      "              precision    recall  f1-score   support\n",
      "\n",
      "          -1       0.68      0.97      0.80      1889\n",
      "           0       0.54      0.13      0.20       580\n",
      "           1       0.84      0.12      0.21       459\n",
      "\n",
      "    accuracy                           0.67      2928\n",
      "   macro avg       0.68      0.41      0.40      2928\n",
      "weighted avg       0.67      0.67      0.59      2928\n",
      "\n",
      "GB, N-Gram Vectors   : 0.6728\n",
      "\n",
      "Wall time: 4.07 s\n"
     ]
    },
    {
     "name": "stderr",
     "output_type": "stream",
     "text": [
      "C:\\Users\\SULAKKHANA\\anaconda3\\lib\\site-packages\\sklearn\\utils\\validation.py:70: FutureWarning: Pass labels=[-1, 0, 1] as keyword args. From version 1.0 (renaming of 0.25) passing these as positional arguments will result in an error\n",
      "  warnings.warn(f\"Pass {args_msg} as keyword args. From version \"\n"
     ]
    },
    {
     "data": {
      "image/png": "[encoded data removed]",
      "text/plain": [
       "<Figure size 432x288 with 2 Axes>"
      ]
     },
     "metadata": {
      "needs_background": "light"
     },
     "output_type": "display_data"
    }
   ],
   "source": [
    "%%time\n",
    "# Gradient Boosting on Ngram Level TF IDF Vectors\n",
    "accuracy3 = evaluate_model(GradientBoostingClassifier(), X_train_tfidf_ngram, y_train, X_test_tfidf_ngram,y_test)\n",
    "print('GB, N-Gram Vectors   : %.4f\\n' % accuracy3)"
   ]
  },
  {
   "cell_type": "code",
   "execution_count": 95,
   "metadata": {
    "ExecuteTime": {
     "end_time": "2019-06-17T02:39:14.314194Z",
     "start_time": "2019-06-17T02:37:03.039224Z"
    },
    "colab": {},
    "colab_type": "code",
    "id": "1KYdyatTLtEg",
    "outputId": "aa4f303e-76ff-47e6-a04f-7e311e1848ad"
   },
   "outputs": [
    {
     "name": "stdout",
     "output_type": "stream",
     "text": [
      " Accuracy Score for train data = 0.780396174863388\n",
      " Accuracy Score for test data = 0.7459016393442623\n",
      "Classification Report for test data\n",
      "              precision    recall  f1-score   support\n",
      "\n",
      "          -1       0.77      0.92      0.84      1889\n",
      "           0       0.57      0.32      0.41       580\n",
      "           1       0.74      0.56      0.64       459\n",
      "\n",
      "    accuracy                           0.75      2928\n",
      "   macro avg       0.70      0.60      0.63      2928\n",
      "weighted avg       0.73      0.75      0.72      2928\n",
      "\n",
      "GB, CharLevel Vectors: 0.7459\n",
      "\n",
      "Wall time: 1min 14s\n"
     ]
    },
    {
     "name": "stderr",
     "output_type": "stream",
     "text": [
      "C:\\Users\\SULAKKHANA\\anaconda3\\lib\\site-packages\\sklearn\\utils\\validation.py:70: FutureWarning: Pass labels=[-1, 0, 1] as keyword args. From version 1.0 (renaming of 0.25) passing these as positional arguments will result in an error\n",
      "  warnings.warn(f\"Pass {args_msg} as keyword args. From version \"\n"
     ]
    },
    {
     "data": {
      "image/png": "[encoded data removed]",
      "text/plain": [
       "<Figure size 432x288 with 2 Axes>"
      ]
     },
     "metadata": {
      "needs_background": "light"
     },
     "output_type": "display_data"
    }
   ],
   "source": [
    "%%time\n",
    "# Gradient Boosting on Character Level TF IDF Vectors\n",
    "accuracy4 = evaluate_model(GradientBoostingClassifier(), X_train_tfidf_ngram_chars, y_train, X_test_tfidf_ngram_chars,y_test)\n",
    "print('GB, CharLevel Vectors: %.4f\\n' % accuracy4)"
   ]
  },
  {
   "cell_type": "code",
   "execution_count": 96,
   "metadata": {
    "ExecuteTime": {
     "end_time": "2019-06-17T02:39:14.683222Z",
     "start_time": "2019-06-17T02:39:14.675213Z"
    },
    "colab": {},
    "colab_type": "code",
    "id": "AC0hWO59LtEj",
    "scrolled": true
   },
   "outputs": [],
   "source": [
    "results.loc['Gradient Boosting'] = {\n",
    "    'Count Vectors': accuracy1,\n",
    "    'WordLevel TF-IDF': accuracy2,\n",
    "    'N-Gram Vectors': accuracy3,\n",
    "    'CharLevel Vectors': accuracy4}"
   ]
  },
  {
   "cell_type": "code",
   "execution_count": 97,
   "metadata": {
    "ExecuteTime": {
     "end_time": "2019-06-17T02:39:15.024279Z",
     "start_time": "2019-06-17T02:39:15.010319Z"
    },
    "colab": {},
    "colab_type": "code",
    "id": "b9fY4J7XLtEk",
    "outputId": "ea4a8ddf-5b37-4cb9-da79-1920e1967b03"
   },
   "outputs": [
    {
     "data": {
      "text/html": [
       "<div>\n",
       "<style scoped>\n",
       "    .dataframe tbody tr th:only-of-type {\n",
       "        vertical-align: middle;\n",
       "    }\n",
       "\n",
       "    .dataframe tbody tr th {\n",
       "        vertical-align: top;\n",
       "    }\n",
       "\n",
       "    .dataframe thead th {\n",
       "        text-align: right;\n",
       "    }\n",
       "</style>\n",
       "<table border=\"1\" class=\"dataframe\">\n",
       "  <thead>\n",
       "    <tr style=\"text-align: right;\">\n",
       "      <th></th>\n",
       "      <th>Count Vectors</th>\n",
       "      <th>WordLevel TF-IDF</th>\n",
       "      <th>N-Gram Vectors</th>\n",
       "      <th>CharLevel Vectors</th>\n",
       "    </tr>\n",
       "  </thead>\n",
       "  <tbody>\n",
       "    <tr>\n",
       "      <th>Naïve Bayes</th>\n",
       "      <td>0.769809</td>\n",
       "      <td>0.769809</td>\n",
       "      <td>0.702186</td>\n",
       "      <td>0.751708</td>\n",
       "    </tr>\n",
       "    <tr>\n",
       "      <th>Logistic Regression</th>\n",
       "      <td>0.797131</td>\n",
       "      <td>0.793033</td>\n",
       "      <td>0.695697</td>\n",
       "      <td>0.784495</td>\n",
       "    </tr>\n",
       "    <tr>\n",
       "      <th>Support Vector Machine</th>\n",
       "      <td>0.778689</td>\n",
       "      <td>0.789617</td>\n",
       "      <td>0.689891</td>\n",
       "      <td>0.778689</td>\n",
       "    </tr>\n",
       "    <tr>\n",
       "      <th>Random Forest</th>\n",
       "      <td>0.769126</td>\n",
       "      <td>0.766393</td>\n",
       "      <td>0.686134</td>\n",
       "      <td>0.743169</td>\n",
       "    </tr>\n",
       "    <tr>\n",
       "      <th>Gradient Boosting</th>\n",
       "      <td>0.750000</td>\n",
       "      <td>0.754781</td>\n",
       "      <td>0.672814</td>\n",
       "      <td>0.745902</td>\n",
       "    </tr>\n",
       "  </tbody>\n",
       "</table>\n",
       "</div>"
      ],
      "text/plain": [
       "                        Count Vectors  WordLevel TF-IDF  N-Gram Vectors  \\\n",
       "Naïve Bayes                  0.769809          0.769809        0.702186   \n",
       "Logistic Regression          0.797131          0.793033        0.695697   \n",
       "Support Vector Machine       0.778689          0.789617        0.689891   \n",
       "Random Forest                0.769126          0.766393        0.686134   \n",
       "Gradient Boosting            0.750000          0.754781        0.672814   \n",
       "\n",
       "                        CharLevel Vectors  \n",
       "Naïve Bayes                      0.751708  \n",
       "Logistic Regression              0.784495  \n",
       "Support Vector Machine           0.778689  \n",
       "Random Forest                    0.743169  \n",
       "Gradient Boosting                0.745902  "
      ]
     },
     "execution_count": 97,
     "metadata": {},
     "output_type": "execute_result"
    }
   ],
   "source": [
    "results"
   ]
  },
  {
   "cell_type": "code",
   "execution_count": null,
   "metadata": {},
   "outputs": [],
   "source": []
  }
 ],
 "metadata": {
  "colab": {
   "collapsed_sections": [
    "_Pck1cuvLtDH",
    "mQCAUFWYLtDb",
    "OXwLriDpLtDq",
    "-2oNfajULtD4",
    "q1wYto68LtEE",
    "gLGxWK0yLtEO"
   ],
   "name": "IOD_Lab-9_7.ipynb",
   "provenance": []
  },
  "kernelspec": {
   "display_name": "Python 3",
   "language": "python",
   "name": "python3"
  },
  "language_info": {
   "codemirror_mode": {
    "name": "ipython",
    "version": 3
   },
   "file_extension": ".py",
   "mimetype": "text/x-python",
   "name": "python",
   "nbconvert_exporter": "python",
   "pygments_lexer": "ipython3",
   "version": "3.8.8"
  },
  "varInspector": {
   "cols": {
    "lenName": 16,
    "lenType": 16,
    "lenVar": 40
   },
   "kernels_config": {
    "python": {
     "delete_cmd_postfix": "",
     "delete_cmd_prefix": "del ",
     "library": "var_list.py",
     "varRefreshCmd": "print(var_dic_list())"
    },
    "r": {
     "delete_cmd_postfix": ") ",
     "delete_cmd_prefix": "rm(",
     "library": "var_list.r",
     "varRefreshCmd": "cat(var_dic_list()) "
    }
   },
   "types_to_exclude": [
    "module",
    "function",
    "builtin_function_or_method",
    "instance",
    "_Feature"
   ],
   "window_display": false
  }
 },
 "nbformat": 4,
 "nbformat_minor": 1
}
